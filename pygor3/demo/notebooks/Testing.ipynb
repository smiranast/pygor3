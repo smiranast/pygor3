{
 "cells": [
  {
   "cell_type": "code",
   "execution_count": 26,
   "metadata": {},
   "outputs": [],
   "source": [
    "import pygor3 as p3\n",
    "\n",
    "task0 = p3.IgorTask()\n",
    "weirdos_path = \"/home/alfaceor/Dropbox/PosDoc/IGoR/dev/MyGithub/pygor3/demo/Francesco/weirdos/\"\n",
    "path=weirdos_path+\"/\"+\"MouseTRB\"\n",
    "task0.update_model_filenames(model_path=path)"
   ]
  },
  {
   "cell_type": "markdown",
   "metadata": {},
   "source": [
    "## Load model and genome references"
   ]
  },
  {
   "cell_type": "code",
   "execution_count": 41,
   "metadata": {},
   "outputs": [],
   "source": [
    "task0.load_IgorModel()\n",
    "task0.load_IgorRefGenome()\n",
    "# mdl = p3.IgorModel(model_parms_file=task0.igor_model_parms_file, model_marginals_file=task0.igor_model_marginals_file)"
   ]
  },
  {
   "cell_type": "code",
   "execution_count": 1,
   "metadata": {},
   "outputs": [
    {
     "ename": "ValueError",
     "evalue": "shape mismatch: objects cannot be broadcast to a single shape",
     "output_type": "error",
     "traceback": [
      "\u001b[0;31m---------------------------------------------------------------------------\u001b[0m",
      "\u001b[0;31mValueError\u001b[0m                                Traceback (most recent call last)",
      "\u001b[0;32m<ipython-input-1-9b011ced3004>\u001b[0m in \u001b[0;36m<module>\u001b[0;34m\u001b[0m\n\u001b[1;32m      6\u001b[0m \u001b[0mfig\u001b[0m\u001b[0;34m,\u001b[0m \u001b[0max\u001b[0m \u001b[0;34m=\u001b[0m \u001b[0mplt\u001b[0m\u001b[0;34m.\u001b[0m\u001b[0msubplots\u001b[0m\u001b[0;34m(\u001b[0m\u001b[0;34m)\u001b[0m\u001b[0;34m\u001b[0m\u001b[0;34m\u001b[0m\u001b[0m\n\u001b[1;32m      7\u001b[0m \u001b[0;34m\u001b[0m\u001b[0m\n\u001b[0;32m----> 8\u001b[0;31m \u001b[0max\u001b[0m\u001b[0;34m.\u001b[0m\u001b[0mbar\u001b[0m\u001b[0;34m(\u001b[0m\u001b[0mbins\u001b[0m\u001b[0;34m[\u001b[0m\u001b[0;34m:\u001b[0m\u001b[0;34m-\u001b[0m\u001b[0;36m1\u001b[0m\u001b[0;34m]\u001b[0m\u001b[0;34m,\u001b[0m \u001b[0mfreq\u001b[0m\u001b[0;34m,\u001b[0m \u001b[0mwidth\u001b[0m\u001b[0;34m=\u001b[0m\u001b[0mnp\u001b[0m\u001b[0;34m.\u001b[0m\u001b[0mdiff\u001b[0m\u001b[0;34m(\u001b[0m\u001b[0mbins\u001b[0m\u001b[0;34m)\u001b[0m\u001b[0;34m,\u001b[0m \u001b[0medgecolor\u001b[0m\u001b[0;34m=\u001b[0m\u001b[0;34m\"black\"\u001b[0m\u001b[0;34m,\u001b[0m \u001b[0malign\u001b[0m\u001b[0;34m=\u001b[0m\u001b[0;34m\"edge\"\u001b[0m\u001b[0;34m)\u001b[0m\u001b[0;34m\u001b[0m\u001b[0;34m\u001b[0m\u001b[0m\n\u001b[0m",
      "\u001b[0;32m~/anaconda3/envs/statbiophys-dev/lib/python3.7/site-packages/matplotlib/__init__.py\u001b[0m in \u001b[0;36minner\u001b[0;34m(ax, data, *args, **kwargs)\u001b[0m\n\u001b[1;32m   1359\u001b[0m     \u001b[0;32mdef\u001b[0m \u001b[0minner\u001b[0m\u001b[0;34m(\u001b[0m\u001b[0max\u001b[0m\u001b[0;34m,\u001b[0m \u001b[0;34m*\u001b[0m\u001b[0margs\u001b[0m\u001b[0;34m,\u001b[0m \u001b[0mdata\u001b[0m\u001b[0;34m=\u001b[0m\u001b[0;32mNone\u001b[0m\u001b[0;34m,\u001b[0m \u001b[0;34m**\u001b[0m\u001b[0mkwargs\u001b[0m\u001b[0;34m)\u001b[0m\u001b[0;34m:\u001b[0m\u001b[0;34m\u001b[0m\u001b[0;34m\u001b[0m\u001b[0m\n\u001b[1;32m   1360\u001b[0m         \u001b[0;32mif\u001b[0m \u001b[0mdata\u001b[0m \u001b[0;32mis\u001b[0m \u001b[0;32mNone\u001b[0m\u001b[0;34m:\u001b[0m\u001b[0;34m\u001b[0m\u001b[0;34m\u001b[0m\u001b[0m\n\u001b[0;32m-> 1361\u001b[0;31m             \u001b[0;32mreturn\u001b[0m \u001b[0mfunc\u001b[0m\u001b[0;34m(\u001b[0m\u001b[0max\u001b[0m\u001b[0;34m,\u001b[0m \u001b[0;34m*\u001b[0m\u001b[0mmap\u001b[0m\u001b[0;34m(\u001b[0m\u001b[0msanitize_sequence\u001b[0m\u001b[0;34m,\u001b[0m \u001b[0margs\u001b[0m\u001b[0;34m)\u001b[0m\u001b[0;34m,\u001b[0m \u001b[0;34m**\u001b[0m\u001b[0mkwargs\u001b[0m\u001b[0;34m)\u001b[0m\u001b[0;34m\u001b[0m\u001b[0;34m\u001b[0m\u001b[0m\n\u001b[0m\u001b[1;32m   1362\u001b[0m \u001b[0;34m\u001b[0m\u001b[0m\n\u001b[1;32m   1363\u001b[0m         \u001b[0mbound\u001b[0m \u001b[0;34m=\u001b[0m \u001b[0mnew_sig\u001b[0m\u001b[0;34m.\u001b[0m\u001b[0mbind\u001b[0m\u001b[0;34m(\u001b[0m\u001b[0max\u001b[0m\u001b[0;34m,\u001b[0m \u001b[0;34m*\u001b[0m\u001b[0margs\u001b[0m\u001b[0;34m,\u001b[0m \u001b[0;34m**\u001b[0m\u001b[0mkwargs\u001b[0m\u001b[0;34m)\u001b[0m\u001b[0;34m\u001b[0m\u001b[0;34m\u001b[0m\u001b[0m\n",
      "\u001b[0;32m~/anaconda3/envs/statbiophys-dev/lib/python3.7/site-packages/matplotlib/axes/_axes.py\u001b[0m in \u001b[0;36mbar\u001b[0;34m(self, x, height, width, bottom, align, **kwargs)\u001b[0m\n\u001b[1;32m   2304\u001b[0m         x, height, width, y, linewidth, hatch = np.broadcast_arrays(\n\u001b[1;32m   2305\u001b[0m             \u001b[0;31m# Make args iterable too.\u001b[0m\u001b[0;34m\u001b[0m\u001b[0;34m\u001b[0m\u001b[0;34m\u001b[0m\u001b[0m\n\u001b[0;32m-> 2306\u001b[0;31m             np.atleast_1d(x), height, width, y, linewidth, hatch)\n\u001b[0m\u001b[1;32m   2307\u001b[0m \u001b[0;34m\u001b[0m\u001b[0m\n\u001b[1;32m   2308\u001b[0m         \u001b[0;31m# Now that units have been converted, set the tick locations.\u001b[0m\u001b[0;34m\u001b[0m\u001b[0;34m\u001b[0m\u001b[0;34m\u001b[0m\u001b[0m\n",
      "\u001b[0;32m<__array_function__ internals>\u001b[0m in \u001b[0;36mbroadcast_arrays\u001b[0;34m(*args, **kwargs)\u001b[0m\n",
      "\u001b[0;32m~/anaconda3/envs/statbiophys-dev/lib/python3.7/site-packages/numpy/lib/stride_tricks.py\u001b[0m in \u001b[0;36mbroadcast_arrays\u001b[0;34m(subok, *args)\u001b[0m\n\u001b[1;32m    536\u001b[0m     \u001b[0margs\u001b[0m \u001b[0;34m=\u001b[0m \u001b[0;34m[\u001b[0m\u001b[0mnp\u001b[0m\u001b[0;34m.\u001b[0m\u001b[0marray\u001b[0m\u001b[0;34m(\u001b[0m\u001b[0m_m\u001b[0m\u001b[0;34m,\u001b[0m \u001b[0mcopy\u001b[0m\u001b[0;34m=\u001b[0m\u001b[0;32mFalse\u001b[0m\u001b[0;34m,\u001b[0m \u001b[0msubok\u001b[0m\u001b[0;34m=\u001b[0m\u001b[0msubok\u001b[0m\u001b[0;34m)\u001b[0m \u001b[0;32mfor\u001b[0m \u001b[0m_m\u001b[0m \u001b[0;32min\u001b[0m \u001b[0margs\u001b[0m\u001b[0;34m]\u001b[0m\u001b[0;34m\u001b[0m\u001b[0;34m\u001b[0m\u001b[0m\n\u001b[1;32m    537\u001b[0m \u001b[0;34m\u001b[0m\u001b[0m\n\u001b[0;32m--> 538\u001b[0;31m     \u001b[0mshape\u001b[0m \u001b[0;34m=\u001b[0m \u001b[0m_broadcast_shape\u001b[0m\u001b[0;34m(\u001b[0m\u001b[0;34m*\u001b[0m\u001b[0margs\u001b[0m\u001b[0;34m)\u001b[0m\u001b[0;34m\u001b[0m\u001b[0;34m\u001b[0m\u001b[0m\n\u001b[0m\u001b[1;32m    539\u001b[0m \u001b[0;34m\u001b[0m\u001b[0m\n\u001b[1;32m    540\u001b[0m     \u001b[0;32mif\u001b[0m \u001b[0mall\u001b[0m\u001b[0;34m(\u001b[0m\u001b[0marray\u001b[0m\u001b[0;34m.\u001b[0m\u001b[0mshape\u001b[0m \u001b[0;34m==\u001b[0m \u001b[0mshape\u001b[0m \u001b[0;32mfor\u001b[0m \u001b[0marray\u001b[0m \u001b[0;32min\u001b[0m \u001b[0margs\u001b[0m\u001b[0;34m)\u001b[0m\u001b[0;34m:\u001b[0m\u001b[0;34m\u001b[0m\u001b[0;34m\u001b[0m\u001b[0m\n",
      "\u001b[0;32m~/anaconda3/envs/statbiophys-dev/lib/python3.7/site-packages/numpy/lib/stride_tricks.py\u001b[0m in \u001b[0;36m_broadcast_shape\u001b[0;34m(*args)\u001b[0m\n\u001b[1;32m    418\u001b[0m     \u001b[0;31m# use the old-iterator because np.nditer does not handle size 0 arrays\u001b[0m\u001b[0;34m\u001b[0m\u001b[0;34m\u001b[0m\u001b[0;34m\u001b[0m\u001b[0m\n\u001b[1;32m    419\u001b[0m     \u001b[0;31m# consistently\u001b[0m\u001b[0;34m\u001b[0m\u001b[0;34m\u001b[0m\u001b[0;34m\u001b[0m\u001b[0m\n\u001b[0;32m--> 420\u001b[0;31m     \u001b[0mb\u001b[0m \u001b[0;34m=\u001b[0m \u001b[0mnp\u001b[0m\u001b[0;34m.\u001b[0m\u001b[0mbroadcast\u001b[0m\u001b[0;34m(\u001b[0m\u001b[0;34m*\u001b[0m\u001b[0margs\u001b[0m\u001b[0;34m[\u001b[0m\u001b[0;34m:\u001b[0m\u001b[0;36m32\u001b[0m\u001b[0;34m]\u001b[0m\u001b[0;34m)\u001b[0m\u001b[0;34m\u001b[0m\u001b[0;34m\u001b[0m\u001b[0m\n\u001b[0m\u001b[1;32m    421\u001b[0m     \u001b[0;31m# unfortunately, it cannot handle 32 or more arguments directly\u001b[0m\u001b[0;34m\u001b[0m\u001b[0;34m\u001b[0m\u001b[0;34m\u001b[0m\u001b[0m\n\u001b[1;32m    422\u001b[0m     \u001b[0;32mfor\u001b[0m \u001b[0mpos\u001b[0m \u001b[0;32min\u001b[0m \u001b[0mrange\u001b[0m\u001b[0;34m(\u001b[0m\u001b[0;36m32\u001b[0m\u001b[0;34m,\u001b[0m \u001b[0mlen\u001b[0m\u001b[0;34m(\u001b[0m\u001b[0margs\u001b[0m\u001b[0;34m)\u001b[0m\u001b[0;34m,\u001b[0m \u001b[0;36m31\u001b[0m\u001b[0;34m)\u001b[0m\u001b[0;34m:\u001b[0m\u001b[0;34m\u001b[0m\u001b[0;34m\u001b[0m\u001b[0m\n",
      "\u001b[0;31mValueError\u001b[0m: shape mismatch: objects cannot be broadcast to a single shape"
     ]
    },
    {
     "data": {
      "image/png": "[encoded data removed]",
      "text/plain": [
       "<Figure size 432x288 with 1 Axes>"
      ]
     },
     "metadata": {
      "needs_background": "light"
     },
     "output_type": "display_data"
    }
   ],
   "source": [
    "import matplotlib.pyplot as plt\n",
    "import numpy as np\n",
    "bins=range(10)\n",
    "\n",
    "freq = np.random.random(10)\n",
    "fig, ax = plt.subplots()\n",
    "\n",
    "ax.bar(bins[:-1], freq, width=np.diff(bins), edgecolor=\"black\", align=\"edge\")"
   ]
  },
  {
   "cell_type": "markdown",
   "metadata": {},
   "source": [
    "## Check the structure of the model"
   ]
  },
  {
   "cell_type": "code",
   "execution_count": 15,
   "metadata": {},
   "outputs": [
    {
     "name": "stdout",
     "output_type": "stream",
     "text": [
      "Parms filename:  /home/olivares/.local/share/igor/models/human/tcr_beta/models/model_parms.txt\n",
      "Marginals filename:  /home/olivares/.local/share/igor/models/human/tcr_beta/models/model_marginals.txt\n"
     ]
    },
    {
     "data": {
      "text/plain": [
       "(<xarray.DataArray (v_choice: 89)>\n",
       " array([4.88741e-03, 9.32369e-03, 9.32259e-03, 1.30320e-02, 3.43430e-04,\n",
       "        8.50694e-03, 7.71250e-03, 6.12276e-04, 5.06104e-03, 4.59289e-05,\n",
       "        4.48245e-03, 8.16181e-03, 7.00053e-04, 7.77164e-03, 1.16174e-02,\n",
       "        1.16158e-02, 1.13872e-02, 1.06555e-02, 2.36870e-03, 2.28368e-02,\n",
       "        1.56715e-04, 4.58447e-03, 0.00000e+00, 4.88782e-05, 0.00000e+00,\n",
       "        1.54500e-02, 2.74050e-02, 5.18979e-03, 4.80289e-03, 1.62765e-01,\n",
       "        6.61229e-02, 2.07174e-02, 7.36226e-04, 2.47846e-37, 1.07472e-02,\n",
       "        2.03820e-02, 9.53245e-03, 9.53006e-03, 2.35607e-03, 2.39208e-03,\n",
       "        2.39208e-03, 2.45219e-03, 1.66904e-02, 2.98807e-03, 2.98804e-03,\n",
       "        1.59156e-02, 1.25468e-02, 9.06711e-03, 9.06936e-03, 9.76534e-02,\n",
       "        9.57746e-03, 9.17011e-03, 1.14472e-02, 1.14458e-02, 9.77554e-03,\n",
       "        1.89924e-02, 3.97949e-04, 1.70242e-03, 8.91336e-03, 6.73926e-03,\n",
       "        6.69167e-03, 2.94257e-02, 1.38534e-02, 4.19227e-03, 4.19275e-03,\n",
       "        2.48630e-03, 4.83399e-04, 1.29795e-07, 6.49975e-05, 1.94736e-02,\n",
       "        1.94728e-02, 0.00000e+00, 3.91595e-03, 3.96230e-02, 0.00000e+00,\n",
       "        0.00000e+00, 6.73805e-05, 2.90073e-02, 9.28490e-03, 5.32118e-03,\n",
       "        8.18432e-03, 1.07035e-03, 3.64764e-04, 3.26790e-03, 3.26801e-03,\n",
       "        3.26801e-03, 3.26809e-03, 8.23600e-04, 1.56399e-02])\n",
       " Coordinates:\n",
       "   * v_choice       (v_choice) int64 0 1 2 3 4 5 6 7 ... 81 82 83 84 85 86 87 88\n",
       "     lbl__v_choice  (v_choice) object 'U66059|TRBV1*01|Homo sapiens|P|V-REGION...\n",
       "     seq__v_choice  (v_choice) object 'GATACTGGAATTACCCAGACACCAAAATACCTGGTCACA...\n",
       " Attributes:\n",
       "     nickname:    v_choice\n",
       "     event_type:  GeneChoice\n",
       "     seq_type:    V_gene\n",
       "     seq_side:    Undefined_side\n",
       "     priority:    7\n",
       "     parents:     []\n",
       "     childs:      ['v_3_del', 'd_gene', 'j_choice'],\n",
       " id\n",
       " 1     270\n",
       " 2     270\n",
       " 3     270\n",
       " 4     270\n",
       " 5     270\n",
       "      ... \n",
       " 84    273\n",
       " 85    273\n",
       " 86    273\n",
       " 87    189\n",
       " 88    270\n",
       " Name: anchor_index, Length: 86, dtype: int64)"
      ]
     },
     "execution_count": 15,
     "metadata": {},
     "output_type": "execute_result"
    }
   ],
   "source": [
    "import pygor3 as p3\n",
    "mdl = p3.IgorModel.load_default(\"human\", \"tcr_beta\")\n",
    "mdl['v_choice'], mdl.V_anchors"
   ]
  },
  {
   "cell_type": "code",
   "execution_count": 22,
   "metadata": {},
   "outputs": [
    {
     "data": {
      "text/plain": [
       "<AxesSubplot:xlabel='v_choice'>"
      ]
     },
     "execution_count": 22,
     "metadata": {},
     "output_type": "execute_result"
    },
    {
     "data": {
      "image/png": "[encoded data removed]",
      "text/plain": [
       "<Figure size 432x288 with 1 Axes>"
      ]
     },
     "metadata": {
      "needs_background": "light"
     },
     "output_type": "display_data"
    }
   ],
   "source": [
    "da_n_V = mdl['v_choice'].to_dataframe('P')\n",
    "da_n_V['anchors'] = mdl.V_anchors\n",
    "da_n_V\n",
    "da_n_V[\"n_V\"] = da_n_V.apply(lambda x: len(x['seq__v_choice']) - x['anchors'], axis=1 )\n",
    "da_n_V['n_V'].plot()"
   ]
  },
  {
   "cell_type": "code",
   "execution_count": null,
   "metadata": {},
   "outputs": [],
   "source": []
  },
  {
   "cell_type": "code",
   "execution_count": 8,
   "metadata": {},
   "outputs": [
    {
     "data": {
      "text/plain": [
       "id\n",
       "1     270\n",
       "2     270\n",
       "3     270\n",
       "4     270\n",
       "5     270\n",
       "     ... \n",
       "84    273\n",
       "85    273\n",
       "86    273\n",
       "87    189\n",
       "88    270\n",
       "Name: anchor_index, Length: 86, dtype: int64"
      ]
     },
     "execution_count": 8,
     "metadata": {},
     "output_type": "execute_result"
    }
   ],
   "source": [
    "da_n_V.to_dataframe('P')['anchors'] = mdl.V_anchors"
   ]
  },
  {
   "cell_type": "markdown",
   "metadata": {},
   "source": [
    "## Check genomic information dataframe"
   ]
  },
  {
   "cell_type": "code",
   "execution_count": 29,
   "metadata": {},
   "outputs": [
    {
     "data": {
      "text/html": [
       "<div>\n",
       "<style scoped>\n",
       "    .dataframe tbody tr th:only-of-type {\n",
       "        vertical-align: middle;\n",
       "    }\n",
       "\n",
       "    .dataframe tbody tr th {\n",
       "        vertical-align: top;\n",
       "    }\n",
       "\n",
       "    .dataframe thead th {\n",
       "        text-align: right;\n",
       "    }\n",
       "</style>\n",
       "<table border=\"1\" class=\"dataframe\">\n",
       "  <thead>\n",
       "    <tr style=\"text-align: right;\">\n",
       "      <th></th>\n",
       "      <th>name</th>\n",
       "      <th>value</th>\n",
       "    </tr>\n",
       "  </thead>\n",
       "  <tbody>\n",
       "    <tr>\n",
       "      <th>0</th>\n",
       "      <td>TRBD1*01</td>\n",
       "      <td>GGGACAGGGGGC</td>\n",
       "    </tr>\n",
       "    <tr>\n",
       "      <th>1</th>\n",
       "      <td>TRBD2*01</td>\n",
       "      <td>GGGACTGGGGGGGC</td>\n",
       "    </tr>\n",
       "  </tbody>\n",
       "</table>\n",
       "</div>"
      ],
      "text/plain": [
       "       name           value\n",
       "0  TRBD1*01    GGGACAGGGGGC\n",
       "1  TRBD2*01  GGGACTGGGGGGGC"
      ]
     },
     "execution_count": 29,
     "metadata": {},
     "output_type": "execute_result"
    }
   ],
   "source": [
    "task0.genomes.df_genomicDs"
   ]
  },
  {
   "cell_type": "code",
   "execution_count": 30,
   "metadata": {},
   "outputs": [
    {
     "data": {
      "text/html": [
       "<div>\n",
       "<style scoped>\n",
       "    .dataframe tbody tr th:only-of-type {\n",
       "        vertical-align: middle;\n",
       "    }\n",
       "\n",
       "    .dataframe tbody tr th {\n",
       "        vertical-align: top;\n",
       "    }\n",
       "\n",
       "    .dataframe thead th {\n",
       "        text-align: right;\n",
       "    }\n",
       "</style>\n",
       "<table border=\"1\" class=\"dataframe\">\n",
       "  <thead>\n",
       "    <tr style=\"text-align: right;\">\n",
       "      <th></th>\n",
       "      <th>name</th>\n",
       "      <th>value</th>\n",
       "      <th>anchor_index</th>\n",
       "      <th>function</th>\n",
       "    </tr>\n",
       "  </thead>\n",
       "  <tbody>\n",
       "    <tr>\n",
       "      <th>0</th>\n",
       "      <td>TRBJ1-1*01</td>\n",
       "      <td>CAAACACAGAAGTCTTCTTTGGTAAAGGAACCAGACTCACAGTTGTAG</td>\n",
       "      <td>17</td>\n",
       "      <td>F</td>\n",
       "    </tr>\n",
       "    <tr>\n",
       "      <th>1</th>\n",
       "      <td>TRBJ1-2*01</td>\n",
       "      <td>CAAACTCCGACTACACCTTCGGCTCAGGGACCAGGCTTTTGGTAATAG</td>\n",
       "      <td>17</td>\n",
       "      <td>F</td>\n",
       "    </tr>\n",
       "    <tr>\n",
       "      <th>2</th>\n",
       "      <td>TRBJ1-3*01</td>\n",
       "      <td>TTCTGGAAATACGCTCTATTTTGGAGAAGGAAGCCGGCTCATTGTT...</td>\n",
       "      <td>19</td>\n",
       "      <td>F</td>\n",
       "    </tr>\n",
       "    <tr>\n",
       "      <th>3</th>\n",
       "      <td>TRBJ1-4*01</td>\n",
       "      <td>TTTCCAACGAAAGATTATTTTTCGGTCATGGAACCAAGCTGTCTGT...</td>\n",
       "      <td>20</td>\n",
       "      <td>F</td>\n",
       "    </tr>\n",
       "    <tr>\n",
       "      <th>4</th>\n",
       "      <td>TRBJ1-5*01</td>\n",
       "      <td>TAACAACCAGGCTCCGCTTTTTGGAGAGGGGACTCGACTCTCTGTT...</td>\n",
       "      <td>19</td>\n",
       "      <td>F</td>\n",
       "    </tr>\n",
       "  </tbody>\n",
       "</table>\n",
       "</div>"
      ],
      "text/plain": [
       "         name                                              value  \\\n",
       "0  TRBJ1-1*01   CAAACACAGAAGTCTTCTTTGGTAAAGGAACCAGACTCACAGTTGTAG   \n",
       "1  TRBJ1-2*01   CAAACTCCGACTACACCTTCGGCTCAGGGACCAGGCTTTTGGTAATAG   \n",
       "2  TRBJ1-3*01  TTCTGGAAATACGCTCTATTTTGGAGAAGGAAGCCGGCTCATTGTT...   \n",
       "3  TRBJ1-4*01  TTTCCAACGAAAGATTATTTTTCGGTCATGGAACCAAGCTGTCTGT...   \n",
       "4  TRBJ1-5*01  TAACAACCAGGCTCCGCTTTTTGGAGAGGGGACTCGACTCTCTGTT...   \n",
       "\n",
       "   anchor_index function  \n",
       "0            17        F  \n",
       "1            17        F  \n",
       "2            19        F  \n",
       "3            20        F  \n",
       "4            19        F  "
      ]
     },
     "execution_count": 30,
     "metadata": {},
     "output_type": "execute_result"
    }
   ],
   "source": [
    "task0.genomes.df_J_ref_genome.head()"
   ]
  },
  {
   "cell_type": "markdown",
   "metadata": {},
   "source": [
    "## Check the model"
   ]
  },
  {
   "cell_type": "code",
   "execution_count": 31,
   "metadata": {},
   "outputs": [
    {
     "data": {
      "text/plain": [
       "<AxesSubplot:xlabel='d gene', ylabel='P'>"
      ]
     },
     "execution_count": 31,
     "metadata": {},
     "output_type": "execute_result"
    },
    {
     "data": {
      "image/png": "[encoded data removed]",
      "text/plain": [
       "<Figure size 1296x1440 with 3 Axes>"
      ]
     },
     "metadata": {
      "needs_background": "light"
     },
     "output_type": "display_data"
    }
   ],
   "source": [
    "import matplotlib.pyplot as plt\n",
    "fig = plt.figure(figsize=(18, 20))\n",
    "grid = plt.GridSpec(2, 3, hspace=0.2, wspace=0.2)\n",
    "grid\n",
    "ax_v = fig.add_subplot(grid[0, :])\n",
    "ax_j = fig.add_subplot(grid[1, 0:2])\n",
    "ax_d = fig.add_subplot(grid[1, 2])\n",
    "\n",
    "task0.mdl.plot_Event_Marginal('v_choice', ax=ax_v)\n",
    "task0.mdl.plot_Event_Marginal('j_choice', ax=ax_j)\n",
    "task0.mdl.plot_Event_Marginal('d_gene', ax=ax_d)"
   ]
  },
  {
   "cell_type": "code",
   "execution_count": 32,
   "metadata": {},
   "outputs": [
    {
     "data": {
      "text/plain": [
       "<matplotlib.legend.Legend at 0x7f48df02ba50>"
      ]
     },
     "execution_count": 32,
     "metadata": {},
     "output_type": "execute_result"
    },
    {
     "data": {
      "image/png": "[encoded data removed]",
      "text/plain": [
       "<Figure size 1152x432 with 2 Axes>"
      ]
     },
     "metadata": {
      "needs_background": "light"
     },
     "output_type": "display_data"
    }
   ],
   "source": [
    "fig, ax = plt.subplots(1, 2, figsize=(16, 6))\n",
    "task0.mdl.plot_Event_Marginal('v_3_del', ax=ax[0], marker='o', label='V3')\n",
    "task0.mdl.plot_Event_Marginal('j_5_del', ax=ax[0], marker='x', label='J5')\n",
    "task0.mdl.plot_Event_Marginal('d_3_del', ax=ax[0], marker='s', label='D3')\n",
    "task0.mdl.plot_Event_Marginal('d_5_del', ax=ax[0], marker='s', label='D5')\n",
    "ax[0].set_xlabel(\"Deletions\")\n",
    "ax[0].legend()\n",
    "\n",
    "task0.mdl.plot_Event_Marginal('vd_ins', ax=ax[1], marker='o', label='VD')\n",
    "task0.mdl.plot_Event_Marginal('dj_ins', ax=ax[1], marker='s', label='DJ')\n",
    "ax[1].set_xlabel(\"Insertions\")\n",
    "ax[1].legend()"
   ]
  },
  {
   "cell_type": "code",
   "execution_count": 33,
   "metadata": {},
   "outputs": [
    {
     "data": {
      "text/plain": [
       "<AxesSubplot:title={'center':'dj dinucl'}, xlabel='From', ylabel='To'>"
      ]
     },
     "execution_count": 33,
     "metadata": {},
     "output_type": "execute_result"
    },
    {
     "data": {
      "image/png": "[encoded data removed]",
      "text/plain": [
       "<Figure size 1296x576 with 4 Axes>"
      ]
     },
     "metadata": {
      "needs_background": "light"
     },
     "output_type": "display_data"
    }
   ],
   "source": [
    "fig, ax = plt.subplots(1, 2, figsize=(18,8))\n",
    "task0.mdl.plot_Event_Marginal('vd_dinucl', ax=ax[0])\n",
    "task0.mdl.plot_Event_Marginal('dj_dinucl', ax=ax[1])"
   ]
  },
  {
   "cell_type": "markdown",
   "metadata": {},
   "source": [
    "## Run evaluation of selected sequences"
   ]
  },
  {
   "cell_type": "code",
   "execution_count": 34,
   "metadata": {},
   "outputs": [
    {
     "data": {
      "text/plain": [
       "{'igor_species': None,\n",
       " 'igor_chain': None,\n",
       " 'igor_model_dir_path': '/home/alfaceor/Dropbox/PosDoc/IGoR/dev/MyGithub/pygor3/demo/Francesco/weirdos//MouseTRB',\n",
       " 'igor_path_ref_genome': '/home/alfaceor/Dropbox/PosDoc/IGoR/dev/MyGithub/pygor3/demo/Francesco/weirdos//MouseTRB/ref_genome/',\n",
       " 'fln_genomicVs': '/home/alfaceor/Dropbox/PosDoc/IGoR/dev/MyGithub/pygor3/demo/Francesco/weirdos//MouseTRB/ref_genome//genomicVs.fasta',\n",
       " 'fln_genomicDs': '/home/alfaceor/Dropbox/PosDoc/IGoR/dev/MyGithub/pygor3/demo/Francesco/weirdos//MouseTRB/ref_genome//genomicDs.fasta',\n",
       " 'fln_genomicJs': '/home/alfaceor/Dropbox/PosDoc/IGoR/dev/MyGithub/pygor3/demo/Francesco/weirdos//MouseTRB/ref_genome//genomicJs.fasta',\n",
       " 'fln_V_gene_CDR3_anchors': '/home/alfaceor/Dropbox/PosDoc/IGoR/dev/MyGithub/pygor3/demo/Francesco/weirdos//MouseTRB/ref_genome//V_gene_CDR3_anchors.csv',\n",
       " 'igor_wd': '/home/alfaceor/Dropbox/PosDoc/IGoR/dev/MyGithub/pygor3/notebooks',\n",
       " 'igor_batchname': 'dataIGoR3BO1b9vFBh',\n",
       " 'igor_model_parms_file': '/home/alfaceor/Dropbox/PosDoc/IGoR/dev/MyGithub/pygor3/demo/Francesco/weirdos//MouseTRB/models/model_parms.txt',\n",
       " 'igor_model_marginals_file': '/home/alfaceor/Dropbox/PosDoc/IGoR/dev/MyGithub/pygor3/demo/Francesco/weirdos//MouseTRB/models/model_marginals.txt',\n",
       " 'igor_read_seqs': '',\n",
       " 'igor_threads': '',\n",
       " 'igor_fln_indexed_sequences': '',\n",
       " 'igor_fln_indexed_CDR3': '',\n",
       " 'igor_fln_align_V_alignments': '',\n",
       " 'igor_fln_align_J_alignments': '',\n",
       " 'igor_fln_align_D_alignments': '',\n",
       " 'igor_fln_infer_final_marginals': '',\n",
       " 'igor_fln_infer_final_parms': '',\n",
       " 'igor_fln_evaluate_final_marginals': '',\n",
       " 'igor_fln_evaluate_final_parms': '',\n",
       " 'igor_fln_output_pgen': '',\n",
       " 'igor_fln_output_scenarios': '',\n",
       " 'igor_fln_output_coverage': '',\n",
       " 'igor_fln_generated_realizations_werr': '',\n",
       " 'igor_fln_generated_seqs_werr': '',\n",
       " 'igor_fln_generation_info': '',\n",
       " 'igor_fln_db': '',\n",
       " 'b_read_seqs': False,\n",
       " 'b_align': False,\n",
       " 'b_infer': False,\n",
       " 'b_evaluate': False,\n",
       " 'b_generate': False}"
      ]
     },
     "execution_count": 34,
     "metadata": {},
     "output_type": "execute_result"
    }
   ],
   "source": [
    "task0.to_dict()"
   ]
  },
  {
   "cell_type": "code",
   "execution_count": null,
   "metadata": {},
   "outputs": [],
   "source": []
  },
  {
   "cell_type": "code",
   "execution_count": 35,
   "metadata": {},
   "outputs": [
    {
     "name": "stdout",
     "output_type": "stream",
     "text": [
      "/home/alfaceor/.local/bin/igor -set_wd /home/alfaceor/Dropbox/PosDoc/IGoR/dev/MyGithub/pygor3/notebooks -batch dataIGoR3BO1b9vFBh -read_seqs /home/alfaceor/Dropbox/PosDoc/IGoR/dev/MyGithub/pygor3/demo/Francesco/weirdos/align_but_no_bs.csv\n",
      "\n",
      "\n",
      "/home/alfaceor/.local/bin/igor -set_wd /home/alfaceor/Dropbox/PosDoc/IGoR/dev/MyGithub/pygor3/notebooks -batch dataIGoR3BO1b9vFBh -set_genomic  --V /home/alfaceor/Dropbox/PosDoc/IGoR/dev/MyGithub/pygor3/demo/Francesco/weirdos//MouseTRB/ref_genome//genomicVs.fasta --D /home/alfaceor/Dropbox/PosDoc/IGoR/dev/MyGithub/pygor3/demo/Francesco/weirdos//MouseTRB/ref_genome//genomicDs.fasta --J /home/alfaceor/Dropbox/PosDoc/IGoR/dev/MyGithub/pygor3/demo/Francesco/weirdos//MouseTRB/ref_genome//genomicJs.fasta -align  --all  \n",
      "\n",
      "\n",
      "\n",
      "\n",
      "/home/alfaceor/.local/bin/igor -set_wd /home/alfaceor/Dropbox/PosDoc/IGoR/dev/MyGithub/pygor3/notebooks -batch dataIGoR3BO1b9vFBh -set_custom_model /home/alfaceor/Dropbox/PosDoc/IGoR/dev/MyGithub/pygor3/demo/Francesco/weirdos//MouseTRB/models/model_parms.txt /home/alfaceor/Dropbox/PosDoc/IGoR/dev/MyGithub/pygor3/demo/Francesco/weirdos//MouseTRB/models/model_marginals.txt -evaluate  -output  --scenarios 5  --Pgen  \n"
     ]
    }
   ],
   "source": [
    "task0.run_evaluate(igor_read_seqs=weirdos_path+\"align_but_no_bs.csv\")"
   ]
  },
  {
   "cell_type": "code",
   "execution_count": 37,
   "metadata": {},
   "outputs": [
    {
     "data": {
      "text/plain": [
       "{'igor_species': None,\n",
       " 'igor_chain': None,\n",
       " 'igor_model_dir_path': '/home/alfaceor/Dropbox/PosDoc/IGoR/dev/MyGithub/pygor3/demo/Francesco/weirdos//MouseTRB',\n",
       " 'igor_path_ref_genome': '/home/alfaceor/Dropbox/PosDoc/IGoR/dev/MyGithub/pygor3/demo/Francesco/weirdos//MouseTRB/ref_genome/',\n",
       " 'fln_genomicVs': '/home/alfaceor/Dropbox/PosDoc/IGoR/dev/MyGithub/pygor3/demo/Francesco/weirdos//MouseTRB/ref_genome//genomicVs.fasta',\n",
       " 'fln_genomicDs': '/home/alfaceor/Dropbox/PosDoc/IGoR/dev/MyGithub/pygor3/demo/Francesco/weirdos//MouseTRB/ref_genome//genomicDs.fasta',\n",
       " 'fln_genomicJs': '/home/alfaceor/Dropbox/PosDoc/IGoR/dev/MyGithub/pygor3/demo/Francesco/weirdos//MouseTRB/ref_genome//genomicJs.fasta',\n",
       " 'fln_V_gene_CDR3_anchors': '/home/alfaceor/Dropbox/PosDoc/IGoR/dev/MyGithub/pygor3/demo/Francesco/weirdos//MouseTRB/ref_genome//V_gene_CDR3_anchors.csv',\n",
       " 'igor_wd': '/home/alfaceor/Dropbox/PosDoc/IGoR/dev/MyGithub/pygor3/notebooks',\n",
       " 'igor_batchname': 'dataIGoR3BO1b9vFBh',\n",
       " 'igor_model_parms_file': '/home/alfaceor/Dropbox/PosDoc/IGoR/dev/MyGithub/pygor3/demo/Francesco/weirdos//MouseTRB/models/model_parms.txt',\n",
       " 'igor_model_marginals_file': '/home/alfaceor/Dropbox/PosDoc/IGoR/dev/MyGithub/pygor3/demo/Francesco/weirdos//MouseTRB/models/model_marginals.txt',\n",
       " 'igor_read_seqs': '/home/alfaceor/Dropbox/PosDoc/IGoR/dev/MyGithub/pygor3/demo/Francesco/weirdos/align_but_no_bs.csv',\n",
       " 'igor_threads': '',\n",
       " 'igor_fln_indexed_sequences': '',\n",
       " 'igor_fln_indexed_CDR3': '',\n",
       " 'igor_fln_align_V_alignments': '',\n",
       " 'igor_fln_align_J_alignments': '',\n",
       " 'igor_fln_align_D_alignments': '',\n",
       " 'igor_fln_infer_final_marginals': '',\n",
       " 'igor_fln_infer_final_parms': '',\n",
       " 'igor_fln_evaluate_final_marginals': '',\n",
       " 'igor_fln_evaluate_final_parms': '',\n",
       " 'igor_fln_output_pgen': '',\n",
       " 'igor_fln_output_scenarios': '',\n",
       " 'igor_fln_output_coverage': '',\n",
       " 'igor_fln_generated_realizations_werr': '',\n",
       " 'igor_fln_generated_seqs_werr': '',\n",
       " 'igor_fln_generation_info': '',\n",
       " 'igor_fln_db': '',\n",
       " 'b_read_seqs': True,\n",
       " 'b_align': True,\n",
       " 'b_infer': False,\n",
       " 'b_evaluate': False,\n",
       " 'b_generate': False}"
      ]
     },
     "execution_count": 37,
     "metadata": {},
     "output_type": "execute_result"
    }
   ],
   "source": [
    "task0.to_dict()"
   ]
  },
  {
   "cell_type": "code",
   "execution_count": 38,
   "metadata": {},
   "outputs": [],
   "source": [
    "task0.update_batch_filenames()"
   ]
  },
  {
   "cell_type": "code",
   "execution_count": 46,
   "metadata": {},
   "outputs": [
    {
     "data": {
      "text/plain": [
       "{'igor_species': None,\n",
       " 'igor_chain': None,\n",
       " 'igor_model_dir_path': '/home/alfaceor/Dropbox/PosDoc/IGoR/dev/MyGithub/pygor3/demo/Francesco/weirdos//MouseTRB',\n",
       " 'igor_path_ref_genome': '/home/alfaceor/Dropbox/PosDoc/IGoR/dev/MyGithub/pygor3/demo/Francesco/weirdos//MouseTRB/ref_genome/',\n",
       " 'fln_genomicVs': '/home/alfaceor/Dropbox/PosDoc/IGoR/dev/MyGithub/pygor3/demo/Francesco/weirdos//MouseTRB/ref_genome//genomicVs.fasta',\n",
       " 'fln_genomicDs': '/home/alfaceor/Dropbox/PosDoc/IGoR/dev/MyGithub/pygor3/demo/Francesco/weirdos//MouseTRB/ref_genome//genomicDs.fasta',\n",
       " 'fln_genomicJs': '/home/alfaceor/Dropbox/PosDoc/IGoR/dev/MyGithub/pygor3/demo/Francesco/weirdos//MouseTRB/ref_genome//genomicJs.fasta',\n",
       " 'fln_V_gene_CDR3_anchors': '/home/alfaceor/Dropbox/PosDoc/IGoR/dev/MyGithub/pygor3/demo/Francesco/weirdos//MouseTRB/ref_genome//V_gene_CDR3_anchors.csv',\n",
       " 'igor_wd': '/home/alfaceor/Dropbox/PosDoc/IGoR/dev/MyGithub/pygor3/notebooks',\n",
       " 'igor_batchname': 'dataIGoR3BO1b9vFBh',\n",
       " 'igor_model_parms_file': '/home/alfaceor/Dropbox/PosDoc/IGoR/dev/MyGithub/pygor3/demo/Francesco/weirdos//MouseTRB/models/model_parms.txt',\n",
       " 'igor_model_marginals_file': '/home/alfaceor/Dropbox/PosDoc/IGoR/dev/MyGithub/pygor3/demo/Francesco/weirdos//MouseTRB/models/model_marginals.txt',\n",
       " 'igor_read_seqs': '/home/alfaceor/Dropbox/PosDoc/IGoR/dev/MyGithub/pygor3/demo/Francesco/weirdos/align_but_no_bs.csv',\n",
       " 'igor_threads': '',\n",
       " 'igor_fln_indexed_sequences': '/home/alfaceor/Dropbox/PosDoc/IGoR/dev/MyGithub/pygor3/notebooks/aligns/dataIGoR3BO1b9vFBh_indexed_sequences.csv',\n",
       " 'igor_fln_indexed_CDR3': '/home/alfaceor/Dropbox/PosDoc/IGoR/dev/MyGithub/pygor3/notebooks/aligns/dataIGoR3BO1b9vFBh_indexed_CDR3s.csv',\n",
       " 'igor_fln_align_V_alignments': '/home/alfaceor/Dropbox/PosDoc/IGoR/dev/MyGithub/pygor3/notebooks/aligns/dataIGoR3BO1b9vFBh_V_alignments.csv',\n",
       " 'igor_fln_align_J_alignments': '/home/alfaceor/Dropbox/PosDoc/IGoR/dev/MyGithub/pygor3/notebooks/aligns/dataIGoR3BO1b9vFBh_J_alignments.csv',\n",
       " 'igor_fln_align_D_alignments': '/home/alfaceor/Dropbox/PosDoc/IGoR/dev/MyGithub/pygor3/notebooks/aligns/dataIGoR3BO1b9vFBh_D_alignments.csv',\n",
       " 'igor_fln_infer_final_marginals': '/home/alfaceor/Dropbox/PosDoc/IGoR/dev/MyGithub/pygor3/notebooks/dataIGoR3BO1b9vFBh_inference/final_marginals.txt',\n",
       " 'igor_fln_infer_final_parms': '/home/alfaceor/Dropbox/PosDoc/IGoR/dev/MyGithub/pygor3/notebooks/dataIGoR3BO1b9vFBh_inference/final_parms.txt',\n",
       " 'igor_fln_evaluate_final_marginals': '/home/alfaceor/Dropbox/PosDoc/IGoR/dev/MyGithub/pygor3/notebooks/dataIGoR3BO1b9vFBh_evaluate/final_marginals.txt',\n",
       " 'igor_fln_evaluate_final_parms': '/home/alfaceor/Dropbox/PosDoc/IGoR/dev/MyGithub/pygor3/notebooks/dataIGoR3BO1b9vFBh_evaluate/final_parms.txt',\n",
       " 'igor_fln_output_pgen': '/home/alfaceor/Dropbox/PosDoc/IGoR/dev/MyGithub/pygor3/notebooks/dataIGoR3BO1b9vFBh_output/Pgen_counts.csv',\n",
       " 'igor_fln_output_scenarios': '/home/alfaceor/Dropbox/PosDoc/IGoR/dev/MyGithub/pygor3/notebooks/dataIGoR3BO1b9vFBh_output/best_scenarios_counts.csv',\n",
       " 'igor_fln_output_coverage': '/home/alfaceor/Dropbox/PosDoc/IGoR/dev/MyGithub/pygor3/notebooks/dataIGoR3BO1b9vFBh_output/coverage.csv',\n",
       " 'igor_fln_generated_realizations_werr': '',\n",
       " 'igor_fln_generated_seqs_werr': '',\n",
       " 'igor_fln_generation_info': '',\n",
       " 'igor_fln_db': '/home/alfaceor/Dropbox/PosDoc/IGoR/dev/MyGithub/pygor3/notebooks/dataIGoR3BO1b9vFBh.db',\n",
       " 'b_read_seqs': True,\n",
       " 'b_align': True,\n",
       " 'b_infer': False,\n",
       " 'b_evaluate': False,\n",
       " 'b_generate': False}"
      ]
     },
     "execution_count": 46,
     "metadata": {},
     "output_type": "execute_result"
    }
   ],
   "source": [
    "task0.to_dict()"
   ]
  },
  {
   "cell_type": "code",
   "execution_count": 48,
   "metadata": {},
   "outputs": [
    {
     "name": "stdout",
     "output_type": "stream",
     "text": [
      "/home/alfaceor/Dropbox/PosDoc/IGoR/dev/MyGithub/pygor3/notebooks/aligns/dataIGoR3BO1b9vFBh_indexed_sequences.csv\n"
     ]
    }
   ],
   "source": [
    "!ls {task0.igor_fln_indexed_sequences}"
   ]
  },
  {
   "cell_type": "code",
   "execution_count": 50,
   "metadata": {},
   "outputs": [
    {
     "name": "stdout",
     "output_type": "stream",
     "text": [
      "/home/alfaceor/Dropbox/PosDoc/IGoR/dev/MyGithub/pygor3/notebooks/dataIGoR3BO1b9vFBh.db\n"
     ]
    }
   ],
   "source": [
    "task0.create_db()\n",
    "!ls {task0.igor_fln_db}"
   ]
  },
  {
   "cell_type": "code",
   "execution_count": 51,
   "metadata": {},
   "outputs": [
    {
     "name": "stdout",
     "output_type": "stream",
     "text": [
      "/home/alfaceor/Dropbox/PosDoc/IGoR/dev/MyGithub/pygor3/notebooks/aligns/dataIGoR3BO1b9vFBh_indexed_CDR3s.csv\n",
      "('',)\n",
      "Incorrect number of bindings supplied. The current statement uses 5, and there are 1 supplied.\n",
      "Loading parms to database\n",
      "('v_choice', 'v_3_del')\n",
      "('d_gene', 'd_3_del')\n",
      "('d_gene', 'd_5_del')\n",
      "('j_choice', 'j_5_del')\n",
      "('j_choice', 'd_gene')\n",
      "('d_5_del', 'd_3_del')\n",
      "{'error_type': 'SingleErrorRate', 'error_values': '0.0230988'}\n",
      "Loading marginals to database\n",
      "Loading Gene templates ...\n",
      "V /home/alfaceor/Dropbox/PosDoc/IGoR/dev/MyGithub/pygor3/demo/Francesco/weirdos//MouseTRB/ref_genome//genomicVs.fasta\n",
      "J /home/alfaceor/Dropbox/PosDoc/IGoR/dev/MyGithub/pygor3/demo/Francesco/weirdos//MouseTRB/ref_genome//genomicJs.fasta\n",
      "D /home/alfaceor/Dropbox/PosDoc/IGoR/dev/MyGithub/pygor3/demo/Francesco/weirdos//MouseTRB/ref_genome//genomicDs.fasta\n",
      "loading Anchors data ...\n",
      "Loading Gene Anchors from  /home/alfaceor/Dropbox/PosDoc/IGoR/dev/MyGithub/pygor3/demo/Francesco/weirdos//MouseTRB/ref_genome//V_gene_CDR3_anchors.csv\n",
      "data :  ['']\n",
      "ERROR :  'NoneType' object is not subscriptable\n",
      "['']\n",
      "Loading Gene Anchors from  /home/alfaceor/Dropbox/PosDoc/IGoR/dev/MyGithub/pygor3/demo/Francesco/weirdos//MouseTRB/ref_genome//J_gene_CDR3_anchors.csv\n",
      "data :  ['']\n",
      "ERROR :  'NoneType' object is not subscriptable\n",
      "['']\n",
      "/home/alfaceor/Dropbox/PosDoc/IGoR/dev/MyGithub/pygor3/notebooks/aligns/dataIGoR3BO1b9vFBh_V_alignments.csv\n",
      "['']\n",
      "['']\n",
      "['']\n",
      "Alignments loaded in database in /home/alfaceor/Dropbox/PosDoc/IGoR/dev/MyGithub/pygor3/notebooks/dataIGoR3BO1b9vFBh.db\n",
      "/home/alfaceor/Dropbox/PosDoc/IGoR/dev/MyGithub/pygor3/notebooks/dataIGoR3BO1b9vFBh_output/best_scenarios_counts.csv\n",
      "ohohohoho\n",
      "['']\n",
      "unexpected EOF while parsing (<string>, line 0)\n",
      "/home/alfaceor/Dropbox/PosDoc/IGoR/dev/MyGithub/pygor3/notebooks/dataIGoR3BO1b9vFBh_output/Pgen_counts.csv\n",
      "/home/alfaceor/Dropbox/PosDoc/IGoR/dev/MyGithub/pygor3/notebooks/dataIGoR3BO1b9vFBh_output/Pgen_counts.csv\n",
      "('',)\n",
      "Incorrect number of bindings supplied. The current statement uses 2, and there are 1 supplied.\n"
     ]
    }
   ],
   "source": [
    "task0.load_db_from_indexed_sequences()\n",
    "task0.load_db_from_indexed_cdr3()\n",
    "task0.load_db_from_models()\n",
    "task0.load_db_from_genomes()\n",
    "task0.load_db_from_alignments()\n",
    "task0.load_db_from_bestscenarios()\n",
    "task0.load_db_from_pgen()"
   ]
  },
  {
   "cell_type": "code",
   "execution_count": 58,
   "metadata": {},
   "outputs": [
    {
     "data": {
      "text/plain": [
       "'/home/alfaceor/Dropbox/PosDoc/IGoR/dev/MyGithub/pygor3/notebooks/dataIGoR3BO1b9vFBh.db'"
      ]
     },
     "execution_count": 58,
     "metadata": {},
     "output_type": "execute_result"
    }
   ],
   "source": [
    "aln = task0.igor_db.get_best_IgorAlignment_data_By_seq_index(\"V\", 0)\n",
    "task0.igor_fln_db"
   ]
  },
  {
   "cell_type": "code",
   "execution_count": 26,
   "metadata": {},
   "outputs": [
    {
     "name": "stdout",
     "output_type": "stream",
     "text": [
      "Writing model parms in file  aqui/models/model_parms.txt\n",
      "Writing model marginals in file  aqui/models/model_marginals.txt\n"
     ]
    }
   ],
   "source": [
    "mdl.write_mdldata_dir(\"aqui\")"
   ]
  },
  {
   "cell_type": "code",
   "execution_count": null,
   "metadata": {},
   "outputs": [],
   "source": [
    "{'igor_exec_path': '/home/olivares/.local/bin/igor', \n",
    " 'igor_datadir': '/home/olivares/.local/share/igor', \n",
    " 'igor_species': 'human', 'igor_chain': 'beta', \n",
    " 'igor_model_dir_path': '/home/olivares/.local/share/igor/models//human/tcr_beta', \n",
    " 'igor_path_ref_genome': '/home/olivares/.local/share/igor/models//human/tcr_beta/ref_genome/', \n",
    " 'fln_genomicVs': None, 'fln_genomicDs': None, 'fln_genomicJs': None, 'fln_V_gene_CDR3_anchors': None, 'fln_J_gene_CDR3_anchors': None, \n",
    " 'igor_wd': './', 'igor_batchname': 'dataIGoRYDBsA3xE3y', \n",
    " 'igor_model_parms_file': '/home/olivares/.local/share/igor/models//human/tcr_beta/models/model_parms.txt', \n",
    " 'igor_model_marginals_file': '/home/olivares/.local/share/igor/models//human/tcr_beta/models/model_marginals.txt', \n",
    " 'igor_read_seqs': None, 'igor_threads': None, \n",
    " 'igor_fln_indexed_sequences': './/aligns/dataIGoRYDBsA3xE3y_indexed_sequences.csv', \n",
    " 'igor_fln_indexed_CDR3': './/aligns/dataIGoRYDBsA3xE3y_indexed_CDR3s.csv', \n",
    " 'igor_fln_align_V_alignments': './/aligns/dataIGoRYDBsA3xE3y_V_alignments.csv', \n",
    " 'igor_fln_align_J_alignments': './/aligns/dataIGoRYDBsA3xE3y_J_alignments.csv', \n",
    " 'igor_fln_align_D_alignments': './/aligns/dataIGoRYDBsA3xE3y_D_alignments.csv', \n",
    " 'igor_fln_infer_final_marginals': './/dataIGoRYDBsA3xE3y_inference/final_marginals.txt', \n",
    " 'igor_fln_infer_final_parms': './/dataIGoRYDBsA3xE3y_inference/final_parms.txt', \n",
    " 'igor_fln_evaluate_final_marginals': './/dataIGoRYDBsA3xE3y_evaluate/final_marginals.txt', \n",
    " 'igor_fln_evaluate_final_parms': './/dataIGoRYDBsA3xE3y_evaluate/final_parms.txt', \n",
    " 'igor_fln_output_pgen': './/dataIGoRYDBsA3xE3y_output/Pgen_counts.csv', \n",
    " 'igor_fln_output_scenarios': './/dataIGoRYDBsA3xE3y_output/best_scenarios_counts.csv', \n",
    " 'igor_fln_output_coverage': './/dataIGoRYDBsA3xE3y_output/coverage.csv', 'igor_fln_generated_realizations_werr': None, 'igor_fln_generated_seqs_werr': None, 'igor_fln_generation_info': None, 'igor_fln_db': './/dataIGoRYDBsA3xE3y.db', 'b_read_seqs': False, 'b_align': False, 'b_infer': False, 'b_evaluate': False, 'b_generate': False}\n"
   ]
  },
  {
   "cell_type": "markdown",
   "metadata": {},
   "source": [
    "## Using db file"
   ]
  },
  {
   "cell_type": "code",
   "execution_count": 1,
   "metadata": {},
   "outputs": [],
   "source": [
    "import pygor3 as p3\n",
    "task = p3.IgorTask()\n",
    "task.igor_fln_db = '/home/alfaceor/Dropbox/PosDoc/IGoR/dev/MyGithub/pygor3/notebooks/dataIGoR3BO1b9vFBh.db'\n",
    "task.create_db()\n",
    "task.from_db_plot_naive_align_by_seq_index(0)"
   ]
  },
  {
   "cell_type": "code",
   "execution_count": 5,
   "metadata": {},
   "outputs": [
    {
     "name": "stdout",
     "output_type": "stream",
     "text": [
      "[0, 4, 115, 183, 294, 296, 374, 395, 401, 425, 465, 607, 644, 665, 719, 809, 840, 1082, 1202, 1525, 1568, 1612, 1769, 1782, 2375, 2426, 2431, 2450, 2478, 2625, 2709, 2737, 2749, 2775, 2825, 2886, 2959, 3152, 3326, 3613, 3620, 3654, 3692, 3718, 3773, 3774, 3891, 3960, 4026, 4036, 4044, 4081, 4113, 4258, 4261, 4311, 4314, 4405, 4466, 4474, 4503, 4529, 4599, 4608, 4655, 4659, 4671, 4673, 4681, 4691, 4698, 4854, 5076, 5132, 5161, 5237, 5350, 5434, 5440, 5530, 5556, 5853, 5857, 5925, 5934, 5948, 5955, 5973, 6237, 6330, 6466, 6560, 6566, 6639, 6675, 6977, 7034, 7172, 7240, 7264, 7403, 7427, 7431, 7446, 7506, 7598, 7608, 7610, 7637, 7688, 7704, 7716, 7746, 7818, 7877, 7894, 7895, 7930, 7938, 8015, 8031, 8078, 8086, 8091, 8103, 8254, 8268, 8366, 8599, 8628, 8921, 8933, 9103, 9182, 9221, 9260, 9275, 9427, 9452, 9497, 9506, 9564, 9763, 9783, 9927, 9952, 10123, 10305, 10316, 10386, 10395, 10407, 10429, 10479, 10494, 10511, 10568, 10580, 10667, 10669, 10758, 11164, 11175, 11176, 11203, 11398, 11460, 11703, 11816, 11821, 12016, 12164, 12253, 12424, 12847, 13078, 13385, 13453, 13649, 13654, 13691, 13755, 13838, 13904, 14015, 14040, 14175, 14253, 14424, 14425, 14549, 14557, 14559, 14560, 14561, 14574, 14579, 14585, 14586, 14593, 14595, 14756, 14860, 14881, 14966, 14994, 15020, 15022, 15037, 15051, 15054, 15086, 15552, 15629, 15696, 15747, 15753, 15845, 15917, 15968, 15971, 15977, 16006, 16035, 16049, 16053, 16100, 16115, 16135, 16197, 16297, 16324, 16346, 16495, 16571, 16623, 16659, 16760, 16797, 16799, 16940, 17039, 17050, 17201, 17379, 17502, 17536, 17613, 17649, 17666, 17667, 17698, 17771, 17837, 17848, 17942, 17950, 17968, 18195, 18977, 19539, 19541, 19708, 19904, 19911, 20024, 20044, 20094, 20223, 20248, 20277, 20320, 20352, 20389, 20412, 20422, 20511, 20545, 20560, 20606, 20617, 20651, 20910, 20960, 20965, 21012, 21049, 21069, 21085, 21091, 21104, 21150, 21160, 21169, 21257, 21269, 21286, 21297, 21359, 21502, 21537, 21578, 21593, 21758, 21779, 21802, 21834, 21868, 21870, 22071, 22102, 22118, 22126, 22276, 22295, 22361, 22379, 22408, 22429, 22450, 22500, 22505, 22538, 22566, 22608, 23467, 23490, 23564, 23624, 23625, 23721, 23784, 23841, 23883, 23926, 23983, 23994, 24008, 24040, 24116, 24201, 24453, 24496, 24561, 24780, 24811, 24815, 24823, 24915, 24967, 25632, 25689, 25804, 25805, 25811, 25821, 26008, 26068, 26116, 26162, 26250, 26269, 26273, 26281, 26283, 26299, 26373, 26401, 26543, 26618, 26772, 26994, 27062, 27093, 27198, 27227, 27255, 27308, 27699, 27740, 27763, 27966, 28033, 28209, 28384, 28391, 28420, 28478, 28481, 28534, 28635, 28745, 28776, 28778, 28800, 28883, 28993, 29071, 29108, 29144, 29228, 29232, 29800, 29973, 30210, 30348, 30433, 30450, 30452, 30574, 30610, 30643, 31235, 31264, 31386, 31410, 31482, 31514, 31519, 31587, 31600, 31693, 31728, 31871, 32049, 32163, 32776, 33024, 33092, 33715, 33775, 34392, 34741, 35073, 35330, 35562, 35645, 35686, 35863, 35868, 35869, 35931, 35958, 36049, 36089, 36167, 36276, 36310, 36357, 36404, 36474, 36569, 36680, 36836, 36837, 36839, 37073, 37086, 37171, 37236, 37279, 37446, 37648, 37657, 37726, 37810, 37836, 37896, 37901, 37955, 37977, 38029, 38068, 38083, 38156, 38160, 38169, 38223, 38240, 38248, 38326, 38532, 38616, 38637, 38823, 38878, 39184, 39305, 39447, 39614, 39652, 39743, 40106, 40277, 40987, 41318, 41464, 41492, 41494, 41498, 41507, 41567, 41802, 41854, 41877, 42161, 42191, 42223, 42310, 42332, 42355, 42372, 42739, 42819, 42831, 42915, 43112, 43114, 43122, 43175, 43178, 43371, 43586, 43650, 43671, 43675, 43776, 43828, 43845, 43852, 43856, 43864, 43867, 43879, 44011, 44040, 44122, 44225, 44470, 44498, 44502, 44503, 44628, 44875, 45002, 45011, 45194, 45210, 45317, 45329, 45467, 45559, 46156, 46243, 46299, 46317, 46334, 46511, 46533, 46555, 46558, 46559, 46561, 46564, 46621, 46711, 46784, 46794, 46837, 46856, 46909, 47129, 47195, 47331, 47343, 47379, 47384, 47392, 47596, 47690, 47730, 47818, 47831, 47881, 48065, 48149, 48314, 48624, 48895, 49079, 49206, 49214, 49215, 49218, 49220, 49325, 49382, 49457, 49600, 49658, 49827, 49940, 49944, 50010, 50127, 50180, 50268, 50421, 50427, 50480, 50514, 50530, 50610, 50702, 50734, 50817, 50827, 50850, 50855, 50856, 50880, 50894, 50911, 50916, 50920, 50933, 50961, 50992, 51024, 51088, 51158, 51178, 51193, 51218, 51271, 51284, 51333, 51340, 51434, 51492, 51562, 51581, 51770, 51788, 51799, 51915, 51976, 52050, 52065, 52159, 52219, 52224, 52229, 52363, 52479, 52508, 52512, 52513, 52559, 52736, 52858, 52867, 52884, 52914, 52924, 52979, 53021, 53032, 53050, 53107, 53129, 53168, 53201, 53343, 53536, 53542, 53615, 53706, 53805, 53834, 53956, 54122, 54204, 54496, 54782, 54796, 54807, 54810, 54833, 54866, 54903, 54924, 54968, 54970, 55016, 55157, 55577, 55600]\n"
     ]
    }
   ],
   "source": [
    "seq_index_list = task.igor_db.fetch_IgorIndexedSeq_indexes()\n",
    "print(seq_index_list)"
   ]
  },
  {
   "cell_type": "code",
   "execution_count": null,
   "metadata": {},
   "outputs": [],
   "source": []
  },
  {
   "cell_type": "code",
   "execution_count": null,
   "metadata": {},
   "outputs": [],
   "source": []
  },
  {
   "cell_type": "code",
   "execution_count": 33,
   "metadata": {},
   "outputs": [],
   "source": []
  },
  {
   "cell_type": "code",
   "execution_count": 66,
   "metadata": {},
   "outputs": [],
   "source": []
  },
  {
   "cell_type": "code",
   "execution_count": null,
   "metadata": {},
   "outputs": [],
   "source": []
  },
  {
   "cell_type": "code",
   "execution_count": null,
   "metadata": {},
   "outputs": [],
   "source": []
  },
  {
   "cell_type": "code",
   "execution_count": null,
   "metadata": {},
   "outputs": [],
   "source": []
  },
  {
   "cell_type": "code",
   "execution_count": null,
   "metadata": {},
   "outputs": [],
   "source": []
  },
  {
   "cell_type": "code",
   "execution_count": null,
   "metadata": {},
   "outputs": [],
   "source": []
  },
  {
   "cell_type": "code",
   "execution_count": null,
   "metadata": {},
   "outputs": [],
   "source": []
  },
  {
   "cell_type": "code",
   "execution_count": null,
   "metadata": {},
   "outputs": [],
   "source": []
  },
  {
   "cell_type": "code",
   "execution_count": null,
   "metadata": {},
   "outputs": [],
   "source": []
  },
  {
   "cell_type": "code",
   "execution_count": null,
   "metadata": {},
   "outputs": [],
   "source": []
  },
  {
   "cell_type": "code",
   "execution_count": null,
   "metadata": {},
   "outputs": [],
   "source": []
  },
  {
   "cell_type": "code",
   "execution_count": null,
   "metadata": {},
   "outputs": [],
   "source": []
  },
  {
   "cell_type": "code",
   "execution_count": null,
   "metadata": {},
   "outputs": [],
   "source": []
  },
  {
   "cell_type": "code",
   "execution_count": null,
   "metadata": {},
   "outputs": [],
   "source": []
  },
  {
   "cell_type": "code",
   "execution_count": null,
   "metadata": {},
   "outputs": [],
   "source": []
  },
  {
   "cell_type": "code",
   "execution_count": null,
   "metadata": {},
   "outputs": [],
   "source": []
  },
  {
   "cell_type": "code",
   "execution_count": null,
   "metadata": {},
   "outputs": [],
   "source": []
  },
  {
   "cell_type": "code",
   "execution_count": null,
   "metadata": {},
   "outputs": [],
   "source": []
  },
  {
   "cell_type": "code",
   "execution_count": null,
   "metadata": {},
   "outputs": [],
   "source": []
  },
  {
   "cell_type": "code",
   "execution_count": null,
   "metadata": {},
   "outputs": [],
   "source": []
  },
  {
   "cell_type": "code",
   "execution_count": null,
   "metadata": {},
   "outputs": [],
   "source": []
  },
  {
   "cell_type": "code",
   "execution_count": null,
   "metadata": {},
   "outputs": [],
   "source": []
  },
  {
   "cell_type": "code",
   "execution_count": null,
   "metadata": {},
   "outputs": [],
   "source": [
    "import pygor3 as p3\n",
    "task = p3.IgorTask.load_from_batchname(\"CCC\")\n",
    "task.igor_specie = \"human\"\n",
    "task.igor_chain = \"beta\"\n",
    "task.update_batch_filenames()\n",
    "task.load_IgorModel()"
   ]
  },
  {
   "cell_type": "code",
   "execution_count": null,
   "metadata": {},
   "outputs": [],
   "source": []
  },
  {
   "cell_type": "code",
   "execution_count": 5,
   "metadata": {},
   "outputs": [
    {
     "name": "stdout",
     "output_type": "stream",
     "text": [
      "seq_index;sequence\n",
      "0;AGCAACATGAGCCCTGAAGACAGCAGCATATATCTCTGCAGCGTTGTAGTGTTGAGGGGACGGACCGGGGAGCTGTTTTTTGGAGAA\n",
      "1;CTCAGGCTGGAGTTGGCTGCTCCCTCCCAGACATCTGTGTACTTCTGTGCCAGCAGTTACGGGGGAGCCGGCTACACCTTCGGTTCG\n",
      "2;AGTTCTAAGAAGCTCCTTCTCAGTGACTCTGGCTTCTATCTCTGTGCCTGGAGCGCCGGACAGAACTATGGCTACACCTTCGGTTCG\n",
      "3;ACAGAGCGGGGGGACTCAGCCGTGTATCTCTGTGCCAGCAGCTCTGGGGCTAGCGGGGCCGCGAGAGAGACCCAGTACTTCGGGCCA\n",
      "4;ACCAGTGCCCATCCTGAAGACAGCAGCTTCTACATCTGCAGTGCTAGAGGCGGCAGGGCAAACACCGGGGAGCTGTTTTTTGGAGAA\n",
      "5;ACGATCCAGCGCACACAGCAGGAGGACTCGGCCGTGTATCTCTGTGCCAGCAGCTTCACAAACCAAGAGACCCAGTACTTCGGGCCA\n",
      "6;GTGAACGCCTTGTTGCTAGGGGACTCGGCCCTCTATCTCTGTGCCAGCAGCCCGGGGATCTATAATTCACCCCTCCACTTTGGGAAC\n",
      "7;CGCACACAGCAGGAGGACTCCGCCGTGTATCTCTGTGCCAGCAGCTTACGAGGGGGAGGCAGCAATCAGCCCCAGCATTTTGGTGAT\n",
      "8;ACGATTCAGCGCACAGAGCAGCGGGACTCAGCCATGTATCGCTGTGCTAGCAGCGTGACGAACACCGGGGAGCTGTTTTTTGGAGAA\n"
     ]
    }
   ],
   "source": [
    "# Now create a database for Indexed Sequences\n",
    "!head {task.igor_fln_indexed_sequences}"
   ]
  },
  {
   "cell_type": "code",
   "execution_count": 4,
   "metadata": {},
   "outputs": [
    {
     "data": {
      "text/plain": [
       "'./CCC.db'"
      ]
     },
     "execution_count": 4,
     "metadata": {},
     "output_type": "execute_result"
    }
   ],
   "source": [
    "task.igor_db."
   ]
  },
  {
   "cell_type": "code",
   "execution_count": 5,
   "metadata": {},
   "outputs": [
    {
     "name": "stdout",
     "output_type": "stream",
     "text": [
      "./CCC.db: cannot open `./CCC.db' (No such file or directory)\n"
     ]
    }
   ],
   "source": [
    "!file {task.igor_db}"
   ]
  },
  {
   "cell_type": "code",
   "execution_count": 39,
   "metadata": {},
   "outputs": [
    {
     "data": {
      "text/plain": [
       "['seq_index',\n",
       " 'scenario_rank',\n",
       " 'scenario_proba_cond_seq',\n",
       " 'v_choice',\n",
       " 'j_choice',\n",
       " 'd_gene',\n",
       " 'v_3_del',\n",
       " 'd_5_del',\n",
       " 'd_3_del',\n",
       " 'j_5_del',\n",
       " 'vd_ins',\n",
       " 'vd_dinucl',\n",
       " 'dj_ins',\n",
       " 'dj_dinucl',\n",
       " 'mismatches',\n",
       " 'mismatcheslen']"
      ]
     },
     "execution_count": 39,
     "metadata": {},
     "output_type": "execute_result"
    }
   ],
   "source": [
    "import pygor3 as p3\n",
    "bs0 = p3.IgorBestScenariosVDJ()\n",
    "aaa=str(bs0)\n",
    "aaa=eval(aaa)\n",
    "list(aaa.keys())"
   ]
  },
  {
   "cell_type": "code",
   "execution_count": 2,
   "metadata": {},
   "outputs": [
    {
     "name": "stdout",
     "output_type": "stream",
     "text": [
      "<class 'pygor3.IgorBestScenarios.IgorBestScenariosVDJ'>\n"
     ]
    }
   ],
   "source": [
    "print(bs)"
   ]
  },
  {
   "cell_type": "code",
   "execution_count": 63,
   "metadata": {},
   "outputs": [
    {
     "name": "stdout",
     "output_type": "stream",
     "text": [
      "     1\tseq_index;scenario_rank;scenario_proba_cond_seq;GeneChoice_V_gene_Undefined_side_prio7_size89;GeneChoice_J_gene_Undefined_side_prio7_size15;GeneChoice_D_gene_Undefined_side_prio6_size3;Deletion_V_gene_Three_prime_prio5_size21;Deletion_D_gene_Five_prime_prio5_size21;Deletion_D_gene_Three_prime_prio5_size21;Deletion_J_gene_Five_prime_prio5_size23;Insertion_VD_genes_Undefined_side_prio4_size31;DinucMarkov_VD_genes_Undefined_side_prio3_size16;Insertion_DJ_gene_Undefined_side_prio2_size31;DinucMarkov_DJ_gene_Undefined_side_prio1_size16;Mismatches\n",
      "     2\t17;1;0.0440476;(31);(8);(2);(8);(7);(15);(4);(0);();(0);();()\n",
      "     3\t17;2;0.0332147;(31);(8);(2);(8);(7);(16);(4);(0);();(1);(1);()\n",
      "     4\t17;3;0.0226536;(31);(8);(1);(8);(7);(15);(4);(0);();(0);();()\n",
      "     5\t17;4;0.0180412;(31);(8);(2);(8);(5);(19);(4);(2);(0,1);(0);();()\n",
      "     6\t17;5;0.0178797;(31);(8);(2);(8);(6);(18);(4);(0);();(2);(1,0);()\n",
      "     7\t19;1;0.260819;(26);(4);(0);(7);(7);(6);(3);(5);(0,1,2,2,1);(2);(2,3);()\n",
      "     8\t19;2;0.125907;(26);(4);(0);(7);(7);(7);(3);(5);(0,1,2,2,1);(3);(2,3,2);()\n",
      "     9\t19;3;0.0975333;(26);(4);(0);(6);(7);(6);(3);(4);(1,2,2,1);(2);(2,3);()\n",
      "    10\t19;4;0.0623081;(26);(4);(0);(7);(7);(6);(4);(5);(0,1,2,2,1);(3);(0,2,3);()\n",
      "    11\t19;5;0.0470827;(26);(4);(0);(6);(7);(7);(3);(4);(1,2,2,1);(3);(2,3,2);()\n",
      "    12\t16;1;0.180785;(17);(0);(0);(3);(8);(7);(5);(0);();(0);();()\n",
      "    13\t16;2;0.0436865;(17);(0);(0);(6);(7);(7);(5);(2);(2,3);(0);();()\n",
      "    14\t16;3;0.0429532;(17);(0);(0);(4);(7);(7);(5);(0);();(0);();()\n",
      "    15\t16;4;0.0427022;(17);(0);(0);(3);(8);(9);(5);(0);();(2);(2,2);()\n",
      "    16\t16;5;0.0403264;(17);(0);(0);(3);(8);(8);(5);(0);();(1);(2);()\n",
      "    17\t18;1;0.202243;(60);(7);(1);(8);(2);(12);(16);(3);(3,3,3);(0);();(71,73)\n",
      "    18\t18;2;0.197968;(59);(7);(1);(8);(2);(12);(16);(3);(3,3,3);(0);();(71,73)\n",
      "    19\t18;3;0.0579932;(59);(7);(1);(9);(2);(12);(16);(4);(3,3,3,3);(0);();(71,73)\n",
      "    20\t18;4;0.0488489;(60);(7);(1);(9);(2);(12);(16);(4);(3,3,3,3);(0);();(71,73)\n",
      "    21\t18;5;0.0376093;(60);(7);(1);(8);(4);(12);(16);(5);(3,3,3,1,1);(0);();(71,73)\n",
      "    22\t5;1;0.0548707;(69);(11);(0);(8);(7);(10);(6);(2);(3,1);(3);(1,0,0);()\n",
      "    23\t5;2;0.0548385;(70);(11);(0);(8);(7);(10);(6);(2);(3,1);(3);(1,0,0);()\n",
      "    24\t5;3;0.051889;(69);(11);(0);(7);(7);(10);(6);(1);(1);(3);(1,0,0);()\n",
      "    25\t5;4;0.0518483;(70);(11);(0);(7);(7);(10);(6);(1);(1);(3);(1,0,0);()\n",
      "    26\t5;5;0.0458606;(69);(11);(0);(8);(7);(10);(5);(2);(3,1);(2);(0,0);()\n",
      "    27\t2;1;0.312159;(42);(1);(0);(7);(5);(9);(6);(4);(1,2,1,1);(0);();()\n",
      "    28\t2;2;0.102346;(42);(1);(0);(7);(5);(9);(8);(4);(1,2,1,1);(2);(0,0);()\n",
      "    29\t2;3;0.0923304;(42);(1);(0);(8);(5);(9);(6);(5);(2,1,2,1,1);(0);();()\n",
      "    30\t2;4;0.0847894;(42);(1);(0);(7);(5);(9);(7);(4);(1,2,1,1);(1);(0);()\n",
      "    31\t2;5;0.0394455;(42);(1);(0);(7);(6);(9);(6);(5);(1,2,1,1,2);(0);();()\n",
      "    32\t4;1;0.444024;(29);(8);(0);(5);(8);(7);(6);(4);(2,1,2,2);(2);(0,1);()\n",
      "    33\t4;2;0.129722;(29);(8);(0);(5);(8);(7);(7);(4);(2,1,2,2);(3);(0,0,1);()\n",
      "    34\t4;3;0.0706754;(29);(8);(0);(5);(8);(7);(8);(4);(2,1,2,2);(4);(0,0,0,1);()\n",
      "    35\t4;4;0.0569819;(29);(8);(0);(6);(8);(7);(6);(5);(2,2,1,2,2);(2);(0,1);()\n",
      "    36\t4;5;0.0443786;(29);(8);(0);(5);(8);(8);(6);(4);(2,1,2,2);(3);(0,1,2);()\n",
      "    37\t6;1;0.145365;(55);(6);(0);(8);(11);(5);(7);(2);(1,1);(2);(3,0);(17)\n",
      "    38\t6;2;0.0672897;(55);(6);(0);(8);(11);(5);(8);(2);(1,1);(3);(1,3,0);(17)\n",
      "    39\t6;3;0.0662259;(55);(6);(0);(8);(10);(6);(7);(2);(1,1);(2);(3,0);(17)\n",
      "    40\t6;4;0.0395124;(55);(6);(0);(8);(12);(5);(7);(2);(1,1);(3);(3,0,2);(17)\n",
      "    41\t6;5;0.0306561;(55);(6);(0);(8);(10);(6);(8);(2);(1,1);(3);(1,3,0);(17)\n",
      "    42\t3;1;0.395908;(73);(11);(1);(8);(8);(7);(8);(6);(1,3,2,2,2,2);(7);(2,0,2,1,2,1,1);()\n",
      "    43\t3;2;0.155941;(73);(11);(1);(8);(8);(7);(9);(6);(1,3,2,2,2,2);(8);(0,2,0,2,1,2,1,1);()\n",
      "    44\t3;3;0.115015;(73);(11);(1);(9);(8);(7);(8);(7);(3,1,3,2,2,2,2);(7);(2,0,2,1,2,1,1);()\n",
      "    45\t3;4;0.0547753;(73);(11);(1);(8);(9);(7);(8);(7);(1,3,2,2,2,2,1);(7);(2,0,2,1,2,1,1);()\n",
      "    46\t3;5;0.0522827;(73);(11);(1);(8);(8);(8);(8);(6);(1,3,2,2,2,2);(8);(2,0,2,1,2,1,1,2);()\n",
      "    47\t8;1;0.0944116;(80);(8);(1);(9);(6);(15);(5);(2);(2,3);(0);();()\n",
      "    48\t8;2;0.0741844;(80);(8);(0);(9);(6);(11);(5);(2);(2,3);(0);();()\n",
      "    49\t8;3;0.0519349;(80);(8);(1);(9);(6);(15);(6);(2);(2,3);(1);(2);()\n",
      "    50\t8;4;0.0408081;(80);(8);(0);(9);(6);(11);(6);(2);(2,3);(1);(2);()\n",
      "    51\t8;5;0.0389495;(80);(8);(2);(9);(6);(15);(5);(2);(2,3);(0);();()\n",
      "    52\t1;1;0.0869022;(64);(1);(1);(7);(12);(6);(12);(0);();(4);(1,1,2,0);()\n",
      "    53\t1;2;0.086837;(63);(1);(1);(7);(12);(6);(12);(0);();(4);(1,1,2,0);()\n",
      "    54\t1;3;0.0472684;(64);(1);(1);(7);(12);(7);(12);(0);();(5);(1,1,2,0,2);()\n",
      "    55\t1;4;0.047233;(63);(1);(1);(7);(12);(7);(12);(0);();(5);(1,1,2,0,2);()\n",
      "    56\t1;5;0.02142;(63);(1);(1);(9);(12);(6);(12);(2);(3,0);(4);(1,1,2,0);()\n",
      "    57\t9;1;0.0830978;(28);(11);(0);(10);(8);(8);(8);(4);(2,2,2,2);(1);(3);()\n",
      "    58\t9;2;0.0751573;(27);(11);(0);(10);(8);(8);(8);(4);(2,2,2,2);(1);(3);()\n",
      "    59\t9;3;0.073149;(28);(11);(0);(10);(8);(8);(9);(4);(2,2,2,2);(2);(0,3);()\n",
      "    60\t9;4;0.0661592;(27);(11);(0);(10);(8);(8);(9);(4);(2,2,2,2);(2);(0,3);()\n",
      "    61\t9;5;0.0552727;(28);(11);(0);(10);(8);(9);(8);(4);(2,2,2,2);(2);(3,2);()\n",
      "    62\t10;1;0.0951136;(35);(0);(2);(6);(17);(3);(20);(3);(1,2,3);(10);(2,2,3,3,2,2,1,0,2,3);(77)\n",
      "    63\t10;2;0.0854586;(35);(0);(0);(6);(6);(11);(20);(8);(1,2,3,2,2,2,1,3);(6);(2,2,3,3,2,2);(77)\n",
      "    64\t10;3;0.0795903;(35);(0);(2);(6);(6);(15);(20);(8);(1,2,3,2,2,2,1,3);(6);(2,2,3,3,2,2);(77)\n",
      "    65\t10;4;0.0669697;(35);(0);(0);(6);(12);(4);(20);(3);(1,2,3);(10);(2,2,3,3,2,2,1,0,2,3);(77)\n",
      "    66\t10;5;0.059529;(35);(0);(2);(7);(17);(3);(20);(4);(0,1,2,3);(10);(2,2,3,3,2,2,1,0,2,3);(77)\n",
      "    67\t7;1;0.109048;(81);(4);(2);(6);(15);(4);(5);(1);(1);(6);(1,2,2,0,2,2);()\n",
      "    68\t7;2;0.0872785;(81);(4);(2);(6);(13);(5);(5);(5);(1,2,0,2,2);(1);(1);()\n",
      "    69\t7;3;0.0653817;(81);(4);(2);(6);(13);(5);(6);(5);(1,2,0,2,2);(2);(0,1);()\n",
      "    70\t7;4;0.0437485;(81);(4);(2);(6);(13);(7);(5);(5);(1,2,0,2,2);(3);(1,2,2);()\n",
      "    71\t7;5;0.0430056;(81);(4);(2);(6);(16);(4);(5);(2);(1,2);(6);(1,2,2,0,2,2);()\n",
      "    72\t0;1;0.117948;(36);(8);(2);(8);(15);(4);(9);(7);(3,0,2,3,2,3,3);(5);(2,2,1,0,2);()\n",
      "    73\t0;2;0.117596;(37);(8);(2);(8);(15);(4);(9);(7);(3,0,2,3,2,3,3);(5);(2,2,1,0,2);()\n",
      "    74\t0;3;0.0282379;(36);(8);(0);(8);(9);(6);(9);(8);(3,0,2,3,2,3,3,2);(4);(2,2,1,0);()\n",
      "    75\t0;4;0.0282128;(37);(8);(0);(8);(9);(6);(9);(8);(3,0,2,3,2,3,3,2);(4);(2,2,1,0);()\n",
      "    76\t0;5;0.0190059;(36);(8);(2);(8);(4);(15);(9);(10);(3,0,2,3,2,3,3,2,0,2);(2);(2,2);()\n",
      "    77\t11;1;0.171631;(88);(1);(0);(7);(9);(6);(11);(0);();(5);(2,2,3,3,1);()\n",
      "    78\t11;2;0.130857;(88);(1);(0);(7);(11);(4);(11);(1);(0);(4);(2,2,3,3);()\n",
      "    79\t11;3;0.0721085;(88);(1);(0);(8);(11);(4);(11);(2);(2,0);(4);(2,2,3,3);()\n",
      "    80\t11;4;0.0430597;(88);(1);(0);(8);(9);(6);(11);(1);(2);(5);(2,2,3,3,1);()\n",
      "    81\t11;5;0.039449;(88);(1);(0);(7);(9);(6);(12);(0);();(6);(3,2,2,3,3,1);()\n",
      "    82\t13;1;0.111541;(57);(3);(0);(14);(11);(5);(9);(13);(2,3,1,2,0,0,2,1,2,1,3,1,1);(1);(2);()\n",
      "    83\t13;2;0.0628513;(57);(3);(0);(14);(11);(5);(10);(13);(2,3,1,2,0,0,2,1,2,1,3,1,1);(2);(0,2);()\n",
      "    84\t13;3;0.0591941;(57);(3);(0);(14);(12);(5);(9);(13);(2,3,1,2,0,0,2,1,2,1,3,1,1);(2);(2,2);()\n",
      "    85\t13;4;0.0508164;(57);(3);(0);(14);(10);(6);(9);(13);(2,3,1,2,0,0,2,1,2,1,3,1,1);(1);(2);()\n",
      "    86\t13;5;0.0450073;(57);(3);(0);(14);(11);(6);(9);(13);(2,3,1,2,0,0,2,1,2,1,3,1,1);(2);(2,2);()\n",
      "    87\t14;1;0.221708;(49);(12);(0);(6);(6);(7);(6);(1);(3);(0);();()\n",
      "    88\t14;2;0.168844;(49);(12);(0);(7);(6);(7);(6);(2);(3,3);(0);();()\n",
      "    89\t14;3;0.0806854;(49);(12);(0);(8);(6);(7);(6);(3);(3,3,3);(0);();()\n",
      "    90\t14;4;0.0626278;(49);(12);(0);(6);(7);(7);(6);(2);(3,2);(0);();()\n",
      "    91\t14;5;0.035004;(49);(12);(0);(6);(8);(7);(6);(3);(3,2,0);(0);();()\n",
      "    92\t15;1;0.445392;(81);(0);(0);(6);(13);(4);(7);(5);(2,3,1,2,3);(2);(3,0);()\n",
      "    93\t15;2;0.136203;(81);(0);(0);(6);(13);(4);(8);(5);(2,3,1,2,3);(3);(0,3,0);()\n",
      "    94\t15;3;0.0998498;(81);(0);(0);(6);(13);(5);(7);(5);(2,3,1,2,3);(3);(3,0,1);()\n",
      "    95\t15;4;0.03291;(81);(0);(0);(6);(13);(5);(8);(5);(2,3,1,2,3);(4);(0,3,0,1);()\n",
      "    96\t15;5;0.0244617;(81);(0);(0);(6);(13);(4);(9);(5);(2,3,1,2,3);(4);(1,0,3,0);()\n",
      "    97\t12;1;0.177428;(60);(4);(0);(8);(7);(4);(11);(1);(1);(4);(2,2,2,0);()\n",
      "    98\t12;2;0.170648;(59);(4);(0);(8);(7);(4);(11);(1);(1);(4);(2,2,2,0);()\n",
      "    99\t12;3;0.0879212;(59);(4);(0);(9);(7);(4);(11);(2);(3,1);(4);(2,2,2,0);()\n",
      "   100\t12;4;0.0753727;(60);(4);(0);(9);(7);(4);(11);(2);(3,1);(4);(2,2,2,0);()\n",
      "   101\t12;5;0.059337;(60);(4);(0);(8);(8);(4);(11);(2);(1,0);(4);(2,2,2,0);()\n"
     ]
    },
    {
     "data": {
      "text/plain": [
       "<pygor3.IgorIO.IgorModel at 0x7f78744a8d50>"
      ]
     },
     "execution_count": 63,
     "metadata": {},
     "output_type": "execute_result"
    }
   ],
   "source": [
    "!cat -n {task.igor_fln_output_scenarios}\n",
    "task.mdl"
   ]
  },
  {
   "cell_type": "code",
   "execution_count": 24,
   "metadata": {},
   "outputs": [
    {
     "name": "stdout",
     "output_type": "stream",
     "text": [
      "['seq_index', 'scenario_rank', 'scenario_proba_cond_seq', 'GeneChoice_V_gene_Undefined_side_prio7_size89', 'GeneChoice_J_gene_Undefined_side_prio7_size15', 'GeneChoice_D_gene_Undefined_side_prio6_size3', 'Deletion_V_gene_Three_prime_prio5_size21', 'Deletion_D_gene_Five_prime_prio5_size21', 'Deletion_D_gene_Three_prime_prio5_size21', 'Deletion_J_gene_Five_prime_prio5_size23', 'Insertion_VD_genes_Undefined_side_prio4_size31', 'DinucMarkov_VD_genes_Undefined_side_prio3_size16', 'Insertion_DJ_gene_Undefined_side_prio2_size31', 'DinucMarkov_DJ_gene_Undefined_side_prio1_size16', 'Mismatches\\n'] 15\n",
      "['17', '1', '0.0440476', '(31)', '(8)', '(2)', '(8)', '(7)', '(15)', '(4)', '(0)', '()', '(0)', '()', '()\\n'] 15\n",
      "31 <class 'str'> 2\n",
      "{'seq_index': 17, 'scenario_rank': 1, 'scenario_proba_cond_seq': 0.0440476, 'v_choice': 31, 'j_choice': 8, 'd_gene': 2, 'v_3_del': 8, 'd_5_del': 7, 'd_3_del': 15, 'j_5_del': 4, 'vd_ins': 0, 'vd_dinucl': (), 'dj_ins': 0, 'dj_dinucl': (), 'mismatches': (), 'mismatcheslen': 0}\n"
     ]
    }
   ],
   "source": [
    "# open file\n",
    "strSepChar=\";\"\n",
    "# Open file to write events\n",
    "with open(task.igor_fln_output_scenarios, \"r\") as ofile:\n",
    "    aaa = ofile.readline()\n",
    "    print(aaa.split(strSepChar), len(aaa.split(strSepChar)) )\n",
    "    line = ofile.readline()\n",
    "    print(line.split(strSepChar), len(line.split(strSepChar)) )\n",
    "    bs = p3.IgorBestScenariosVDJ.load_FromLineBestScenario(line)\n",
    "    bs.mdlParms = task.mdl.parms\n",
    "    print(bs)    \n",
    "    "
   ]
  },
  {
   "cell_type": "code",
   "execution_count": 40,
   "metadata": {},
   "outputs": [
    {
     "data": {
      "text/plain": [
       "16"
      ]
     },
     "execution_count": 40,
     "metadata": {},
     "output_type": "execute_result"
    }
   ],
   "source": [
    "len( list( bs.to_dict_names().keys() ) )\n"
   ]
  },
  {
   "cell_type": "code",
   "execution_count": null,
   "metadata": {},
   "outputs": [],
   "source": []
  },
  {
   "cell_type": "code",
   "execution_count": null,
   "metadata": {},
   "outputs": [],
   "source": []
  },
  {
   "cell_type": "code",
   "execution_count": 53,
   "metadata": {},
   "outputs": [
    {
     "data": {
      "text/plain": [
       "'seq_index;scenario_rank;scenario_proba_cond_seq;v_choice;j_choice;d_gene;v_3_del;d_5_del;d_3_del;j_5_del;vd_ins;vd_dinucl;dj_ins;dj_dinucl;mismatches;mismatcheslen'"
      ]
     },
     "execution_count": 53,
     "metadata": {},
     "output_type": "execute_result"
    }
   ],
   "source": [
    "bs0 = p3.IgorBestScenariosVDJ()\n",
    "bsHeaderList=list( eval(str(bs0)).keys() )\n",
    "strHeader = \";\".join(bsHeaderList)\n",
    "strHeader"
   ]
  },
  {
   "cell_type": "code",
   "execution_count": 5,
   "metadata": {},
   "outputs": [
    {
     "name": "stdout",
     "output_type": "stream",
     "text": [
      "/home/alfaceor/Dropbox/PosDoc/IGoR/dev/MyGithub/IGoR/share/igor\n",
      "/home/alfaceor/Dropbox/PosDoc/IGoR/dev/MyGithub/IGoR/share/igor\n",
      "Parms filename:  /home/alfaceor/.local/share/igor/models/human/tcr_beta/models/model_parms.txt\n",
      "Margs filename:  /home/alfaceor/.local/share/igor/models/human/tcr_beta/models/model_marginals.txt\n",
      "--------------------------------------------------\n",
      "Exported scenarios in : CCC_output_scenarios_names.csv\n"
     ]
    }
   ],
   "source": [
    "import pygor3 as p3\n",
    "task = p3.IgorTask.load_from_batchname(\"CCC\")\n",
    "task.igor_specie = \"human\"\n",
    "task.igor_chain = \"beta\"\n",
    "task.update_batch_filenames()\n",
    "task.load_IgorModel()\n",
    "\n",
    "strSepChar=';'\n",
    "\n",
    "bs0 = p3.IgorBestScenariosVDJ()\n",
    "bsHeaderList=list( eval(str(bs0)).keys() )\n",
    "strHeader = \";\".join(bsHeaderList)\n",
    "fln_output_scenarios_names = task.igor_batchname+\"_output_scenarios_names.csv\"\n",
    "ofile = open(fln_output_scenarios_names, \"w\")\n",
    "ofile.write(strHeader+'\\n')\n",
    "\n",
    "with open(task.igor_fln_output_scenarios, \"r\") as ifile:\n",
    "    inputHeader = ifile.readline()\n",
    "    \n",
    "    for line in ifile.readlines():\n",
    "        #print(line.split(strSepChar), len(line.split(strSepChar)) )\n",
    "        line = line.replace(\"\\n\",\"\")\n",
    "        bs = p3.IgorBestScenariosVDJ.load_FromLineBestScenario(line)\n",
    "        bs.mdlParms = task.mdl.parms\n",
    "        #print(bs)\n",
    "        aaa = strSepChar.join( list(map(str, bs.to_dict_names().values() ) ) )\n",
    "        ofile.write(aaa)\n",
    "\n",
    "ofile.close()\n",
    "print(\"Exported scenarios in :\", fln_output_scenarios_names)"
   ]
  },
  {
   "cell_type": "code",
   "execution_count": 6,
   "metadata": {},
   "outputs": [
    {
     "name": "stdout",
     "output_type": "stream",
     "text": [
      "seq_index;scenario_rank;scenario_proba_cond_seq;v_choice;j_choice;d_gene;v_3_del;d_5_del;d_3_del;j_5_del;vd_ins;vd_dinucl;dj_ins;dj_dinucl;mismatches;mismatcheslen\n",
      "17;1;0.0440476;M11951|TRBV24-1*01|Homo sapiens|F|V-REGION|189..476|288 nt|1| | | | |288+0=288| | |;X02987|TRBJ2-2*01|Homo sapiens|F|J-REGION|995..1045|51 nt|3| | | | |51+0=51| | |; TRBD2*02;4;3;11;0;0;[];0;[];[];017;2;0.0332147;M11951|TRBV24-1*01|Homo sapiens|F|V-REGION|189..476|288 nt|1| | | | |288+0=288| | |;X02987|TRBJ2-2*01|Homo sapiens|F|J-REGION|995..1045|51 nt|3| | | | |51+0=51| | |; TRBD2*02;4;3;12;0;0;[];1;[1];[];017;3;0.0226536;M11951|TRBV24-1*01|Homo sapiens|F|V-REGION|189..476|288 nt|1| | | | |288+0=288| | |;X02987|TRBJ2-2*01|Homo sapiens|F|J-REGION|995..1045|51 nt|3| | | | |51+0=51| | |; TRBD2*01;4;3;11;0;0;[];0;[];[];017;4;0.0180412;M11951|TRBV24-1*01|Homo sapiens|F|V-REGION|189..476|288 nt|1| | | | |288+0=288| | |;X02987|TRBJ2-2*01|Homo sapiens|F|J-REGION|995..1045|51 nt|3| | | | |51+0=51| | |; TRBD2*02;4;1;15;0;2;[0, 1];0;[];[];017;5;0.0178797;M11951|TRBV24-1*01|Homo sapiens|F|V-REGION|189..476|288 nt|1| | | | |288+0=288| | |;X02987|TRBJ2-2*01|Homo sapiens|F|J-REGION|995..1045|51 nt|3| | | | |51+0=51| | |; TRBD2*02;4;2;14;0;0;[];2;[1, 0];[];019;1;0.260819;L36092|TRBV19*01|Homo sapiens|F|V-REGION|453995..454281|287 nt|1| | | | |287+0=287| | |;M14158|TRBJ1-5*01|Homo sapiens|F|J-REGION|2368..2417|50 nt|2| | | | |50+0=50| | |; TRBD1*01;3;3;2;-1;5;[0, 1, 2, 2, 1];2;[2, 3];[];019;2;0.125907;L36092|TRBV19*01|Homo sapiens|F|V-REGION|453995..454281|287 nt|1| | | | |287+0=287| | |;M14158|TRBJ1-5*01|Homo sapiens|F|J-REGION|2368..2417|50 nt|2| | | | |50+0=50| | |; TRBD1*01;3;3;3;-1;5;[0, 1, 2, 2, 1];3;[2, 3, 2];[];019;3;0.0975333;L36092|TRBV19*01|Homo sapiens|F|V-REGION|453995..454281|287 nt|1| | | | |287+0=287| | |;M14158|TRBJ1-5*01|Homo sapiens|F|J-REGION|2368..2417|50 nt|2| | | | |50+0=50| | |; TRBD1*01;2;3;2;-1;4;[1, 2, 2, 1];2;[2, 3];[];019;4;0.0623081;L36092|TRBV19*01|Homo sapiens|F|V-REGION|453995..454281|287 nt|1| | | | |287+0=287| | |;M14158|TRBJ1-5*01|Homo sapiens|F|J-REGION|2368..2417|50 nt|2| | | | |50+0=50| | |; TRBD1*01;3;3;2;0;5;[0, 1, 2, 2, 1];3;[0, 2, 3];[];019;5;0.0470827;L36092|TRBV19*01|Homo sapiens|F|V-REGION|453995..454281|287 nt|1| | | | |287+0=287| | |;M14158|TRBJ1-5*01|Homo sapiens|F|J-REGION|2368..2417|50 nt|2| | | | |50+0=50| | |; TRBD1*01;2;3;3;-1;4;[1, 2, 2, 1];3;[2, 3, 2];[];016;1;0.180785;X07223|TRBV12-5*01|Homo sapiens|F|V-REGION|392..681|290 nt|1| | | | |290+0=290| | |;K02545|TRBJ1-1*01|Homo sapiens|F|J-REGION|749..796|48 nt|3| | | | |48+0=48| | |; TRBD1*01;-1;4;3;1;0;[];0;[];[];016;2;0.0436865;X07223|TRBV12-5*01|Homo sapiens|F|V-REGION|392..681|290 nt|1| | | | |290+0=290| | |;K02545|TRBJ1-1*01|Homo sapiens|F|J-REGION|749..796|48 nt|3| | | | |48+0=48| | |; TRBD1*01;2;3;3;1;2;[2, 3];0;[];[];016;3;0.0429532;X07223|TRBV12-5*01|Homo sapiens|F|V-REGION|392..681|290 nt|1| | | | |290+0=290| | |;K02545|TRBJ1-1*01|Homo sapiens|F|J-REGION|749..796|48 nt|3| | | | |48+0=48| | |; TRBD1*01;0;3;3;1;0;[];0;[];[];016;4;0.0427022;X07223|TRBV12-5*01|Homo sapiens|F|V-REGION|392..681|290 nt|1| | | | |290+0=290| | |;K02545|TRBJ1-1*01|Homo sapiens|F|J-REGION|749..796|48 nt|3| | | | |48+0=48| | |; TRBD1*01;-1;4;5;1;0;[];2;[2, 2];[];016;5;0.0403264;X07223|TRBV12-5*01|Homo sapiens|F|V-REGION|392..681|290 nt|1| | | | |290+0=290| | |;K02545|TRBJ1-1*01|Homo sapiens|F|J-REGION|749..796|48 nt|3| | | | |48+0=48| | |; TRBD1*01;-1;4;4;1;0;[];1;[2];[];018;1;0.202243;U07978|TRBV6-3*01|Homo sapiens|F|V-REGION|29129..29415|287 nt|1| | | | |287+0=287| | |;X02987|TRBJ2-1*01|Homo sapiens|F|J-REGION|800..849|50 nt|2| | | | |50+0=50| | |; TRBD2*01;4;-2;8;12;3;[3, 3, 3];0;[];[71, 73];218;2;0.197968;X61445|TRBV6-2*01|Homo sapiens|F|V-REGION|412..698|287 nt|1| | | | |287+0=287| | |;X02987|TRBJ2-1*01|Homo sapiens|F|J-REGION|800..849|50 nt|2| | | | |50+0=50| | |; TRBD2*01;4;-2;8;12;3;[3, 3, 3];0;[];[71, 73];218;3;0.0579932;X61445|TRBV6-2*01|Homo sapiens|F|V-REGION|412..698|287 nt|1| | | | |287+0=287| | |;X02987|TRBJ2-1*01|Homo sapiens|F|J-REGION|800..849|50 nt|2| | | | |50+0=50| | |; TRBD2*01;5;-2;8;12;4;[3, 3, 3, 3];0;[];[71, 73];218;4;0.0488489;U07978|TRBV6-3*01|Homo sapiens|F|V-REGION|29129..29415|287 nt|1| | | | |287+0=287| | |;X02987|TRBJ2-1*01|Homo sapiens|F|J-REGION|800..849|50 nt|2| | | | |50+0=50| | |; TRBD2*01;5;-2;8;12;4;[3, 3, 3, 3];0;[];[71, 73];218;5;0.0376093;U07978|TRBV6-3*01|Homo sapiens|F|V-REGION|29129..29415|287 nt|1| | | | |287+0=287| | |;X02987|TRBJ2-1*01|Homo sapiens|F|J-REGION|800..849|50 nt|2| | | | |50+0=50| | |; TRBD2*01;4;0;8;12;5;[3, 3, 3, 1, 1];0;[];[71, 73];25;1;0.0548707;X61442|TRBV7-2*01|Homo sapiens|F|V-REGION|545..834|290 nt|1| | | | |290+0=290| | |;X02987|TRBJ2-5*01|Homo sapiens|F|J-REGION|1553..1600|48 nt|3| | | | |48+0=48| | |; TRBD1*01;4;3;6;2;2;[3, 1];3;[1, 0, 0];[];05;2;0.0548385;X61443|TRBV7-2*02|Homo sapiens|F|V-REGION|192..475|284 nt|1| | | | |284+0=284| Extended by 6 | |;X02987|TRBJ2-5*01|Homo sapiens|F|J-REGION|1553..1600|48 nt|3| | | | |48+0=48| | |; TRBD1*01;4;3;6;2;2;[3, 1];3;[1, 0, 0];[];05;3;0.051889;X61442|TRBV7-2*01|Homo sapiens|F|V-REGION|545..834|290 nt|1| | | | |290+0=290| | |;X02987|TRBJ2-5*01|Homo sapiens|F|J-REGION|1553..1600|48 nt|3| | | | |48+0=48| | |; TRBD1*01;3;3;6;2;1;[1];3;[1, 0, 0];[];05;4;0.0518483;X61443|TRBV7-2*02|Homo sapiens|F|V-REGION|192..475|284 nt|1| | | | |284+0=284| Extended by 6 | |;X02987|TRBJ2-5*01|Homo sapiens|F|J-REGION|1553..1600|48 nt|3| | | | |48+0=48| | |; TRBD1*01;3;3;6;2;1;[1];3;[1, 0, 0];[];05;5;0.0458606;X61442|TRBV7-2*01|Homo sapiens|F|V-REGION|545..834|290 nt|1| | | | |290+0=290| | |;X02987|TRBJ2-5*01|Homo sapiens|F|J-REGION|1553..1600|48 nt|3| | | | |48+0=48| | |; TRBD1*01;4;3;6;1;2;[3, 1];2;[0, 0];[];02;1;0.312159;U66061|TRBV30*01|Homo sapiens|F|V-REGION|214317..214600|284 nt|1| | | | |284+0=284| |rev-compl|;K02545|TRBJ1-2*01|Homo sapiens|F|J-REGION|886..933|48 nt|3| | | | |48+0=48| | |; TRBD1*01;3;1;5;2;4;[1, 2, 1, 1];0;[];[];02;2;0.102346;U66061|TRBV30*01|Homo sapiens|F|V-REGION|214317..214600|284 nt|1| | | | |284+0=284| |rev-compl|;K02545|TRBJ1-2*01|Homo sapiens|F|J-REGION|886..933|48 nt|3| | | | |48+0=48| | |; TRBD1*01;3;1;5;4;4;[1, 2, 1, 1];2;[0, 0];[];02;3;0.0923304;U66061|TRBV30*01|Homo sapiens|F|V-REGION|214317..214600|284 nt|1| | | | |284+0=284| |rev-compl|;K02545|TRBJ1-2*01|Homo sapiens|F|J-REGION|886..933|48 nt|3| | | | |48+0=48| | |; TRBD1*01;4;1;5;2;5;[2, 1, 2, 1, 1];0;[];[];02;4;0.0847894;U66061|TRBV30*01|Homo sapiens|F|V-REGION|214317..214600|284 nt|1| | | | |284+0=284| |rev-compl|;K02545|TRBJ1-2*01|Homo sapiens|F|J-REGION|886..933|48 nt|3| | | | |48+0=48| | |; TRBD1*01;3;1;5;3;4;[1, 2, 1, 1];1;[0];[];02;5;0.0394455;U66061|TRBV30*01|Homo sapiens|F|V-REGION|214317..214600|284 nt|1| | | | |284+0=284| |rev-compl|;K02545|TRBJ1-2*01|Homo sapiens|F|J-REGION|886..933|48 nt|3| | | | |48+0=48| | |; TRBD1*01;3;2;5;2;5;[1, 2, 1, 1, 2];0;[];[];04;1;0.444024;M11955|TRBV20-1*01|Homo sapiens|F|V-REGION|427..719|293 nt|1| | | | |293+0=293| | |;X02987|TRBJ2-2*01|Homo sapiens|F|J-REGION|995..1045|51 nt|3| | | | |51+0=51| | |; TRBD1*01;1;4;3;2;4;[2, 1, 2, 2];2;[0, 1];[];04;2;0.129722;M11955|TRBV20-1*01|Homo sapiens|F|V-REGION|427..719|293 nt|1| | | | |293+0=293| | |;X02987|TRBJ2-2*01|Homo sapiens|F|J-REGION|995..1045|51 nt|3| | | | |51+0=51| | |; TRBD1*01;1;4;3;3;4;[2, 1, 2, 2];3;[0, 0, 1];[];04;3;0.0706754;M11955|TRBV20-1*01|Homo sapiens|F|V-REGION|427..719|293 nt|1| | | | |293+0=293| | |;X02987|TRBJ2-2*01|Homo sapiens|F|J-REGION|995..1045|51 nt|3| | | | |51+0=51| | |; TRBD1*01;1;4;3;4;4;[2, 1, 2, 2];4;[0, 0, 0, 1];[];04;4;0.0569819;M11955|TRBV20-1*01|Homo sapiens|F|V-REGION|427..719|293 nt|1| | | | |293+0=293| | |;X02987|TRBJ2-2*01|Homo sapiens|F|J-REGION|995..1045|51 nt|3| | | | |51+0=51| | |; TRBD1*01;2;4;3;2;5;[2, 2, 1, 2, 2];2;[0, 1];[];04;5;0.0443786;M11955|TRBV20-1*01|Homo sapiens|F|V-REGION|427..719|293 nt|1| | | | |293+0=293| | |;X02987|TRBJ2-2*01|Homo sapiens|F|J-REGION|995..1045|51 nt|3| | | | |51+0=51| | |; TRBD1*01;1;4;4;2;4;[2, 1, 2, 2];3;[0, 1, 2];[];06;1;0.145365;L36092|TRBV5-6*01|Homo sapiens|F|V-REGION|314963..315248|286 nt|1| | | | |286+0=286| | |;L36092|TRBJ1-6*02|Homo sapiens|F|J-REGION|643043..643095|53 nt|2| | | | |53+0=53| | |; TRBD1*01;4;7;1;3;2;[1, 1];2;[3, 0];[17];16;2;0.0672897;L36092|TRBV5-6*01|Homo sapiens|F|V-REGION|314963..315248|286 nt|1| | | | |286+0=286| | |;L36092|TRBJ1-6*02|Homo sapiens|F|J-REGION|643043..643095|53 nt|2| | | | |53+0=53| | |; TRBD1*01;4;7;1;4;2;[1, 1];3;[1, 3, 0];[17];16;3;0.0662259;L36092|TRBV5-6*01|Homo sapiens|F|V-REGION|314963..315248|286 nt|1| | | | |286+0=286| | |;L36092|TRBJ1-6*02|Homo sapiens|F|J-REGION|643043..643095|53 nt|2| | | | |53+0=53| | |; TRBD1*01;4;6;2;3;2;[1, 1];2;[3, 0];[17];16;4;0.0395124;L36092|TRBV5-6*01|Homo sapiens|F|V-REGION|314963..315248|286 nt|1| | | | |286+0=286| | |;L36092|TRBJ1-6*02|Homo sapiens|F|J-REGION|643043..643095|53 nt|2| | | | |53+0=53| | |; TRBD1*01;4;8;1;3;2;[1, 1];3;[3, 0, 2];[17];16;5;0.0306561;L36092|TRBV5-6*01|Homo sapiens|F|V-REGION|314963..315248|286 nt|1| | | | |286+0=286| | |;L36092|TRBJ1-6*02|Homo sapiens|F|J-REGION|643043..643095|53 nt|2| | | | |53+0=53| | |; TRBD1*01;4;6;2;4;2;[1, 1];3;[1, 3, 0];[17];13;1;0.395908;X61440|TRBV7-3*01|Homo sapiens|F|V-REGION|748..1037|290 nt|1| | | | |290+0=290| | |;X02987|TRBJ2-5*01|Homo sapiens|F|J-REGION|1553..1600|48 nt|3| | | | |48+0=48| | |; TRBD2*01;4;4;3;4;6;[1, 3, 2, 2, 2, 2];7;[2, 0, 2, 1, 2, 1, 1];[];03;2;0.155941;X61440|TRBV7-3*01|Homo sapiens|F|V-REGION|748..1037|290 nt|1| | | | |290+0=290| | |;X02987|TRBJ2-5*01|Homo sapiens|F|J-REGION|1553..1600|48 nt|3| | | | |48+0=48| | |; TRBD2*01;4;4;3;5;6;[1, 3, 2, 2, 2, 2];8;[0, 2, 0, 2, 1, 2, 1, 1];[];03;3;0.115015;X61440|TRBV7-3*01|Homo sapiens|F|V-REGION|748..1037|290 nt|1| | | | |290+0=290| | |;X02987|TRBJ2-5*01|Homo sapiens|F|J-REGION|1553..1600|48 nt|3| | | | |48+0=48| | |; TRBD2*01;5;4;3;4;7;[3, 1, 3, 2, 2, 2, 2];7;[2, 0, 2, 1, 2, 1, 1];[];03;4;0.0547753;X61440|TRBV7-3*01|Homo sapiens|F|V-REGION|748..1037|290 nt|1| | | | |290+0=290| | |;X02987|TRBJ2-5*01|Homo sapiens|F|J-REGION|1553..1600|48 nt|3| | | | |48+0=48| | |; TRBD2*01;4;5;3;4;7;[1, 3, 2, 2, 2, 2, 1];7;[2, 0, 2, 1, 2, 1, 1];[];03;5;0.0522827;X61440|TRBV7-3*01|Homo sapiens|F|V-REGION|748..1037|290 nt|1| | | | |290+0=290| | |;X02987|TRBJ2-5*01|Homo sapiens|F|J-REGION|1553..1600|48 nt|3| | | | |48+0=48| | |; TRBD2*01;4;4;4;4;6;[1, 3, 2, 2, 2, 2];8;[2, 0, 2, 1, 2, 1, 1, 2];[];08;1;0.0944116;L36092|TRBV7-7*03|Homo sapiens|F|V-REGION|326549..326838|290 nt|1| | | | |290+0=290| Discovered Allele in Data | Found by BLAST |;X02987|TRBJ2-2*01|Homo sapiens|F|J-REGION|995..1045|51 nt|3| | | | |51+0=51| | |; TRBD2*01;5;2;11;1;2;[2, 3];0;[];[];08;2;0.0741844;L36092|TRBV7-7*03|Homo sapiens|F|V-REGION|326549..326838|290 nt|1| | | | |290+0=290| Discovered Allele in Data | Found by BLAST |;X02987|TRBJ2-2*01|Homo sapiens|F|J-REGION|995..1045|51 nt|3| | | | |51+0=51| | |; TRBD1*01;5;2;7;1;2;[2, 3];0;[];[];08;3;0.0519349;L36092|TRBV7-7*03|Homo sapiens|F|V-REGION|326549..326838|290 nt|1| | | | |290+0=290| Discovered Allele in Data | Found by BLAST |;X02987|TRBJ2-2*01|Homo sapiens|F|J-REGION|995..1045|51 nt|3| | | | |51+0=51| | |; TRBD2*01;5;2;11;2;2;[2, 3];1;[2];[];08;4;0.0408081;L36092|TRBV7-7*03|Homo sapiens|F|V-REGION|326549..326838|290 nt|1| | | | |290+0=290| Discovered Allele in Data | Found by BLAST |;X02987|TRBJ2-2*01|Homo sapiens|F|J-REGION|995..1045|51 nt|3| | | | |51+0=51| | |; TRBD1*01;5;2;7;2;2;[2, 3];1;[2];[];08;5;0.0389495;L36092|TRBV7-7*03|Homo sapiens|F|V-REGION|326549..326838|290 nt|1| | | | |290+0=290| Discovered Allele in Data | Found by BLAST |;X02987|TRBJ2-2*01|Homo sapiens|F|J-REGION|995..1045|51 nt|3| | | | |51+0=51| | |; TRBD2*02;5;2;11;1;2;[2, 3];0;[];[];01;1;0.0869022;AF009662|TRBV6-6*02|Homo sapiens|F|V-REGION|24864..25150|287 nt|1| | | | |287+0=287| | |;K02545|TRBJ1-2*01|Homo sapiens|F|J-REGION|886..933|48 nt|3| | | | |48+0=48| | |; TRBD2*01;3;8;2;8;0;[];4;[1, 1, 2, 0];[];01;2;0.086837;L36092|TRBV6-6*01|Homo sapiens|F|V-REGION|284442..284728|287 nt|1| | | | |287+0=287| | |;K02545|TRBJ1-2*01|Homo sapiens|F|J-REGION|886..933|48 nt|3| | | | |48+0=48| | |; TRBD2*01;3;8;2;8;0;[];4;[1, 1, 2, 0];[];01;3;0.0472684;AF009662|TRBV6-6*02|Homo sapiens|F|V-REGION|24864..25150|287 nt|1| | | | |287+0=287| | |;K02545|TRBJ1-2*01|Homo sapiens|F|J-REGION|886..933|48 nt|3| | | | |48+0=48| | |; TRBD2*01;3;8;3;8;0;[];5;[1, 1, 2, 0, 2];[];01;4;0.047233;L36092|TRBV6-6*01|Homo sapiens|F|V-REGION|284442..284728|287 nt|1| | | | |287+0=287| | |;K02545|TRBJ1-2*01|Homo sapiens|F|J-REGION|886..933|48 nt|3| | | | |48+0=48| | |; TRBD2*01;3;8;3;8;0;[];5;[1, 1, 2, 0, 2];[];01;5;0.02142;L36092|TRBV6-6*01|Homo sapiens|F|V-REGION|284442..284728|287 nt|1| | | | |287+0=287| | |;K02545|TRBJ1-2*01|Homo sapiens|F|J-REGION|886..933|48 nt|3| | | | |48+0=48| | |; TRBD2*01;5;8;2;8;2;[3, 0];4;[1, 1, 2, 0];[];09;1;0.0830978;M64351|TRBV2*03|Homo sapiens|(F)|V-REGION|82..369|288 nt|1| | | | |288+0=288| Extended by 2 | |;X02987|TRBJ2-5*01|Homo sapiens|F|J-REGION|1553..1600|48 nt|3| | | | |48+0=48| | |; TRBD1*01;6;4;4;4;4;[2, 2, 2, 2];1;[3];[];09;2;0.0751573;U66059|TRBV2*01|Homo sapiens|F|V-REGION|93697..93986|290 nt|1| | | | |290+0=290| | |;X02987|TRBJ2-5*01|Homo sapiens|F|J-REGION|1553..1600|48 nt|3| | | | |48+0=48| | |; TRBD1*01;6;4;4;4;4;[2, 2, 2, 2];1;[3];[];09;3;0.073149;M64351|TRBV2*03|Homo sapiens|(F)|V-REGION|82..369|288 nt|1| | | | |288+0=288| Extended by 2 | |;X02987|TRBJ2-5*01|Homo sapiens|F|J-REGION|1553..1600|48 nt|3| | | | |48+0=48| | |; TRBD1*01;6;4;4;5;4;[2, 2, 2, 2];2;[0, 3];[];09;4;0.0661592;U66059|TRBV2*01|Homo sapiens|F|V-REGION|93697..93986|290 nt|1| | | | |290+0=290| | |;X02987|TRBJ2-5*01|Homo sapiens|F|J-REGION|1553..1600|48 nt|3| | | | |48+0=48| | |; TRBD1*01;6;4;4;5;4;[2, 2, 2, 2];2;[0, 3];[];09;5;0.0552727;M64351|TRBV2*03|Homo sapiens|(F)|V-REGION|82..369|288 nt|1| | | | |288+0=288| Extended by 2 | |;X02987|TRBJ2-5*01|Homo sapiens|F|J-REGION|1553..1600|48 nt|3| | | | |48+0=48| | |; TRBD1*01;6;4;5;4;4;[2, 2, 2, 2];2;[3, 2];[];010;1;0.0951136;U08314|TRBV28*01|Homo sapiens|F|V-REGION|408..694|287 nt|1| | | | |287+0=287| | |;K02545|TRBJ1-1*01|Homo sapiens|F|J-REGION|749..796|48 nt|3| | | | |48+0=48| | |; TRBD2*02;2;13;-1;16;3;[1, 2, 3];10;[2, 2, 3, 3, 2, 2, 1, 0, 2, 3];[77];110;2;0.0854586;U08314|TRBV28*01|Homo sapiens|F|V-REGION|408..694|287 nt|1| | | | |287+0=287| | |;K02545|TRBJ1-1*01|Homo sapiens|F|J-REGION|749..796|48 nt|3| | | | |48+0=48| | |; TRBD1*01;2;2;7;16;8;[1, 2, 3, 2, 2, 2, 1, 3];6;[2, 2, 3, 3, 2, 2];[77];110;3;0.0795903;U08314|TRBV28*01|Homo sapiens|F|V-REGION|408..694|287 nt|1| | | | |287+0=287| | |;K02545|TRBJ1-1*01|Homo sapiens|F|J-REGION|749..796|48 nt|3| | | | |48+0=48| | |; TRBD2*02;2;2;11;16;8;[1, 2, 3, 2, 2, 2, 1, 3];6;[2, 2, 3, 3, 2, 2];[77];110;4;0.0669697;U08314|TRBV28*01|Homo sapiens|F|V-REGION|408..694|287 nt|1| | | | |287+0=287| | |;K02545|TRBJ1-1*01|Homo sapiens|F|J-REGION|749..796|48 nt|3| | | | |48+0=48| | |; TRBD1*01;2;8;0;16;3;[1, 2, 3];10;[2, 2, 3, 3, 2, 2, 1, 0, 2, 3];[77];110;5;0.059529;U08314|TRBV28*01|Homo sapiens|F|V-REGION|408..694|287 nt|1| | | | |287+0=287| | |;K02545|TRBJ1-1*01|Homo sapiens|F|J-REGION|749..796|48 nt|3| | | | |48+0=48| | |; TRBD2*02;3;13;-1;16;4;[0, 1, 2, 3];10;[2, 2, 3, 3, 2, 2, 1, 0, 2, 3];[77];17;1;0.109048;M11953|TRBV7-8*01|Homo sapiens|F|V-REGION|215..504|290 nt|1| | | | |290+0=290| | |;M14158|TRBJ1-5*01|Homo sapiens|F|J-REGION|2368..2417|50 nt|2| | | | |50+0=50| | |; TRBD2*02;2;11;0;1;1;[1];6;[1, 2, 2, 0, 2, 2];[];07;2;0.0872785;M11953|TRBV7-8*01|Homo sapiens|F|V-REGION|215..504|290 nt|1| | | | |290+0=290| | |;M14158|TRBJ1-5*01|Homo sapiens|F|J-REGION|2368..2417|50 nt|2| | | | |50+0=50| | |; TRBD2*02;2;9;1;1;5;[1, 2, 0, 2, 2];1;[1];[];07;3;0.0653817;M11953|TRBV7-8*01|Homo sapiens|F|V-REGION|215..504|290 nt|1| | | | |290+0=290| | |;M14158|TRBJ1-5*01|Homo sapiens|F|J-REGION|2368..2417|50 nt|2| | | | |50+0=50| | |; TRBD2*02;2;9;1;2;5;[1, 2, 0, 2, 2];2;[0, 1];[];07;4;0.0437485;M11953|TRBV7-8*01|Homo sapiens|F|V-REGION|215..504|290 nt|1| | | | |290+0=290| | |;M14158|TRBJ1-5*01|Homo sapiens|F|J-REGION|2368..2417|50 nt|2| | | | |50+0=50| | |; TRBD2*02;2;9;3;1;5;[1, 2, 0, 2, 2];3;[1, 2, 2];[];07;5;0.0430056;M11953|TRBV7-8*01|Homo sapiens|F|V-REGION|215..504|290 nt|1| | | | |290+0=290| | |;M14158|TRBJ1-5*01|Homo sapiens|F|J-REGION|2368..2417|50 nt|2| | | | |50+0=50| | |; TRBD2*02;2;12;0;1;2;[1, 2];6;[1, 2, 2, 0, 2, 2];[];00;1;0.117948;L36092|TRBV29-1*01|Homo sapiens|F|V-REGION|574270..574559|290 nt|1| | | | |290+0=290| | |;X02987|TRBJ2-2*01|Homo sapiens|F|J-REGION|995..1045|51 nt|3| | | | |51+0=51| | |; TRBD2*02;4;11;0;5;7;[3, 0, 2, 3, 2, 3, 3];5;[2, 2, 1, 0, 2];[];00;2;0.117596;M13847|TRBV29-1*02|Homo sapiens|(F)|V-REGION|17..304|288 nt|1| | | | |288+0=288| | |;X02987|TRBJ2-2*01|Homo sapiens|F|J-REGION|995..1045|51 nt|3| | | | |51+0=51| | |; TRBD2*02;4;11;0;5;7;[3, 0, 2, 3, 2, 3, 3];5;[2, 2, 1, 0, 2];[];00;3;0.0282379;L36092|TRBV29-1*01|Homo sapiens|F|V-REGION|574270..574559|290 nt|1| | | | |290+0=290| | |;X02987|TRBJ2-2*01|Homo sapiens|F|J-REGION|995..1045|51 nt|3| | | | |51+0=51| | |; TRBD1*01;4;5;2;5;8;[3, 0, 2, 3, 2, 3, 3, 2];4;[2, 2, 1, 0];[];00;4;0.0282128;M13847|TRBV29-1*02|Homo sapiens|(F)|V-REGION|17..304|288 nt|1| | | | |288+0=288| | |;X02987|TRBJ2-2*01|Homo sapiens|F|J-REGION|995..1045|51 nt|3| | | | |51+0=51| | |; TRBD1*01;4;5;2;5;8;[3, 0, 2, 3, 2, 3, 3, 2];4;[2, 2, 1, 0];[];00;5;0.0190059;L36092|TRBV29-1*01|Homo sapiens|F|V-REGION|574270..574559|290 nt|1| | | | |290+0=290| | |;X02987|TRBJ2-2*01|Homo sapiens|F|J-REGION|995..1045|51 nt|3| | | | |51+0=51| | |; TRBD2*02;4;0;11;5;10;[3, 0, 2, 3, 2, 3, 3, 2, 0, 2];2;[2, 2];[];011;1;0.171631;U66059|TRBV9*01|Homo sapiens|F|V-REGION|206836..207121|286 nt|1| | | | |286+0=286| | |;K02545|TRBJ1-2*01|Homo sapiens|F|J-REGION|886..933|48 nt|3| | | | |48+0=48| | |; TRBD1*01;3;5;2;7;0;[];5;[2, 2, 3, 3, 1];[];011;2;0.130857;U66059|TRBV9*01|Homo sapiens|F|V-REGION|206836..207121|286 nt|1| | | | |286+0=286| | |;K02545|TRBJ1-2*01|Homo sapiens|F|J-REGION|886..933|48 nt|3| | | | |48+0=48| | |; TRBD1*01;3;7;0;7;1;[0];4;[2, 2, 3, 3];[];011;3;0.0721085;U66059|TRBV9*01|Homo sapiens|F|V-REGION|206836..207121|286 nt|1| | | | |286+0=286| | |;K02545|TRBJ1-2*01|Homo sapiens|F|J-REGION|886..933|48 nt|3| | | | |48+0=48| | |; TRBD1*01;4;7;0;7;2;[2, 0];4;[2, 2, 3, 3];[];011;4;0.0430597;U66059|TRBV9*01|Homo sapiens|F|V-REGION|206836..207121|286 nt|1| | | | |286+0=286| | |;K02545|TRBJ1-2*01|Homo sapiens|F|J-REGION|886..933|48 nt|3| | | | |48+0=48| | |; TRBD1*01;4;5;2;7;1;[2];5;[2, 2, 3, 3, 1];[];011;5;0.039449;U66059|TRBV9*01|Homo sapiens|F|V-REGION|206836..207121|286 nt|1| | | | |286+0=286| | |;K02545|TRBJ1-2*01|Homo sapiens|F|J-REGION|886..933|48 nt|3| | | | |48+0=48| | |; TRBD1*01;3;5;2;8;0;[];6;[3, 2, 2, 3, 3, 1];[];013;1;0.111541;L36092|TRBV5-8*01|Homo sapiens|F|V-REGION|355117..355402|286 nt|1| | | | |286+0=286| | |;M14158|TRBJ1-4*01|Homo sapiens|F|J-REGION|2095..2145|51 nt|3| | | | |51+0=51| | |; TRBD1*01;10;7;1;5;13;[2, 3, 1, 2, 0, 0, 2, 1, 2, 1, 3, 1, 1];1;[2];[];013;2;0.0628513;L36092|TRBV5-8*01|Homo sapiens|F|V-REGION|355117..355402|286 nt|1| | | | |286+0=286| | |;M14158|TRBJ1-4*01|Homo sapiens|F|J-REGION|2095..2145|51 nt|3| | | | |51+0=51| | |; TRBD1*01;10;7;1;6;13;[2, 3, 1, 2, 0, 0, 2, 1, 2, 1, 3, 1, 1];2;[0, 2];[];013;3;0.0591941;L36092|TRBV5-8*01|Homo sapiens|F|V-REGION|355117..355402|286 nt|1| | | | |286+0=286| | |;M14158|TRBJ1-4*01|Homo sapiens|F|J-REGION|2095..2145|51 nt|3| | | | |51+0=51| | |; TRBD1*01;10;8;1;5;13;[2, 3, 1, 2, 0, 0, 2, 1, 2, 1, 3, 1, 1];2;[2, 2];[];013;4;0.0508164;L36092|TRBV5-8*01|Homo sapiens|F|V-REGION|355117..355402|286 nt|1| | | | |286+0=286| | |;M14158|TRBJ1-4*01|Homo sapiens|F|J-REGION|2095..2145|51 nt|3| | | | |51+0=51| | |; TRBD1*01;10;6;2;5;13;[2, 3, 1, 2, 0, 0, 2, 1, 2, 1, 3, 1, 1];1;[2];[];013;5;0.0450073;L36092|TRBV5-8*01|Homo sapiens|F|V-REGION|355117..355402|286 nt|1| | | | |286+0=286| | |;M14158|TRBJ1-4*01|Homo sapiens|F|J-REGION|2095..2145|51 nt|3| | | | |51+0=51| | |; TRBD1*01;10;7;2;5;13;[2, 3, 1, 2, 0, 0, 2, 1, 2, 1, 3, 1, 1];2;[2, 2];[];014;1;0.221708;U66059|TRBV5-1*01|Homo sapiens|F|V-REGION|113806..114091|286 nt|1| | | | |286+0=286| | |;X02987|TRBJ2-6*01|Homo sapiens|F|J-REGION|1673..1725|53 nt|2| | | | |53+0=53| | |; TRBD1*01;2;2;3;2;1;[3];0;[];[];014;2;0.168844;U66059|TRBV5-1*01|Homo sapiens|F|V-REGION|113806..114091|286 nt|1| | | | |286+0=286| | |;X02987|TRBJ2-6*01|Homo sapiens|F|J-REGION|1673..1725|53 nt|2| | | | |53+0=53| | |; TRBD1*01;3;2;3;2;2;[3, 3];0;[];[];014;3;0.0806854;U66059|TRBV5-1*01|Homo sapiens|F|V-REGION|113806..114091|286 nt|1| | | | |286+0=286| | |;X02987|TRBJ2-6*01|Homo sapiens|F|J-REGION|1673..1725|53 nt|2| | | | |53+0=53| | |; TRBD1*01;4;2;3;2;3;[3, 3, 3];0;[];[];014;4;0.0626278;U66059|TRBV5-1*01|Homo sapiens|F|V-REGION|113806..114091|286 nt|1| | | | |286+0=286| | |;X02987|TRBJ2-6*01|Homo sapiens|F|J-REGION|1673..1725|53 nt|2| | | | |53+0=53| | |; TRBD1*01;2;3;3;2;2;[3, 2];0;[];[];014;5;0.035004;U66059|TRBV5-1*01|Homo sapiens|F|V-REGION|113806..114091|286 nt|1| | | | |286+0=286| | |;X02987|TRBJ2-6*01|Homo sapiens|F|J-REGION|1673..1725|53 nt|2| | | | |53+0=53| | |; TRBD1*01;2;4;3;2;3;[3, 2, 0];0;[];[];015;1;0.445392;M11953|TRBV7-8*01|Homo sapiens|F|V-REGION|215..504|290 nt|1| | | | |290+0=290| | |;K02545|TRBJ1-1*01|Homo sapiens|F|J-REGION|749..796|48 nt|3| | | | |48+0=48| | |; TRBD1*01;2;9;0;3;5;[2, 3, 1, 2, 3];2;[3, 0];[];015;2;0.136203;M11953|TRBV7-8*01|Homo sapiens|F|V-REGION|215..504|290 nt|1| | | | |290+0=290| | |;K02545|TRBJ1-1*01|Homo sapiens|F|J-REGION|749..796|48 nt|3| | | | |48+0=48| | |; TRBD1*01;2;9;0;4;5;[2, 3, 1, 2, 3];3;[0, 3, 0];[];015;3;0.0998498;M11953|TRBV7-8*01|Homo sapiens|F|V-REGION|215..504|290 nt|1| | | | |290+0=290| | |;K02545|TRBJ1-1*01|Homo sapiens|F|J-REGION|749..796|48 nt|3| | | | |48+0=48| | |; TRBD1*01;2;9;1;3;5;[2, 3, 1, 2, 3];3;[3, 0, 1];[];015;4;0.03291;M11953|TRBV7-8*01|Homo sapiens|F|V-REGION|215..504|290 nt|1| | | | |290+0=290| | |;K02545|TRBJ1-1*01|Homo sapiens|F|J-REGION|749..796|48 nt|3| | | | |48+0=48| | |; TRBD1*01;2;9;1;4;5;[2, 3, 1, 2, 3];4;[0, 3, 0, 1];[];015;5;0.0244617;M11953|TRBV7-8*01|Homo sapiens|F|V-REGION|215..504|290 nt|1| | | | |290+0=290| | |;K02545|TRBJ1-1*01|Homo sapiens|F|J-REGION|749..796|48 nt|3| | | | |48+0=48| | |; TRBD1*01;2;9;0;5;5;[2, 3, 1, 2, 3];4;[1, 0, 3, 0];[];012;1;0.177428;U07978|TRBV6-3*01|Homo sapiens|F|V-REGION|29129..29415|287 nt|1| | | | |287+0=287| | |;M14158|TRBJ1-5*01|Homo sapiens|F|J-REGION|2368..2417|50 nt|2| | | | |50+0=50| | |; TRBD1*01;4;3;0;7;1;[1];4;[2, 2, 2, 0];[];012;2;0.170648;X61445|TRBV6-2*01|Homo sapiens|F|V-REGION|412..698|287 nt|1| | | | |287+0=287| | |;M14158|TRBJ1-5*01|Homo sapiens|F|J-REGION|2368..2417|50 nt|2| | | | |50+0=50| | |; TRBD1*01;4;3;0;7;1;[1];4;[2, 2, 2, 0];[];012;3;0.0879212;X61445|TRBV6-2*01|Homo sapiens|F|V-REGION|412..698|287 nt|1| | | | |287+0=287| | |;M14158|TRBJ1-5*01|Homo sapiens|F|J-REGION|2368..2417|50 nt|2| | | | |50+0=50| | |; TRBD1*01;5;3;0;7;2;[3, 1];4;[2, 2, 2, 0];[];012;4;0.0753727;U07978|TRBV6-3*01|Homo sapiens|F|V-REGION|29129..29415|287 nt|1| | | | |287+0=287| | |;M14158|TRBJ1-5*01|Homo sapiens|F|J-REGION|2368..2417|50 nt|2| | | | |50+0=50| | |; TRBD1*01;5;3;0;7;2;[3, 1];4;[2, 2, 2, 0];[];012;5;0.059337;U07978|TRBV6-3*01|Homo sapiens|F|V-REGION|29129..29415|287 nt|1| | | | |287+0=287| | |;M14158|TRBJ1-5*01|Homo sapiens|F|J-REGION|2368..2417|50 nt|2| | | | |50+0=50| | |; TRBD1*01;4;4;0;7;2;[1, 0];4;[2, 2, 2, 0];[];0"
     ]
    }
   ],
   "source": [
    "!head {fln_output_scenarios_names}"
   ]
  },
  {
   "cell_type": "code",
   "execution_count": 88,
   "metadata": {},
   "outputs": [
    {
     "data": {
      "text/plain": [
       "'6;1;0.145365;(55);(6);(0);(8);(11);(5);(7);(2);(1,1);(2);(3,0);(17)'"
      ]
     },
     "execution_count": 88,
     "metadata": {},
     "output_type": "execute_result"
    }
   ],
   "source": [
    "line #= \"1;5;0.02142;(63);(1);(1);(9);(12);(6);(12);(2);(3,0);(4);(1,1,2,0);()\"\n",
    "\n"
   ]
  },
  {
   "cell_type": "code",
   "execution_count": 84,
   "metadata": {},
   "outputs": [
    {
     "data": {
      "text/plain": [
       "4"
      ]
     },
     "execution_count": 84,
     "metadata": {},
     "output_type": "execute_result"
    }
   ],
   "source": [
    "(4)"
   ]
  },
  {
   "cell_type": "code",
   "execution_count": 89,
   "metadata": {},
   "outputs": [
    {
     "name": "stdout",
     "output_type": "stream",
     "text": [
      "55 <class 'str'> 2\n",
      "object of type 'int' has no len()\n"
     ]
    },
    {
     "ename": "TypeError",
     "evalue": "object of type 'int' has no len()",
     "output_type": "error",
     "traceback": [
      "\u001b[0;31m---------------------------------------------------------------------------\u001b[0m",
      "\u001b[0;31mTypeError\u001b[0m                                 Traceback (most recent call last)",
      "\u001b[0;32m<ipython-input-89-73c48d9df8ba>\u001b[0m in \u001b[0;36m<module>\u001b[0;34m\u001b[0m\n\u001b[0;32m----> 1\u001b[0;31m \u001b[0mbs\u001b[0m \u001b[0;34m=\u001b[0m \u001b[0mp3\u001b[0m\u001b[0;34m.\u001b[0m\u001b[0mIgorBestScenariosVDJ\u001b[0m\u001b[0;34m.\u001b[0m\u001b[0mload_FromLineBestScenario\u001b[0m\u001b[0;34m(\u001b[0m\u001b[0mline\u001b[0m\u001b[0;34m)\u001b[0m\u001b[0;34m\u001b[0m\u001b[0;34m\u001b[0m\u001b[0m\n\u001b[0m",
      "\u001b[0;32m~/Dropbox/PosDoc/IGoR/dev/MyGithub/pygor3/pygor3/IgorBestScenarios.py\u001b[0m in \u001b[0;36mload_FromLineBestScenario\u001b[0;34m(cls, line, delimiter)\u001b[0m\n\u001b[1;32m    150\u001b[0m         \u001b[0;32mexcept\u001b[0m \u001b[0mException\u001b[0m \u001b[0;32mas\u001b[0m \u001b[0me\u001b[0m\u001b[0;34m:\u001b[0m\u001b[0;34m\u001b[0m\u001b[0;34m\u001b[0m\u001b[0m\n\u001b[1;32m    151\u001b[0m             \u001b[0mprint\u001b[0m\u001b[0;34m(\u001b[0m\u001b[0me\u001b[0m\u001b[0;34m)\u001b[0m\u001b[0;34m\u001b[0m\u001b[0;34m\u001b[0m\u001b[0m\n\u001b[0;32m--> 152\u001b[0;31m             \u001b[0;32mraise\u001b[0m \u001b[0me\u001b[0m\u001b[0;34m\u001b[0m\u001b[0;34m\u001b[0m\u001b[0m\n\u001b[0m\u001b[1;32m    153\u001b[0m \u001b[0;34m\u001b[0m\u001b[0m\n\u001b[1;32m    154\u001b[0m \u001b[0;34m\u001b[0m\u001b[0m\n",
      "\u001b[0;32m~/Dropbox/PosDoc/IGoR/dev/MyGithub/pygor3/pygor3/IgorBestScenarios.py\u001b[0m in \u001b[0;36mload_FromLineBestScenario\u001b[0;34m(cls, line, delimiter)\u001b[0m\n\u001b[1;32m    144\u001b[0m             \u001b[0mcls\u001b[0m\u001b[0;34m.\u001b[0m\u001b[0mdj_dinucl\u001b[0m      \u001b[0;34m=\u001b[0m \u001b[0meval\u001b[0m\u001b[0;34m(\u001b[0m\u001b[0mlinesplit\u001b[0m\u001b[0;34m[\u001b[0m\u001b[0;36m13\u001b[0m\u001b[0;34m]\u001b[0m\u001b[0;34m.\u001b[0m\u001b[0mreplace\u001b[0m\u001b[0;34m(\u001b[0m\u001b[0;34m\"(\"\u001b[0m\u001b[0;34m,\u001b[0m\u001b[0;34m\"[\"\u001b[0m\u001b[0;34m)\u001b[0m\u001b[0;34m.\u001b[0m\u001b[0mreplace\u001b[0m\u001b[0;34m(\u001b[0m\u001b[0;34m\")\"\u001b[0m\u001b[0;34m,\u001b[0m\u001b[0;34m\"]\"\u001b[0m\u001b[0;34m)\u001b[0m\u001b[0;34m)\u001b[0m\u001b[0;34m\u001b[0m\u001b[0;34m\u001b[0m\u001b[0m\n\u001b[1;32m    145\u001b[0m             \u001b[0mcls\u001b[0m\u001b[0;34m.\u001b[0m\u001b[0mmismatches\u001b[0m     \u001b[0;34m=\u001b[0m \u001b[0meval\u001b[0m\u001b[0;34m(\u001b[0m\u001b[0mlinesplit\u001b[0m\u001b[0;34m[\u001b[0m\u001b[0;36m14\u001b[0m\u001b[0;34m]\u001b[0m\u001b[0;34m.\u001b[0m\u001b[0mreplace\u001b[0m\u001b[0;34m(\u001b[0m\u001b[0;34m\"(\"\u001b[0m\u001b[0;34m,\u001b[0m\u001b[0;34m\"[\"\u001b[0m\u001b[0;34m)\u001b[0m\u001b[0;34m.\u001b[0m\u001b[0mreplace\u001b[0m\u001b[0;34m(\u001b[0m\u001b[0;34m\")\"\u001b[0m\u001b[0;34m,\u001b[0m\u001b[0;34m\"]\"\u001b[0m\u001b[0;34m)\u001b[0m\u001b[0;34m)\u001b[0m\u001b[0;34m\u001b[0m\u001b[0;34m\u001b[0m\u001b[0m\n\u001b[0;32m--> 146\u001b[0;31m             \u001b[0mcls\u001b[0m\u001b[0;34m.\u001b[0m\u001b[0mmismatcheslen\u001b[0m  \u001b[0;34m=\u001b[0m \u001b[0mint\u001b[0m\u001b[0;34m(\u001b[0m\u001b[0mlen\u001b[0m\u001b[0;34m(\u001b[0m\u001b[0mcls\u001b[0m\u001b[0;34m.\u001b[0m\u001b[0mmismatches\u001b[0m\u001b[0;34m)\u001b[0m\u001b[0;34m)\u001b[0m\u001b[0;34m\u001b[0m\u001b[0;34m\u001b[0m\u001b[0m\n\u001b[0m\u001b[1;32m    147\u001b[0m \u001b[0;34m\u001b[0m\u001b[0m\n\u001b[1;32m    148\u001b[0m             \u001b[0;32mreturn\u001b[0m \u001b[0mcls\u001b[0m\u001b[0;34m\u001b[0m\u001b[0;34m\u001b[0m\u001b[0m\n",
      "\u001b[0;31mTypeError\u001b[0m: object of type 'int' has no len()"
     ]
    }
   ],
   "source": [
    "bs = p3.IgorBestScenariosVDJ.load_FromLineBestScenario(line)"
   ]
  },
  {
   "cell_type": "code",
   "execution_count": 72,
   "metadata": {},
   "outputs": [
    {
     "name": "stdout",
     "output_type": "stream",
     "text": [
      "55 <class 'str'> 2\n",
      "object of type 'int' has no len()\n"
     ]
    },
    {
     "ename": "TypeError",
     "evalue": "object of type 'int' has no len()",
     "output_type": "error",
     "traceback": [
      "\u001b[0;31m---------------------------------------------------------------------------\u001b[0m",
      "\u001b[0;31mTypeError\u001b[0m                                 Traceback (most recent call last)",
      "\u001b[0;32m<ipython-input-72-745da7c66df5>\u001b[0m in \u001b[0;36m<module>\u001b[0;34m\u001b[0m\n\u001b[0;32m----> 1\u001b[0;31m \u001b[0mbs\u001b[0m \u001b[0;34m=\u001b[0m \u001b[0mp3\u001b[0m\u001b[0;34m.\u001b[0m\u001b[0mIgorBestScenariosVDJ\u001b[0m\u001b[0;34m.\u001b[0m\u001b[0mload_FromLineBestScenario\u001b[0m\u001b[0;34m(\u001b[0m\u001b[0mline\u001b[0m\u001b[0;34m)\u001b[0m\u001b[0;34m\u001b[0m\u001b[0;34m\u001b[0m\u001b[0m\n\u001b[0m\u001b[1;32m      2\u001b[0m \u001b[0mbs\u001b[0m\u001b[0;34m.\u001b[0m\u001b[0mmdlParms\u001b[0m \u001b[0;34m=\u001b[0m \u001b[0mtask\u001b[0m\u001b[0;34m.\u001b[0m\u001b[0mmdl\u001b[0m\u001b[0;34m.\u001b[0m\u001b[0mparms\u001b[0m\u001b[0;34m\u001b[0m\u001b[0;34m\u001b[0m\u001b[0m\n\u001b[1;32m      3\u001b[0m \u001b[0mprint\u001b[0m\u001b[0;34m(\u001b[0m\u001b[0mbs\u001b[0m\u001b[0;34m)\u001b[0m\u001b[0;34m\u001b[0m\u001b[0;34m\u001b[0m\u001b[0m\n\u001b[1;32m      4\u001b[0m \u001b[0maaa\u001b[0m \u001b[0;34m=\u001b[0m \u001b[0mstrSepChar\u001b[0m\u001b[0;34m.\u001b[0m\u001b[0mjoin\u001b[0m\u001b[0;34m(\u001b[0m \u001b[0mlist\u001b[0m\u001b[0;34m(\u001b[0m\u001b[0mmap\u001b[0m\u001b[0;34m(\u001b[0m\u001b[0mstr\u001b[0m\u001b[0;34m,\u001b[0m \u001b[0mbs\u001b[0m\u001b[0;34m.\u001b[0m\u001b[0mto_dict_names\u001b[0m\u001b[0;34m(\u001b[0m\u001b[0;34m)\u001b[0m\u001b[0;34m.\u001b[0m\u001b[0mvalues\u001b[0m\u001b[0;34m(\u001b[0m\u001b[0;34m)\u001b[0m \u001b[0;34m)\u001b[0m \u001b[0;34m)\u001b[0m \u001b[0;34m)\u001b[0m\u001b[0;34m\u001b[0m\u001b[0;34m\u001b[0m\u001b[0m\n",
      "\u001b[0;32m~/Dropbox/PosDoc/IGoR/dev/MyGithub/pygor3/pygor3/IgorBestScenarios.py\u001b[0m in \u001b[0;36mload_FromLineBestScenario\u001b[0;34m(cls, line, delimiter)\u001b[0m\n\u001b[1;32m    150\u001b[0m         \u001b[0;32mexcept\u001b[0m \u001b[0mException\u001b[0m \u001b[0;32mas\u001b[0m \u001b[0me\u001b[0m\u001b[0;34m:\u001b[0m\u001b[0;34m\u001b[0m\u001b[0;34m\u001b[0m\u001b[0m\n\u001b[1;32m    151\u001b[0m             \u001b[0mprint\u001b[0m\u001b[0;34m(\u001b[0m\u001b[0me\u001b[0m\u001b[0;34m)\u001b[0m\u001b[0;34m\u001b[0m\u001b[0;34m\u001b[0m\u001b[0m\n\u001b[0;32m--> 152\u001b[0;31m             \u001b[0;32mraise\u001b[0m \u001b[0me\u001b[0m\u001b[0;34m\u001b[0m\u001b[0;34m\u001b[0m\u001b[0m\n\u001b[0m\u001b[1;32m    153\u001b[0m \u001b[0;34m\u001b[0m\u001b[0m\n\u001b[1;32m    154\u001b[0m \u001b[0;34m\u001b[0m\u001b[0m\n",
      "\u001b[0;32m~/Dropbox/PosDoc/IGoR/dev/MyGithub/pygor3/pygor3/IgorBestScenarios.py\u001b[0m in \u001b[0;36mload_FromLineBestScenario\u001b[0;34m(cls, line, delimiter)\u001b[0m\n\u001b[1;32m    144\u001b[0m             \u001b[0mcls\u001b[0m\u001b[0;34m.\u001b[0m\u001b[0mdj_dinucl\u001b[0m      \u001b[0;34m=\u001b[0m \u001b[0meval\u001b[0m\u001b[0;34m(\u001b[0m\u001b[0mlinesplit\u001b[0m\u001b[0;34m[\u001b[0m\u001b[0;36m13\u001b[0m\u001b[0;34m]\u001b[0m\u001b[0;34m)\u001b[0m\u001b[0;34m\u001b[0m\u001b[0;34m\u001b[0m\u001b[0m\n\u001b[1;32m    145\u001b[0m             \u001b[0mcls\u001b[0m\u001b[0;34m.\u001b[0m\u001b[0mmismatches\u001b[0m     \u001b[0;34m=\u001b[0m \u001b[0meval\u001b[0m\u001b[0;34m(\u001b[0m\u001b[0mlinesplit\u001b[0m\u001b[0;34m[\u001b[0m\u001b[0;36m14\u001b[0m\u001b[0;34m]\u001b[0m\u001b[0;34m)\u001b[0m\u001b[0;34m\u001b[0m\u001b[0;34m\u001b[0m\u001b[0m\n\u001b[0;32m--> 146\u001b[0;31m             \u001b[0mcls\u001b[0m\u001b[0;34m.\u001b[0m\u001b[0mmismatcheslen\u001b[0m  \u001b[0;34m=\u001b[0m \u001b[0mint\u001b[0m\u001b[0;34m(\u001b[0m\u001b[0mlen\u001b[0m\u001b[0;34m(\u001b[0m\u001b[0mcls\u001b[0m\u001b[0;34m.\u001b[0m\u001b[0mmismatches\u001b[0m\u001b[0;34m)\u001b[0m\u001b[0;34m)\u001b[0m\u001b[0;34m\u001b[0m\u001b[0;34m\u001b[0m\u001b[0m\n\u001b[0m\u001b[1;32m    147\u001b[0m \u001b[0;34m\u001b[0m\u001b[0m\n\u001b[1;32m    148\u001b[0m             \u001b[0;32mreturn\u001b[0m \u001b[0mcls\u001b[0m\u001b[0;34m\u001b[0m\u001b[0;34m\u001b[0m\u001b[0m\n",
      "\u001b[0;31mTypeError\u001b[0m: object of type 'int' has no len()"
     ]
    }
   ],
   "source": [
    "bs = p3.IgorBestScenariosVDJ.load_FromLineBestScenario(line)\n",
    "bs.mdlParms = task.mdl.parms\n",
    "print(bs)\n",
    "aaa = strSepChar.join( list(map(str, bs.to_dict_names().values() ) ) )"
   ]
  },
  {
   "cell_type": "code",
   "execution_count": null,
   "metadata": {},
   "outputs": [],
   "source": []
  }
 ],
 "metadata": {
  "kernelspec": {
   "display_name": "Python 3",
   "language": "python",
   "name": "python3"
  },
  "language_info": {
   "codemirror_mode": {
    "name": "ipython",
    "version": 3
   },
   "file_extension": ".py",
   "mimetype": "text/x-python",
   "name": "python",
   "nbconvert_exporter": "python",
   "pygments_lexer": "ipython3",
   "version": "3.7.10"
  }
 },
 "nbformat": 4,
 "nbformat_minor": 4
}
