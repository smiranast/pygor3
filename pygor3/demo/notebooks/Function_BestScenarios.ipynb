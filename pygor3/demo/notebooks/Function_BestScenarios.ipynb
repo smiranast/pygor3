{
 "cells": [
  {
   "cell_type": "code",
   "execution_count": 1,
   "metadata": {},
   "outputs": [
    {
     "name": "stdout",
     "output_type": "stream",
     "text": [
      "/home/alfaceor/Dropbox/PosDoc/IGoR/dev/MyGithub/pygor3/demo/thi/synthetic_data\n",
      "ErrorRate_record :  ('SingleErrorRate', '0.000396072')\n",
      "----- Marginals -----\n",
      "d_3_del\n",
      "d_5_del\n",
      "d_gene\n",
      "dj_dinucl\n",
      "dj_ins\n",
      "j_5_del\n",
      "j_choice\n",
      "v_3_del\n",
      "v_choice\n",
      "vd_dinucl\n",
      "vd_ins\n"
     ]
    }
   ],
   "source": [
    "import pygor3 as p3\n",
    "%cd /home/alfaceor/Dropbox/PosDoc/IGoR/dev/MyGithub/pygor3/demo/thi/synthetic_data\n",
    "db = p3.IgorSqliteDB.create_db(\"Ajam.db\")\n",
    "mdl = db.get_IgorModel()\n",
    "seq_index=3"
   ]
  },
  {
   "cell_type": "code",
   "execution_count": 2,
   "metadata": {},
   "outputs": [],
   "source": [
    "bs_df = db.get_IgorBestScenariosDataframe_By_seq_index(seq_index)\n",
    "bs_list = db.get_IgorBestScenarios_By_seq_index_IgorModel(seq_index, mdl)"
   ]
  },
  {
   "cell_type": "code",
   "execution_count": 3,
   "metadata": {},
   "outputs": [
    {
     "name": "stdout",
     "output_type": "stream",
     "text": [
      "vd_dinucl [0, 0, 2] DinucMarkov\n",
      "dj_dinucl [0] DinucMarkov\n",
      "v_choice 60 GeneChoice\n",
      "d_gene 1 GeneChoice\n",
      "j_choice 8 GeneChoice\n",
      "v_3_del 2 Deletion\n",
      "d_3_del 12 Deletion\n",
      "d_5_del 4 Deletion\n",
      "j_5_del 6 Deletion\n",
      "vd_ins 3 Insertion\n",
      "dj_ins 1 Insertion\n"
     ]
    }
   ],
   "source": [
    "bs = bs_list[0]\n",
    "bs_real = mdl.parms.realiz_dict_from_scenario(bs)"
   ]
  },
  {
   "cell_type": "code",
   "execution_count": 9,
   "metadata": {},
   "outputs": [
    {
     "data": {
      "text/plain": [
       "287"
      ]
     },
     "execution_count": 9,
     "metadata": {},
     "output_type": "execute_result"
    }
   ],
   "source": [
    "len(bs_real['v_choice'].value)"
   ]
  },
  {
   "cell_type": "code",
   "execution_count": 51,
   "metadata": {},
   "outputs": [
    {
     "data": {
      "text/html": [
       "<div>\n",
       "<style scoped>\n",
       "    .dataframe tbody tr th:only-of-type {\n",
       "        vertical-align: middle;\n",
       "    }\n",
       "\n",
       "    .dataframe tbody tr th {\n",
       "        vertical-align: top;\n",
       "    }\n",
       "\n",
       "    .dataframe thead th {\n",
       "        text-align: right;\n",
       "    }\n",
       "</style>\n",
       "<table border=\"1\" class=\"dataframe\">\n",
       "  <thead>\n",
       "    <tr style=\"text-align: right;\">\n",
       "      <th></th>\n",
       "      <th>seq_index</th>\n",
       "      <th>scenario_rank</th>\n",
       "      <th>scenario_proba_cond_seq</th>\n",
       "      <th>id_v_choice</th>\n",
       "      <th>id_j_choice</th>\n",
       "      <th>id_d_gene</th>\n",
       "      <th>id_v_3_del</th>\n",
       "      <th>id_d_5_del</th>\n",
       "      <th>id_d_3_del</th>\n",
       "      <th>id_j_5_del</th>\n",
       "      <th>id_vd_ins</th>\n",
       "      <th>vd_dinucl</th>\n",
       "      <th>id_dj_ins</th>\n",
       "      <th>dj_dinucl</th>\n",
       "      <th>mismatches</th>\n",
       "      <th>mismatcheslen</th>\n",
       "    </tr>\n",
       "  </thead>\n",
       "  <tbody>\n",
       "    <tr>\n",
       "      <th>1</th>\n",
       "      <td>3</td>\n",
       "      <td>2</td>\n",
       "      <td>0.106228</td>\n",
       "      <td>59</td>\n",
       "      <td>8</td>\n",
       "      <td>1</td>\n",
       "      <td>2</td>\n",
       "      <td>4</td>\n",
       "      <td>12</td>\n",
       "      <td>6</td>\n",
       "      <td>3</td>\n",
       "      <td>[0,0,2]</td>\n",
       "      <td>1</td>\n",
       "      <td>[0]</td>\n",
       "      <td>[261]</td>\n",
       "      <td>1</td>\n",
       "    </tr>\n",
       "    <tr>\n",
       "      <th>4</th>\n",
       "      <td>3</td>\n",
       "      <td>5</td>\n",
       "      <td>0.051306</td>\n",
       "      <td>59</td>\n",
       "      <td>8</td>\n",
       "      <td>1</td>\n",
       "      <td>2</td>\n",
       "      <td>5</td>\n",
       "      <td>12</td>\n",
       "      <td>6</td>\n",
       "      <td>4</td>\n",
       "      <td>[0,0,2,2]</td>\n",
       "      <td>1</td>\n",
       "      <td>[0]</td>\n",
       "      <td>[261]</td>\n",
       "      <td>1</td>\n",
       "    </tr>\n",
       "    <tr>\n",
       "      <th>5</th>\n",
       "      <td>3</td>\n",
       "      <td>6</td>\n",
       "      <td>0.049664</td>\n",
       "      <td>59</td>\n",
       "      <td>8</td>\n",
       "      <td>1</td>\n",
       "      <td>2</td>\n",
       "      <td>4</td>\n",
       "      <td>12</td>\n",
       "      <td>7</td>\n",
       "      <td>3</td>\n",
       "      <td>[0,0,2]</td>\n",
       "      <td>2</td>\n",
       "      <td>[0,0]</td>\n",
       "      <td>[261]</td>\n",
       "      <td>1</td>\n",
       "    </tr>\n",
       "    <tr>\n",
       "      <th>9</th>\n",
       "      <td>3</td>\n",
       "      <td>10</td>\n",
       "      <td>0.025105</td>\n",
       "      <td>59</td>\n",
       "      <td>8</td>\n",
       "      <td>1</td>\n",
       "      <td>2</td>\n",
       "      <td>4</td>\n",
       "      <td>12</td>\n",
       "      <td>8</td>\n",
       "      <td>3</td>\n",
       "      <td>[0,0,2]</td>\n",
       "      <td>3</td>\n",
       "      <td>[0,0,0]</td>\n",
       "      <td>[261]</td>\n",
       "      <td>1</td>\n",
       "    </tr>\n",
       "  </tbody>\n",
       "</table>\n",
       "</div>"
      ],
      "text/plain": [
       "   seq_index  scenario_rank  scenario_proba_cond_seq  id_v_choice  \\\n",
       "1          3              2                 0.106228           59   \n",
       "4          3              5                 0.051306           59   \n",
       "5          3              6                 0.049664           59   \n",
       "9          3             10                 0.025105           59   \n",
       "\n",
       "   id_j_choice  id_d_gene  id_v_3_del  id_d_5_del  id_d_3_del  id_j_5_del  \\\n",
       "1            8          1           2           4          12           6   \n",
       "4            8          1           2           5          12           6   \n",
       "5            8          1           2           4          12           7   \n",
       "9            8          1           2           4          12           8   \n",
       "\n",
       "   id_vd_ins  vd_dinucl  id_dj_ins dj_dinucl mismatches  mismatcheslen  \n",
       "1          3    [0,0,2]          1       [0]      [261]              1  \n",
       "4          4  [0,0,2,2]          1       [0]      [261]              1  \n",
       "5          3    [0,0,2]          2     [0,0]      [261]              1  \n",
       "9          3    [0,0,2]          3   [0,0,0]      [261]              1  "
      ]
     },
     "execution_count": 51,
     "metadata": {},
     "output_type": "execute_result"
    }
   ],
   "source": [
    "bs_df[bs_df['id_v_choice']==59] #['scenario_proba_cond_seq']"
   ]
  },
  {
   "cell_type": "code",
   "execution_count": 52,
   "metadata": {},
   "outputs": [
    {
     "data": {
      "text/html": [
       "<div>\n",
       "<style scoped>\n",
       "    .dataframe tbody tr th:only-of-type {\n",
       "        vertical-align: middle;\n",
       "    }\n",
       "\n",
       "    .dataframe tbody tr th {\n",
       "        vertical-align: top;\n",
       "    }\n",
       "\n",
       "    .dataframe thead th {\n",
       "        text-align: right;\n",
       "    }\n",
       "</style>\n",
       "<table border=\"1\" class=\"dataframe\">\n",
       "  <thead>\n",
       "    <tr style=\"text-align: right;\">\n",
       "      <th></th>\n",
       "      <th>seq_index</th>\n",
       "      <th>scenario_rank</th>\n",
       "      <th>scenario_proba_cond_seq</th>\n",
       "      <th>id_v_choice</th>\n",
       "      <th>id_j_choice</th>\n",
       "      <th>id_d_gene</th>\n",
       "      <th>id_v_3_del</th>\n",
       "      <th>id_d_5_del</th>\n",
       "      <th>id_d_3_del</th>\n",
       "      <th>id_j_5_del</th>\n",
       "      <th>id_vd_ins</th>\n",
       "      <th>vd_dinucl</th>\n",
       "      <th>id_dj_ins</th>\n",
       "      <th>dj_dinucl</th>\n",
       "      <th>mismatches</th>\n",
       "      <th>mismatcheslen</th>\n",
       "    </tr>\n",
       "  </thead>\n",
       "  <tbody>\n",
       "    <tr>\n",
       "      <th>0</th>\n",
       "      <td>3</td>\n",
       "      <td>1</td>\n",
       "      <td>0.112082</td>\n",
       "      <td>60</td>\n",
       "      <td>8</td>\n",
       "      <td>1</td>\n",
       "      <td>2</td>\n",
       "      <td>4</td>\n",
       "      <td>12</td>\n",
       "      <td>6</td>\n",
       "      <td>3</td>\n",
       "      <td>[0,0,2]</td>\n",
       "      <td>1</td>\n",
       "      <td>[0]</td>\n",
       "      <td>[261]</td>\n",
       "      <td>1</td>\n",
       "    </tr>\n",
       "    <tr>\n",
       "      <th>2</th>\n",
       "      <td>3</td>\n",
       "      <td>3</td>\n",
       "      <td>0.054133</td>\n",
       "      <td>60</td>\n",
       "      <td>8</td>\n",
       "      <td>1</td>\n",
       "      <td>2</td>\n",
       "      <td>5</td>\n",
       "      <td>12</td>\n",
       "      <td>6</td>\n",
       "      <td>4</td>\n",
       "      <td>[0,0,2,2]</td>\n",
       "      <td>1</td>\n",
       "      <td>[0]</td>\n",
       "      <td>[261]</td>\n",
       "      <td>1</td>\n",
       "    </tr>\n",
       "    <tr>\n",
       "      <th>3</th>\n",
       "      <td>3</td>\n",
       "      <td>4</td>\n",
       "      <td>0.052401</td>\n",
       "      <td>60</td>\n",
       "      <td>8</td>\n",
       "      <td>1</td>\n",
       "      <td>2</td>\n",
       "      <td>4</td>\n",
       "      <td>12</td>\n",
       "      <td>7</td>\n",
       "      <td>3</td>\n",
       "      <td>[0,0,2]</td>\n",
       "      <td>2</td>\n",
       "      <td>[0,0]</td>\n",
       "      <td>[261]</td>\n",
       "      <td>1</td>\n",
       "    </tr>\n",
       "    <tr>\n",
       "      <th>6</th>\n",
       "      <td>3</td>\n",
       "      <td>7</td>\n",
       "      <td>0.026489</td>\n",
       "      <td>60</td>\n",
       "      <td>8</td>\n",
       "      <td>1</td>\n",
       "      <td>2</td>\n",
       "      <td>4</td>\n",
       "      <td>12</td>\n",
       "      <td>8</td>\n",
       "      <td>3</td>\n",
       "      <td>[0,0,2]</td>\n",
       "      <td>3</td>\n",
       "      <td>[0,0,0]</td>\n",
       "      <td>[261]</td>\n",
       "      <td>1</td>\n",
       "    </tr>\n",
       "    <tr>\n",
       "      <th>7</th>\n",
       "      <td>3</td>\n",
       "      <td>8</td>\n",
       "      <td>0.025330</td>\n",
       "      <td>60</td>\n",
       "      <td>8</td>\n",
       "      <td>1</td>\n",
       "      <td>2</td>\n",
       "      <td>6</td>\n",
       "      <td>12</td>\n",
       "      <td>6</td>\n",
       "      <td>5</td>\n",
       "      <td>[0,0,2,2,2]</td>\n",
       "      <td>1</td>\n",
       "      <td>[0]</td>\n",
       "      <td>[261]</td>\n",
       "      <td>1</td>\n",
       "    </tr>\n",
       "    <tr>\n",
       "      <th>8</th>\n",
       "      <td>3</td>\n",
       "      <td>9</td>\n",
       "      <td>0.025309</td>\n",
       "      <td>60</td>\n",
       "      <td>8</td>\n",
       "      <td>1</td>\n",
       "      <td>2</td>\n",
       "      <td>5</td>\n",
       "      <td>12</td>\n",
       "      <td>7</td>\n",
       "      <td>4</td>\n",
       "      <td>[0,0,2,2]</td>\n",
       "      <td>2</td>\n",
       "      <td>[0,0]</td>\n",
       "      <td>[261]</td>\n",
       "      <td>1</td>\n",
       "    </tr>\n",
       "  </tbody>\n",
       "</table>\n",
       "</div>"
      ],
      "text/plain": [
       "   seq_index  scenario_rank  scenario_proba_cond_seq  id_v_choice  \\\n",
       "0          3              1                 0.112082           60   \n",
       "2          3              3                 0.054133           60   \n",
       "3          3              4                 0.052401           60   \n",
       "6          3              7                 0.026489           60   \n",
       "7          3              8                 0.025330           60   \n",
       "8          3              9                 0.025309           60   \n",
       "\n",
       "   id_j_choice  id_d_gene  id_v_3_del  id_d_5_del  id_d_3_del  id_j_5_del  \\\n",
       "0            8          1           2           4          12           6   \n",
       "2            8          1           2           5          12           6   \n",
       "3            8          1           2           4          12           7   \n",
       "6            8          1           2           4          12           8   \n",
       "7            8          1           2           6          12           6   \n",
       "8            8          1           2           5          12           7   \n",
       "\n",
       "   id_vd_ins    vd_dinucl  id_dj_ins dj_dinucl mismatches  mismatcheslen  \n",
       "0          3      [0,0,2]          1       [0]      [261]              1  \n",
       "2          4    [0,0,2,2]          1       [0]      [261]              1  \n",
       "3          3      [0,0,2]          2     [0,0]      [261]              1  \n",
       "6          3      [0,0,2]          3   [0,0,0]      [261]              1  \n",
       "7          5  [0,0,2,2,2]          1       [0]      [261]              1  \n",
       "8          4    [0,0,2,2]          2     [0,0]      [261]              1  "
      ]
     },
     "execution_count": 52,
     "metadata": {},
     "output_type": "execute_result"
    }
   ],
   "source": [
    "bs_df[bs_df['id_v_choice']==60] #['scenario_proba_cond_seq']"
   ]
  },
  {
   "cell_type": "code",
   "execution_count": 67,
   "metadata": {},
   "outputs": [
    {
     "data": {
      "text/plain": [
       "<xarray.DataArray ()>\n",
       "array(0.)"
      ]
     },
     "execution_count": 67,
     "metadata": {},
     "output_type": "execute_result"
    }
   ],
   "source": [
    "event_nickname1='v_choice'\n",
    "event_nickname2='j_choice'\n",
    "da = mdl.get_zero_xarray_from_list([event_nickname1, event_nickname2])\n",
    "da.sum()"
   ]
  },
  {
   "cell_type": "code",
   "execution_count": 71,
   "metadata": {},
   "outputs": [],
   "source": [
    "import xarray as xr\n",
    "def scenario_function(bs:p3.IgorScenario):\n",
    "    ev_dict_ids = {event_nickname1: bs[event_nickname1], event_nickname2: bs[event_nickname2]}\n",
    "    darr = xr.zeros_like(da)\n",
    "    darr[ev_dict_ids] = 1\n",
    "    return darr\n",
    "#     import xarray as xr\n",
    "#     return xr.zeros_like(da)[ev_dict_ids] = 1\n",
    "#     return mdl.get_zero_xarray_from_list([event_nickname1, event_nickname2])[ev_dict_ids] = 1\n",
    "    "
   ]
  },
  {
   "cell_type": "code",
   "execution_count": 72,
   "metadata": {},
   "outputs": [
    {
     "name": "stdout",
     "output_type": "stream",
     "text": [
      "{'seq_index': 3, 'scenario_rank': 1, 'scenario_proba_cond_seq': 0.112082, 'vd_dinucl': [0, 0, 2], 'dj_dinucl': [0], 'mismatches': [261], 'mismatcheslen': 1, 'v_choice': 60, 'd_gene': 1, 'j_choice': 8, 'v_3_del': 2, 'd_3_del': 12, 'd_5_del': 4, 'j_5_del': 6, 'vd_ins': 3, 'dj_ins': 1}\n"
     ]
    }
   ],
   "source": [
    "bs_list = db.get_IgorBestScenarios_By_seq_index_IgorModel(seq_index, mdl)\n",
    "bs = bs_list[0]\n",
    "print(bs.to_dict())"
   ]
  },
  {
   "cell_type": "code",
   "execution_count": null,
   "metadata": {},
   "outputs": [],
   "source": []
  },
  {
   "cell_type": "code",
   "execution_count": 73,
   "metadata": {},
   "outputs": [
    {
     "data": {
      "text/plain": [
       "<xarray.DataArray (j_choice: 15)>\n",
       "array([0., 0., 0., 0., 0., 0., 0., 0., 4., 0., 0., 0., 0., 0., 0.])\n",
       "Coordinates:\n",
       "    v_choice       int64 59\n",
       "    lbl__v_choice  object 'X61445|TRBV6-2*01|Homo sapiens|F|V-REGION|412..698|287 nt|1| | | | |287+0=287| | |'\n",
       "  * j_choice       (j_choice) int64 0 1 2 3 4 5 6 7 8 9 10 11 12 13 14\n",
       "    lbl__j_choice  (j_choice) object 'K02545|TRBJ1-1*01|Homo sapiens|F|J-REGION|749..796|48 nt|3| | | | |48+0=48| | |' ... 'X02987|TRBJ2-7*02|Homo sapiens|ORF|J-REGION|1890..1936|47 nt|2| | | | |47+0=47| | |'"
      ]
     },
     "execution_count": 73,
     "metadata": {},
     "output_type": "execute_result"
    }
   ],
   "source": [
    "bs_counts = 0\n",
    "for bs in bs_list:\n",
    "    bs_counts = bs_counts + scenario_function(bs)\n",
    "bs_counts[{'v_choice':59}]\n"
   ]
  },
  {
   "cell_type": "code",
   "execution_count": 36,
   "metadata": {},
   "outputs": [
    {
     "data": {
      "text/plain": [
       "(array([ 0,  0,  0, ..., 88, 88, 88]), array([ 0,  1,  2, ..., 12, 13, 14]))"
      ]
     },
     "execution_count": 36,
     "metadata": {},
     "output_type": "execute_result"
    }
   ],
   "source": [
    "import numpy as np\n",
    "np.where(bs_counts == 0)"
   ]
  },
  {
   "cell_type": "code",
   "execution_count": 74,
   "metadata": {},
   "outputs": [
    {
     "data": {
      "text/plain": [
       "<xarray.DataArray (j_choice: 15)>\n",
       "array([2., 0., 0., 0., 0., 0., 0., 0., 8., 0., 0., 0., 0., 0., 0.])\n",
       "Coordinates:\n",
       "    v_choice       int64 59\n",
       "    lbl__v_choice  object 'X61445|TRBV6-2*01|Homo sapiens|F|V-REGION|412..698|287 nt|1| | | | |287+0=287| | |'\n",
       "  * j_choice       (j_choice) int64 0 1 2 3 4 5 6 7 8 9 10 11 12 13 14\n",
       "    lbl__j_choice  (j_choice) object 'K02545|TRBJ1-1*01|Homo sapiens|F|J-REGION|749..796|48 nt|3| | | | |48+0=48| | |' ... 'X02987|TRBJ2-7*02|Homo sapiens|ORF|J-REGION|1890..1936|47 nt|2| | | | |47+0=47| | |'"
      ]
     },
     "execution_count": 74,
     "metadata": {},
     "output_type": "execute_result"
    }
   ],
   "source": [
    "bs_counts[{'v_choice':59, 'j_choice':0}] =1\n",
    "bs_counts[{'v_choice':59}]+bs_counts[{'v_choice':59}]"
   ]
  },
  {
   "cell_type": "code",
   "execution_count": 54,
   "metadata": {},
   "outputs": [
    {
     "data": {
      "text/plain": [
       "<xarray.DataArray (j_choice: 15)>\n",
       "array([ 0.,  0.,  0.,  0.,  0.,  0.,  0.,  0., 10.,  0.,  0.,  0.,  0.,  0.,\n",
       "        0.])\n",
       "Coordinates:\n",
       "    v_choice       int64 60\n",
       "    lbl__v_choice  object 'U07978|TRBV6-3*01|Homo sapiens|F|V-REGION|29129..29415|287 nt|1| | | | |287+0=287| | |'\n",
       "  * j_choice       (j_choice) int64 0 1 2 3 4 5 6 7 8 9 10 11 12 13 14\n",
       "    lbl__j_choice  (j_choice) object 'K02545|TRBJ1-1*01|Homo sapiens|F|J-REGION|749..796|48 nt|3| | | | |48+0=48| | |' ... 'X02987|TRBJ2-7*02|Homo sapiens|ORF|J-REGION|1890..1936|47 nt|2| | | | |47+0=47| | |'"
      ]
     },
     "execution_count": 54,
     "metadata": {},
     "output_type": "execute_result"
    }
   ],
   "source": [
    "bs_counts[{'v_choice':60}]\n"
   ]
  },
  {
   "cell_type": "code",
   "execution_count": 59,
   "metadata": {},
   "outputs": [
    {
     "data": {
      "text/plain": [
       "<xarray.DataArray (j_choice: 15)>\n",
       "array([0., 0., 0., 0., 0., 0., 0., 0., 1., 0., 0., 0., 0., 0., 0.])\n",
       "Coordinates:\n",
       "    v_choice       int64 60\n",
       "    lbl__v_choice  object 'U07978|TRBV6-3*01|Homo sapiens|F|V-REGION|29129..29415|287 nt|1| | | | |287+0=287| | |'\n",
       "  * j_choice       (j_choice) int64 0 1 2 3 4 5 6 7 8 9 10 11 12 13 14\n",
       "    lbl__j_choice  (j_choice) object 'K02545|TRBJ1-1*01|Homo sapiens|F|J-REGION|749..796|48 nt|3| | | | |48+0=48| | |' ... 'X02987|TRBJ2-7*02|Homo sapiens|ORF|J-REGION|1890..1936|47 nt|2| | | | |47+0=47| | |'"
      ]
     },
     "execution_count": 59,
     "metadata": {},
     "output_type": "execute_result"
    }
   ],
   "source": [
    "da[{'v_choice':60}]"
   ]
  },
  {
   "cell_type": "code",
   "execution_count": null,
   "metadata": {},
   "outputs": [],
   "source": []
  },
  {
   "cell_type": "code",
   "execution_count": null,
   "metadata": {},
   "outputs": [],
   "source": []
  },
  {
   "cell_type": "code",
   "execution_count": null,
   "metadata": {},
   "outputs": [],
   "source": []
  },
  {
   "cell_type": "code",
   "execution_count": null,
   "metadata": {},
   "outputs": [],
   "source": []
  },
  {
   "cell_type": "code",
   "execution_count": 76,
   "metadata": {},
   "outputs": [
    {
     "ename": "AttributeError",
     "evalue": "'Figure' object has no attribute 'subplot_mosaic'",
     "output_type": "error",
     "traceback": [
      "\u001b[0;31m---------------------------------------------------------------------------\u001b[0m",
      "\u001b[0;31mAttributeError\u001b[0m                            Traceback (most recent call last)",
      "\u001b[0;32m<ipython-input-76-713bc4ec9b48>\u001b[0m in \u001b[0;36m<module>\u001b[0;34m\u001b[0m\n\u001b[1;32m      1\u001b[0m \u001b[0;32mimport\u001b[0m \u001b[0mmatplotlib\u001b[0m\u001b[0;34m.\u001b[0m\u001b[0mpyplot\u001b[0m \u001b[0;32mas\u001b[0m \u001b[0mplt\u001b[0m\u001b[0;34m\u001b[0m\u001b[0;34m\u001b[0m\u001b[0m\n\u001b[0;32m----> 2\u001b[0;31m axd = plt.figure(constrained_layout=True).subplot_mosaic(\n\u001b[0m\u001b[1;32m      3\u001b[0m     \"\"\"\n\u001b[1;32m      4\u001b[0m     \u001b[0;34m.\u001b[0m\u001b[0ma\u001b[0m\u001b[0;34m.\u001b[0m\u001b[0;34m\u001b[0m\u001b[0;34m\u001b[0m\u001b[0m\n\u001b[1;32m      5\u001b[0m     \u001b[0mbAc\u001b[0m\u001b[0;34m\u001b[0m\u001b[0;34m\u001b[0m\u001b[0m\n",
      "\u001b[0;31mAttributeError\u001b[0m: 'Figure' object has no attribute 'subplot_mosaic'"
     ]
    },
    {
     "data": {
      "text/plain": [
       "<Figure size 432x288 with 0 Axes>"
      ]
     },
     "metadata": {},
     "output_type": "display_data"
    }
   ],
   "source": [
    "import matplotlib.pyplot as plt\n",
    "axd = plt.figure(constrained_layout=True).subplot_mosaic(\n",
    "    \"\"\"\n",
    "    .a.\n",
    "    bAc\n",
    "    .d.\n",
    "    \"\"\",\n",
    "    gridspec_kw={\n",
    "        # set the height ratios between the rows\n",
    "        \"height_ratios\": [1, 3.5, 1],\n",
    "        # set the width ratios between the columns\n",
    "        \"width_ratios\": [1, 3.5, 1],\n",
    "    },\n",
    ")\n",
    "identify_axes(axd)\n"
   ]
  },
  {
   "cell_type": "code",
   "execution_count": 77,
   "metadata": {},
   "outputs": [
    {
     "data": {
      "text/plain": [
       "'3.0.3'"
      ]
     },
     "execution_count": 77,
     "metadata": {},
     "output_type": "execute_result"
    }
   ],
   "source": [
    "import matplotlib\n",
    "matplotlib.__version__"
   ]
  },
  {
   "cell_type": "code",
   "execution_count": null,
   "metadata": {},
   "outputs": [],
   "source": []
  }
 ],
 "metadata": {
  "kernelspec": {
   "display_name": "Python 3",
   "language": "python",
   "name": "python3"
  },
  "language_info": {
   "codemirror_mode": {
    "name": "ipython",
    "version": 3
   },
   "file_extension": ".py",
   "mimetype": "text/x-python",
   "name": "python",
   "nbconvert_exporter": "python",
   "pygments_lexer": "ipython3",
   "version": "3.7.10"
  }
 },
 "nbformat": 4,
 "nbformat_minor": 4
}
