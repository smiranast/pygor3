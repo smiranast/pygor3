{
 "cells": [
  {
   "cell_type": "markdown",
   "metadata": {},
   "source": []
  },
  {
   "cell_type": "markdown",
   "metadata": {},
   "source": [
    "# Pygor3 tutorial\n",
    "## Ojectives\n",
    "- Create simple scripts to run common tasks like:\n",
    "    - Read data \n",
    "    - Make alignments and then\n",
    "    - Evaluate the pgen of a sequence\n",
    "- Easy reports\n",
    "    - Visualization of data in single web apps or pdf files\n",
    "- Create personalized models:\n",
    "    - Create models using a bayesian network\n",
    "    - Download data from imgt a create a using default or new defined networksmodels params"
   ]
  },
  {
   "cell_type": "code",
   "execution_count": 1,
   "metadata": {},
   "outputs": [
    {
     "name": "stdout",
     "output_type": "stream",
     "text": [
      "@Event_list\n",
      "#GeneChoice;V_gene;Undefined_side;7;v_choice\n",
      "%U66059|TRBV9*01|Homo sapiens|F|V-REGION|206836..207121|286 nt|1| | | | |286+0=286| | |;GATTCTGGAGTCACACAAACCCCAAAGCACCTGATCACAGCAACTGGACAGCGAGTGACGCTGAGATGCTCCCCTAGGTCTGGAGACCTCTCTGTGTACTGGTACCAACAGAGCCTGGACCAGGGCCTCCAGTTCCTCATTCAGTATTATAATGGAGAAGAGAGAGCAAAAGGAAACATTCTTGAACGATTCTCCGCACAACAGTTCCCTGACTTGCACTCTGAACTAAACCTGAGCTCTCTGGAGCTGGGGGACTCAGCTTTGTATTTCTGTGCCAGCAGCGTAG;88\n",
      "%M27385|TRBV7-9*05|Homo sapiens|(F)|V-REGION|34..321|288 nt|1| | | | |288+0=288| Edited | |;GATACTGGAGTCTCCCAGAACCCCAGACACAAGATCACAAAGAGGGGACAGAATGTAACTTTCAGGTGTGATCCAATTTCTGAACACAACCGCCTTTATTGGTACCGACAGACCCTGGGGCAGGGCCCAGAGTTTCTGACTTACTTCCAGAATGAAGCTCAACTAGAAAAATCAAGGCTGCTCAGTGATCGGTTCTCTGCAGAGAGGCCTAAGGGATCTCTCTCCACCTTGGAGATCCAGCGCACAGAGCAGGGGGACTCGGCCATGTATCTCTGTGCCAGCAGCTTAGC;85\n",
      "%X61441|TRBV7-8*02|Homo sapiens|F|V-REGION|497..786|290 nt|1| | | | |290+0=290| | |;GGTGCTGGAGTCTCCCAGTCCCCTAGGTACAAAGTCGCAAAGAGAGGACAGGATGTAGCTCTCAGGTGTGATCCAATTTCGGGTCATGTATCCCTTTTTTGGTACCAACAGGCCCTGGGGCAGGGGCCAGAGTTTCTGACTTATTTCCAGAATGAAGCTCAACTAGACAAATCGGGGCTGCCCAGTGATCGCTTCTTTGCAGAAAGGCCTGAGGGATCCGTCTCCACTCTGAAGATCCAGCGCACACAGAAGGAGGACTCCGCCGTGTATCTCTGTGCCAGCAGCTTAGC;82\n",
      "%L36092|TRBV7-7*03|Homo sapiens|F|V-REGION|326549..326838|290 nt|1| | | | |290+0=290| Discovered Allele in Data | Found by BLAST |;GGTGCTGGAGTCTCCCAGTCTCCCAGGTACAAAGTCACAAAGAGGGGACAGGATGTAACTCTCAGGTGTGATCCAATTTCGAGTCATGCAACCCTTTATTGGTATCAACAGGCCCTGGGGCAGGGCCCAGAGTTTCTGACTTACTTCAATTATGAAGCTCAACCAGACAAATCAGGGCTGCCCAGTGATCGGTTCTCTGCAGAGAGGCCTGAGGGATCCATCTCCACTCTGACGATTCAGCGCACAGAGCAGCGGGACTCAGCCATGTATCGCTGTGCTAGCAGCTTAGC;80\n",
      "%L36092|TRBV7-7*01|Homo sapiens|F|V-REGION|326549..326838|290 nt|1| | | | |290+0=290| | |;GGTGCTGGAGTCTCCCAGTCTCCCAGGTACAAAGTCACAAAGAGGGGACAGGATGTAACTCTCAGGTGTGATCCAATTTCGAGTCATGCAACCCTTTATTGGTATCAACAGGCCCTGGGGCAGGGCCCAGAGTTTCTGACTTACTTCAATTATGAAGCTCAACCAGACAAATCAGGGCTGCCCAGTGATCGGTTCTCTGCAGAGAGGCCTGAGGGATCCATCTCCACTCTGACGATTCAGCGCACAGAGCAGCGGGACTCAGCCATGTATCGCTGTGCCAGCAGCTTAGC;79\n",
      "%X74843|TRBV7-3*04|Homo sapiens|(F)|V-REGION|140..426|287 nt|1| | | | |287+0=287| Extended by 3 | |;GGTGCTGGAGTCTCCCAGACCCCCAGTAACAAGGTCACAGAGAAGGGAAAATATGTAGAGCTCAGGTGTGATCCAATTTCAGGTCATACTGCCCTTTACTGGTACCGACAAAGCCTGGGGCAGGGCCCAGAGTTTCTAATTTACTTCCAAGGCACGGGTGCGGCAGATGACTCAGGGCTGCCCAACGATCGGTTCTTTGCAGTCAGGCCTGAGGGATCCGTCTCTACTCTGAAGATCCAGCGCACAGAGCGGGGGGACTCTGCCGTGTATCTCTGTGCCAGCAGCTTAAC;76\n",
      "%X61443|TRBV7-2*02|Homo sapiens|F|V-REGION|192..475|284 nt|1| | | | |284+0=284| Extended by 6 | |;GGAGCTGGAGTCTCCCAGTCCCCCAGTAACAAGGTCACAGAGAAGGGAAAGGATGTAGAGCTCAGGTGTGATCCAATTTCAGGTCATACTGCCCTTTACTGGTACCGACAGAGGCTGGGGCAGGGCCTGGAGTTTTTAATTTACTTCCAAGGCAACAGTGCACCAGACAAATCAGGGCTGCCCAGTGATCGCTTCTCTGCAGAGAGGACTGGGGAATCCGTCTCCACTCTGACGATCCAGCGCACACAGCAGGAGGACTCGGCCGTGTATCTCTGTGCCAGCAGCTTAGC;70\n",
      "%X61444|TRBV7-1*01|Homo sapiens|ORF|V-REGION|1332..1621|290 nt|1| | | | |290+0=290| | |;GGTGCTGGAGTCTCCCAGTCCCTGAGACACAAGGTAGCAAAGAAGGGAAAGGATGTAGCTCTCAGATATGATCCAATTTCAGGTCATAATGCCCTTTATTGGTACCGACAGAGCCTGGGGCAGGGCCTGGAGTTTCCAATTTACTTCCAAGGCAAGGATGCAGCAGACAAATCGGGGCTTCCCCGTGATCGGTTCTCTGCACAGAGGTCTGAGGGATCCATCTCCACTCTGAAGTTCCAGCGCACACAGCAGGGGGACTTGGCTGTGTATCTCTGTGCCAGCAGCTCAGC;68\n"
     ]
    }
   ],
   "source": [
    "fln_model_parms ='/home/alfaceor/.local/share/igor/models/human/tcr_beta/models/model_parms.txt'\n",
    "!head {fln_model_parms}"
   ]
  },
  {
   "cell_type": "code",
   "execution_count": 2,
   "metadata": {},
   "outputs": [
    {
     "name": "stdout",
     "output_type": "stream",
     "text": [
      "@v_choice\n",
      "$Dim[89]\n",
      "#\n",
      "%0.00488741,0.00932369,0.00932259,0.013032,0.00034343,0.00850694,0.0077125,0.000612276,0.00506104,4.59289e-05,0.00448245,0.00816181,0.000700053,0.00777164,0.0116174,0.0116158,0.0113872,0.0106555,0.0023687,0.0228368,0.000156715,0.00458447,0,4.88782e-05,0,0.01545,0.027405,0.00518979,0.00480289,0.162765,0.0661229,0.0207174,0.000736226,2.47846e-37,0.0107472,0.020382,0.00953245,0.00953006,0.00235607,0.00239208,0.00239208,0.00245219,0.0166904,0.00298807,0.00298804,0.0159156,0.0125468,0.00906711,0.00906936,0.0976534,0.00957746,0.00917011,0.0114472,0.0114458,0.00977554,0.0189924,0.000397949,0.00170242,0.00891336,0.00673926,0.00669167,0.0294257,0.0138534,0.00419227,0.00419275,0.0024863,0.000483399,1.29795e-07,6.49975e-05,0.0194736,0.0194728,0,0.00391595,0.039623,0,0,6.73805e-05,0.0290073,0.0092849,0.00532118,0.00818432,0.00107035,0.000364764,0.0032679,0.00326801,0.00326801,0.00326809,0.0008236,0.0156399\n",
      "@j_choice\n",
      "$Dim[89,15]\n",
      "#[v_choice,0]\n",
      "%0.128586,0.104003,0.0410916,0.0128097,0.135805,0.0238105,0.00687908,0.173933,0.0801016,0.0906006,0.0300029,0.081422,0,0.0536364,0.0373186\n",
      "#[v_choice,1]\n",
      "%0.166126,0.0789615,0.0113701,0.0782915,0.0761796,0.0341734,0.0341728,0.0691055,0.0723919,0.126756,0.0249522,0.0633935,0.0246074,0.0649049,0.074614\n"
     ]
    }
   ],
   "source": [
    "fln_model_marginal = '/home/alfaceor/.local/share/igor/models/human/tcr_beta/models/model_marginals.txt'\n",
    "!head {fln_model_marginal}"
   ]
  },
  {
   "cell_type": "code",
   "execution_count": null,
   "metadata": {},
   "outputs": [],
   "source": [
    "fln_genomic_template ='/home/alfaceor/.local/share/igor/models/human/tcr_beta/ref_genome/genomicVs.fasta'\n",
    "!head {fln_genomic_template}"
   ]
  },
  {
   "cell_type": "code",
   "execution_count": null,
   "metadata": {},
   "outputs": [],
   "source": []
  },
  {
   "cell_type": "code",
   "execution_count": null,
   "metadata": {},
   "outputs": [],
   "source": []
  },
  {
   "cell_type": "markdown",
   "metadata": {},
   "source": [
    "Pygor3 we can load and export model files at once using IgorModel"
   ]
  },
  {
   "cell_type": "code",
   "execution_count": 2,
   "metadata": {},
   "outputs": [
    {
     "name": "stdout",
     "output_type": "stream",
     "text": [
      "Parms filename:  /home/alfaceor/.local/share/igor/models/human/tcr_beta/models/model_parms.txt\n",
      "Margs filename:  /home/alfaceor/.local/share/igor/models/human/tcr_beta/models/model_marginals.txt\n",
      "--------------------------------------------------\n",
      "{ 'len Event_list': 11, 'len Egdes': 8, 'len ErrorRate': 1 }\n",
      "<pygor3.IgorIO.IgorModel_Marginals object at 0x7efe87d621d0>\n"
     ]
    }
   ],
   "source": [
    "import pygor3 as p3\n",
    "mdl = p3.IgorModel.load_default(\"human\", \"tcr_beta\")\n",
    "print(mdl.parms)\n",
    "print(mdl.marginals)"
   ]
  },
  {
   "cell_type": "code",
   "execution_count": 7,
   "metadata": {},
   "outputs": [
    {
     "data": {
      "text/plain": [
       "['v_choice',\n",
       " 'd_gene',\n",
       " 'j_choice',\n",
       " 'v_3_del',\n",
       " 'd_3_del',\n",
       " 'd_5_del',\n",
       " 'j_5_del',\n",
       " 'vd_ins',\n",
       " 'dj_ins',\n",
       " 'vd_dinucl',\n",
       " 'dj_dinucl']"
      ]
     },
     "execution_count": 7,
     "metadata": {},
     "output_type": "execute_result"
    }
   ],
   "source": [
    "[ event.nickname for event in mdl.parms.Event_list ]"
   ]
  },
  {
   "cell_type": "code",
   "execution_count": 15,
   "metadata": {},
   "outputs": [
    {
     "name": "stdout",
     "output_type": "stream",
     "text": [
      "j_choice\n",
      "{'event_type': 'GeneChoice', 'seq_type': 'V_gene', 'seq_side': 'Undefined_side', 'priority': 7, 'realizations': [Event_realization(88), Event_realization(85), Event_realization(82), Event_realization(80), Event_realization(79), Event_realization(76), Event_realization(70), Event_realization(68), Event_realization(64), Event_realization(61), Event_realization(69), Event_realization(60), Event_realization(84), Event_realization(67), Event_realization(59), Event_realization(58), Event_realization(57), Event_realization(56), Event_realization(55), Event_realization(54), Event_realization(86), Event_realization(53), Event_realization(51), Event_realization(49), Event_realization(48), Event_realization(62), Event_realization(47), Event_realization(46), Event_realization(42), Event_realization(66), Event_realization(21), Event_realization(27), Event_realization(18), Event_realization(83), Event_realization(11), Event_realization(81), Event_realization(16), Event_realization(8), Event_realization(12), Event_realization(52), Event_realization(10), Event_realization(26), Event_realization(75), Event_realization(74), Event_realization(0), Event_realization(1), Event_realization(14), Event_realization(33), Event_realization(77), Event_realization(45), Event_realization(3), Event_realization(2), Event_realization(38), Event_realization(63), Event_realization(44), Event_realization(5), Event_realization(17), Event_realization(15), Event_realization(20), Event_realization(6), Event_realization(43), Event_realization(65), Event_realization(13), Event_realization(30), Event_realization(4), Event_realization(78), Event_realization(73), Event_realization(19), Event_realization(9), Event_realization(22), Event_realization(37), Event_realization(23), Event_realization(25), Event_realization(72), Event_realization(24), Event_realization(7), Event_realization(29), Event_realization(87), Event_realization(28), Event_realization(50), Event_realization(34), Event_realization(31), Event_realization(35), Event_realization(32), Event_realization(36), Event_realization(71), Event_realization(39), Event_realization(40), Event_realization(41)], 'name': 'GeneChoice_V_gene_Undefined_side_prio7_size89', 'nickname': 'v_choice'}\n"
     ]
    }
   ],
   "source": [
    "mdl.parms.get_Event_dependencies('j_choice')\n",
    "event = mdl.parms.Event_list[0]\n",
    "print(event.to_dict())"
   ]
  },
  {
   "cell_type": "code",
   "execution_count": 36,
   "metadata": {},
   "outputs": [
    {
     "name": "stdout",
     "output_type": "stream",
     "text": [
      "v_choice 7 0\n",
      "j_choice 7 1\n",
      "d_gene 6 2\n",
      "v_3_del 5 1\n",
      "d_5_del 5 1\n",
      "d_3_del 5 2\n",
      "j_5_del 5 1\n",
      "vd_ins 4 0\n",
      "vd_dinucl 3 0\n",
      "dj_ins 2 0\n",
      "dj_dinucl 1 0\n"
     ]
    }
   ],
   "source": [
    "lista = list()\n",
    "for event_nickname in mdl.xdata.keys():\n",
    "    da = mdl.xdata[event_nickname]\n",
    "    n_parents = len(da.parents)\n",
    "    print(event_nickname, da.priority, n_parents)\n"
   ]
  },
  {
   "cell_type": "markdown",
   "metadata": {},
   "source": [
    "Joint probabilities\n",
    "\n",
    "\n",
    "P(V_0, J_2) = P(V_0) x P(J_2|V_0)\n",
    "The prototype function should be something like\n",
    "Joint_Prob_of_list({'v_choice':0, 'j_choice':2})\n"
   ]
  },
  {
   "cell_type": "code",
   "execution_count": 46,
   "metadata": {},
   "outputs": [
    {
     "data": {
      "text/plain": [
       "<xarray.DataArray ()>\n",
       "array(0.004887)\n",
       "Coordinates:\n",
       "    v_choice       int64 0\n",
       "    lbl__v_choice  object 'U66059|TRBV1*01|Homo sapiens|P|V-REGION|91723..92006|284 nt|1| | | | |284+0=284| | |'\n",
       "    seq__v_choice  object 'GATACTGGAATTACCCAGACACCAAAATACCTGGTCACAGCAATGGGGAGTAAAAGGACAATGAAACGTGAGCATCTGGGACATGATTCTATGTATTGGTACAGACAGAAAGCTAAGAAATCCCTGGAGTTCATGTTTTACTACAACTGTAAGGAATTCATTGAAAACAAGACTGTGCCAAATCACTTCACACCTGAATGCCCTGACAGCTCTCGCTTATACCTTCATGTGGTCGCACTGCAGCAAGAAGACTCAGCTGCGTATCTCTGCACCAGCAGCCAAGA'\n",
       "Attributes:\n",
       "    nickname:    v_choice\n",
       "    event_type:  GeneChoice\n",
       "    seq_type:    V_gene\n",
       "    seq_side:    Undefined_side\n",
       "    priority:    7\n",
       "    parents:     []\n",
       "    childs:      ['v_3_del', 'd_gene', 'j_choice']"
      ]
     },
     "execution_count": 46,
     "metadata": {},
     "output_type": "execute_result"
    }
   ],
   "source": [
    "P_V_0 = mdl.xdata['v_choice'][{'v_choice':0}]\n",
    "P_V_0"
   ]
  },
  {
   "cell_type": "code",
   "execution_count": 48,
   "metadata": {},
   "outputs": [
    {
     "data": {
      "text/plain": [
       "<xarray.DataArray ()>\n",
       "array(0.041092)\n",
       "Coordinates:\n",
       "    v_choice       int64 0\n",
       "    lbl__v_choice  object 'U66059|TRBV1*01|Homo sapiens|P|V-REGION|91723..92006|284 nt|1| | | | |284+0=284| | |'\n",
       "    seq__v_choice  object 'GATACTGGAATTACCCAGACACCAAAATACCTGGTCACAGCAATGGGGAGTAAAAGGACAATGAAACGTGAGCATCTGGGACATGATTCTATGTATTGGTACAGACAGAAAGCTAAGAAATCCCTGGAGTTCATGTTTTACTACAACTGTAAGGAATTCATTGAAAACAAGACTGTGCCAAATCACTTCACACCTGAATGCCCTGACAGCTCTCGCTTATACCTTCATGTGGTCGCACTGCAGCAAGAAGACTCAGCTGCGTATCTCTGCACCAGCAGCCAAGA'\n",
       "    j_choice       int64 2\n",
       "    lbl__j_choice  object 'M14158|TRBJ1-3*01|Homo sapiens|F|J-REGION|1499..1548|50 nt|2| | | | |50+0=50| | |'\n",
       "    seq__j_choice  object 'CTCTGGAAACACCATATATTTTGGAGAGGGAAGTTGGCTCACTGTTGTAG'\n",
       "Attributes:\n",
       "    nickname:    j_choice\n",
       "    event_type:  GeneChoice\n",
       "    seq_type:    J_gene\n",
       "    seq_side:    Undefined_side\n",
       "    priority:    7\n",
       "    parents:     ['v_choice']\n",
       "    childs:      ['j_5_del', 'd_gene']"
      ]
     },
     "execution_count": 48,
     "metadata": {},
     "output_type": "execute_result"
    }
   ],
   "source": [
    "P_J_2_g_V_0 = mdl.xdata['j_choice'][{'j_choice':2, 'v_choice':0}]\n",
    "P_J_2_g_V_0"
   ]
  },
  {
   "cell_type": "code",
   "execution_count": 49,
   "metadata": {},
   "outputs": [
    {
     "data": {
      "text/plain": [
       "<xarray.DataArray ()>\n",
       "array(0.000201)\n",
       "Coordinates:\n",
       "    v_choice       int64 0\n",
       "    lbl__v_choice  object 'U66059|TRBV1*01|Homo sapiens|P|V-REGION|91723..92006|284 nt|1| | | | |284+0=284| | |'\n",
       "    seq__v_choice  object 'GATACTGGAATTACCCAGACACCAAAATACCTGGTCACAGCAATGGGGAGTAAAAGGACAATGAAACGTGAGCATCTGGGACATGATTCTATGTATTGGTACAGACAGAAAGCTAAGAAATCCCTGGAGTTCATGTTTTACTACAACTGTAAGGAATTCATTGAAAACAAGACTGTGCCAAATCACTTCACACCTGAATGCCCTGACAGCTCTCGCTTATACCTTCATGTGGTCGCACTGCAGCAAGAAGACTCAGCTGCGTATCTCTGCACCAGCAGCCAAGA'\n",
       "    j_choice       int64 2\n",
       "    lbl__j_choice  object 'M14158|TRBJ1-3*01|Homo sapiens|F|J-REGION|1499..1548|50 nt|2| | | | |50+0=50| | |'\n",
       "    seq__j_choice  object 'CTCTGGAAACACCATATATTTTGGAGAGGGAAGTTGGCTCACTGTTGTAG'"
      ]
     },
     "execution_count": 49,
     "metadata": {},
     "output_type": "execute_result"
    }
   ],
   "source": [
    "P_J_2_g_V_0 * P_V_0"
   ]
  },
  {
   "cell_type": "code",
   "execution_count": 10,
   "metadata": {},
   "outputs": [
    {
     "data": {
      "text/plain": [
       "<xarray.DataArray (dj_dinucl: 16)>\n",
       "array([0.280666, 0.160708, 0.341431, 0.217194, 0.241485, 0.31579 , 0.207063,\n",
       "       0.235662, 0.242786, 0.175315, 0.41656 , 0.165339, 0.218541, 0.237317,\n",
       "       0.26166 , 0.282481])\n",
       "Coordinates:\n",
       "    priority   int64 1\n",
       "  * dj_dinucl  (dj_dinucl) int64 0 1 2 3 4 5 6 7 8 9 10 11 12 13 14 15"
      ]
     },
     "execution_count": 10,
     "metadata": {},
     "output_type": "execute_result"
    }
   ],
   "source": [
    "strEvent='dj_dinucl'\n",
    "mdl.xdata[strEvent]"
   ]
  },
  {
   "cell_type": "code",
   "execution_count": 14,
   "metadata": {},
   "outputs": [
    {
     "data": {
      "text/plain": [
       "array(['A', 'C', 'G', 'T'], dtype=object)"
      ]
     },
     "execution_count": 14,
     "metadata": {},
     "output_type": "execute_result"
    }
   ],
   "source": [
    "mdl.parms.Event_dict[strEvent].value.values"
   ]
  },
  {
   "cell_type": "code",
   "execution_count": 19,
   "metadata": {},
   "outputs": [
    {
     "data": {
      "text/plain": [
       "<xarray.DataArray (dj_dinucl: 16)>\n",
       "array([0.280666, 0.160708, 0.341431, 0.217194, 0.241485, 0.31579 , 0.207063,\n",
       "       0.235662, 0.242786, 0.175315, 0.41656 , 0.165339, 0.218541, 0.237317,\n",
       "       0.26166 , 0.282481])\n",
       "Coordinates:\n",
       "    priority   int64 1\n",
       "  * dj_dinucl  (dj_dinucl) int64 0 1 2 3 4 5 6 7 8 9 10 11 12 13 14 15"
      ]
     },
     "execution_count": 19,
     "metadata": {},
     "output_type": "execute_result"
    }
   ],
   "source": [
    "mdl.xdata[strEvent] #.values.reshape(4,4) #.reshape(4,4)"
   ]
  },
  {
   "cell_type": "code",
   "execution_count": 21,
   "metadata": {},
   "outputs": [
    {
     "data": {
      "text/plain": [
       "array([[0.280666, 0.160708, 0.341431, 0.217194],\n",
       "       [0.241485, 0.31579 , 0.207063, 0.235662],\n",
       "       [0.242786, 0.175315, 0.41656 , 0.165339],\n",
       "       [0.218541, 0.237317, 0.26166 , 0.282481]])"
      ]
     },
     "execution_count": 21,
     "metadata": {},
     "output_type": "execute_result"
    }
   ],
   "source": [
    "mdl.xdata[strEvent].values.reshape(4,4) #.reshape(4,4)"
   ]
  },
  {
   "cell_type": "code",
   "execution_count": 54,
   "metadata": {},
   "outputs": [
    {
     "data": {
      "text/plain": [
       "<xarray.DataArray (x: 4, y: 4)>\n",
       "array([[0.280666, 0.160708, 0.341431, 0.217194],\n",
       "       [0.241485, 0.31579 , 0.207063, 0.235662],\n",
       "       [0.242786, 0.175315, 0.41656 , 0.165339],\n",
       "       [0.218541, 0.237317, 0.26166 , 0.282481]])\n",
       "Coordinates:\n",
       "  * x        (x) int64 0 1 2 3\n",
       "  * y        (y) int64 0 1 2 3"
      ]
     },
     "execution_count": 54,
     "metadata": {},
     "output_type": "execute_result"
    }
   ],
   "source": [
    "reshdata = mdl.xdata[strEvent].values.reshape(4,4)\n",
    "str_nt = mdl.parms.Event_dict[strEvent].value.values\n",
    "nt = [0,1,2,3]\n",
    "nda = xr.DataArray(reshdata, coords=[('x', nt), ('y', nt)])\n",
    "nda"
   ]
  },
  {
   "cell_type": "code",
   "execution_count": 74,
   "metadata": {},
   "outputs": [
    {
     "data": {
      "text/plain": [
       "array(['A', 'C', 'G', 'T'], dtype=object)"
      ]
     },
     "execution_count": 74,
     "metadata": {},
     "output_type": "execute_result"
    },
    {
     "data": {
      "image/png": "[encoded data removed]",
      "text/plain": [
       "<Figure size 432x288 with 2 Axes>"
      ]
     },
     "metadata": {
      "needs_background": "light"
     },
     "output_type": "display_data"
    }
   ],
   "source": [
    "bbb = xr.plot.imshow(nda,  xticks=nt, yticks=nt, add_labels=True)\n",
    "(str_nt)"
   ]
  },
  {
   "cell_type": "code",
   "execution_count": 78,
   "metadata": {},
   "outputs": [
    {
     "data": {
      "text/plain": [
       "[Text(0, 0, 'A'), Text(0, 0, 'C'), Text(0, 0, 'G'), Text(0, 0, 'T')]"
      ]
     },
     "execution_count": 78,
     "metadata": {},
     "output_type": "execute_result"
    },
    {
     "data": {
      "image/png": "[encoded data removed]",
      "text/plain": [
       "<Figure size 432x288 with 2 Axes>"
      ]
     },
     "metadata": {
      "needs_background": "light"
     },
     "output_type": "display_data"
    }
   ],
   "source": [
    "import matplotlib.pyplot as plt\n",
    "fig,ax = plt.subplots()\n",
    "xr.plot.imshow(nda, ax=ax, xticks=nt, yticks=nt, add_labels=True)\n",
    "ax.set_xticklabels(str_nt)\n",
    "ax.set_yticklabels(str_nt)"
   ]
  },
  {
   "cell_type": "code",
   "execution_count": 82,
   "metadata": {},
   "outputs": [
    {
     "data": {
      "text/plain": [
       "['dj_dinucl']"
      ]
     },
     "execution_count": 82,
     "metadata": {},
     "output_type": "execute_result"
    }
   ],
   "source": [
    "mdl.marginals.network_dict[strEvent]"
   ]
  },
  {
   "cell_type": "code",
   "execution_count": 47,
   "metadata": {},
   "outputs": [
    {
     "data": {
      "text/plain": [
       "<matplotlib.collections.QuadMesh at 0x7f6b0f0a00d0>"
      ]
     },
     "execution_count": 47,
     "metadata": {},
     "output_type": "execute_result"
    },
    {
     "data": {
      "image/png": "[encoded data removed]",
      "text/plain": [
       "<Figure size 432x288 with 2 Axes>"
      ]
     },
     "metadata": {
      "needs_background": "light"
     },
     "output_type": "display_data"
    }
   ],
   "source": [
    "mdl.xdata['j_choice'].plot()"
   ]
  },
  {
   "cell_type": "code",
   "execution_count": 53,
   "metadata": {},
   "outputs": [
    {
     "data": {
      "text/plain": [
       "<matplotlib.image.AxesImage at 0x7f6b0edb9e90>"
      ]
     },
     "execution_count": 53,
     "metadata": {},
     "output_type": "execute_result"
    },
    {
     "data": {
      "image/png": "[encoded data removed]",
      "text/plain": [
       "<Figure size 432x288 with 2 Axes>"
      ]
     },
     "metadata": {
      "needs_background": "light"
     },
     "output_type": "display_data"
    }
   ],
   "source": []
  },
  {
   "cell_type": "code",
   "execution_count": 37,
   "metadata": {},
   "outputs": [
    {
     "data": {
      "text/plain": [
       "array([[-0.34819611,  0.93846483, -0.09826929],\n",
       "       [ 1.12810562,  0.21455577,  1.15155634]])"
      ]
     },
     "execution_count": 37,
     "metadata": {},
     "output_type": "execute_result"
    }
   ],
   "source": [
    "import xarray as xr\n",
    "import numpy as np\n",
    "dataa = np.random.randn(2, 3)\n",
    "dataa"
   ]
  },
  {
   "cell_type": "code",
   "execution_count": 38,
   "metadata": {},
   "outputs": [
    {
     "data": {
      "text/plain": [
       "<xarray.DataArray (x: 2, y: 3)>\n",
       "array([[-0.348196,  0.938465, -0.098269],\n",
       "       [ 1.128106,  0.214556,  1.151556]])\n",
       "Coordinates:\n",
       "  * x        (x) <U1 'a' 'b'\n",
       "  * y        (y) int64 0 1 2"
      ]
     },
     "execution_count": 38,
     "metadata": {},
     "output_type": "execute_result"
    }
   ],
   "source": [
    "array = xr.DataArray(dataa, coords=[('x', ['a', 'b']), ('y', [0, 1, 2])])\n",
    "array"
   ]
  },
  {
   "cell_type": "code",
   "execution_count": 39,
   "metadata": {},
   "outputs": [
    {
     "data": {
      "text/plain": [
       "<xarray.DataArray (x: 2, y: 3)>\n",
       "array([[-0.348196,  0.938465, -0.098269],\n",
       "       [ 1.128106,  0.214556,  1.151556]])\n",
       "Coordinates:\n",
       "  * x        (x) object 'a' 'b'\n",
       "  * y        (y) int64 0 1 2"
      ]
     },
     "execution_count": 39,
     "metadata": {},
     "output_type": "execute_result"
    }
   ],
   "source": [
    "stacked = array.stack(z=('x', 'y'))\n",
    "stacked\n",
    "stacked.unstack('z')"
   ]
  },
  {
   "cell_type": "code",
   "execution_count": 16,
   "metadata": {},
   "outputs": [
    {
     "data": {
      "text/plain": [
       "Coordinates:\n",
       "    priority   int64 1\n",
       "  * dj_dinucl  (dj_dinucl) int64 0 1 2 3 4 5 6 7 8 9 10 11 12 13 14 15"
      ]
     },
     "execution_count": 16,
     "metadata": {},
     "output_type": "execute_result"
    }
   ],
   "source": [
    "mdl.xdata[strEvent].coords"
   ]
  },
  {
   "cell_type": "markdown",
   "metadata": {},
   "source": [
    "Get pandas structure of data"
   ]
  },
  {
   "cell_type": "code",
   "execution_count": 7,
   "metadata": {},
   "outputs": [
    {
     "data": {
      "text/html": [
       "<div>\n",
       "<style scoped>\n",
       "    .dataframe tbody tr th:only-of-type {\n",
       "        vertical-align: middle;\n",
       "    }\n",
       "\n",
       "    .dataframe tbody tr th {\n",
       "        vertical-align: top;\n",
       "    }\n",
       "\n",
       "    .dataframe thead th {\n",
       "        text-align: right;\n",
       "    }\n",
       "</style>\n",
       "<table border=\"1\" class=\"dataframe\">\n",
       "  <thead>\n",
       "    <tr style=\"text-align: right;\">\n",
       "      <th></th>\n",
       "      <th>name</th>\n",
       "      <th>value</th>\n",
       "    </tr>\n",
       "    <tr>\n",
       "      <th>index</th>\n",
       "      <th></th>\n",
       "      <th></th>\n",
       "    </tr>\n",
       "  </thead>\n",
       "  <tbody>\n",
       "    <tr>\n",
       "      <th>0</th>\n",
       "      <td></td>\n",
       "      <td>-4</td>\n",
       "    </tr>\n",
       "    <tr>\n",
       "      <th>1</th>\n",
       "      <td></td>\n",
       "      <td>-3</td>\n",
       "    </tr>\n",
       "    <tr>\n",
       "      <th>2</th>\n",
       "      <td></td>\n",
       "      <td>-2</td>\n",
       "    </tr>\n",
       "    <tr>\n",
       "      <th>3</th>\n",
       "      <td></td>\n",
       "      <td>-1</td>\n",
       "    </tr>\n",
       "    <tr>\n",
       "      <th>4</th>\n",
       "      <td></td>\n",
       "      <td>0</td>\n",
       "    </tr>\n",
       "    <tr>\n",
       "      <th>5</th>\n",
       "      <td></td>\n",
       "      <td>1</td>\n",
       "    </tr>\n",
       "    <tr>\n",
       "      <th>6</th>\n",
       "      <td></td>\n",
       "      <td>2</td>\n",
       "    </tr>\n",
       "    <tr>\n",
       "      <th>7</th>\n",
       "      <td></td>\n",
       "      <td>3</td>\n",
       "    </tr>\n",
       "    <tr>\n",
       "      <th>8</th>\n",
       "      <td></td>\n",
       "      <td>4</td>\n",
       "    </tr>\n",
       "    <tr>\n",
       "      <th>9</th>\n",
       "      <td></td>\n",
       "      <td>5</td>\n",
       "    </tr>\n",
       "    <tr>\n",
       "      <th>10</th>\n",
       "      <td></td>\n",
       "      <td>6</td>\n",
       "    </tr>\n",
       "    <tr>\n",
       "      <th>11</th>\n",
       "      <td></td>\n",
       "      <td>7</td>\n",
       "    </tr>\n",
       "    <tr>\n",
       "      <th>12</th>\n",
       "      <td></td>\n",
       "      <td>8</td>\n",
       "    </tr>\n",
       "    <tr>\n",
       "      <th>13</th>\n",
       "      <td></td>\n",
       "      <td>9</td>\n",
       "    </tr>\n",
       "    <tr>\n",
       "      <th>14</th>\n",
       "      <td></td>\n",
       "      <td>10</td>\n",
       "    </tr>\n",
       "    <tr>\n",
       "      <th>15</th>\n",
       "      <td></td>\n",
       "      <td>11</td>\n",
       "    </tr>\n",
       "    <tr>\n",
       "      <th>16</th>\n",
       "      <td></td>\n",
       "      <td>12</td>\n",
       "    </tr>\n",
       "    <tr>\n",
       "      <th>17</th>\n",
       "      <td></td>\n",
       "      <td>13</td>\n",
       "    </tr>\n",
       "    <tr>\n",
       "      <th>18</th>\n",
       "      <td></td>\n",
       "      <td>14</td>\n",
       "    </tr>\n",
       "    <tr>\n",
       "      <th>19</th>\n",
       "      <td></td>\n",
       "      <td>15</td>\n",
       "    </tr>\n",
       "    <tr>\n",
       "      <th>20</th>\n",
       "      <td></td>\n",
       "      <td>16</td>\n",
       "    </tr>\n",
       "  </tbody>\n",
       "</table>\n",
       "</div>"
      ],
      "text/plain": [
       "      name  value\n",
       "index            \n",
       "0              -4\n",
       "1              -3\n",
       "2              -2\n",
       "3              -1\n",
       "4               0\n",
       "5               1\n",
       "6               2\n",
       "7               3\n",
       "8               4\n",
       "9               5\n",
       "10              6\n",
       "11              7\n",
       "12              8\n",
       "13              9\n",
       "14             10\n",
       "15             11\n",
       "16             12\n",
       "17             13\n",
       "18             14\n",
       "19             15\n",
       "20             16"
      ]
     },
     "execution_count": 7,
     "metadata": {},
     "output_type": "execute_result"
    }
   ],
   "source": [
    "mdl.parms.Event_dict['v_3_del']"
   ]
  },
  {
   "cell_type": "markdown",
   "metadata": {},
   "source": [
    "One of the objectives is to edit genome templates and then write IGoR model. \n",
    "\n",
    "**I need to modify this"
   ]
  },
  {
   "cell_type": "code",
   "execution_count": 5,
   "metadata": {},
   "outputs": [],
   "source": [
    "mdl.parms.write_model_parms(filename='myeditedmodel.txt')"
   ]
  },
  {
   "cell_type": "code",
   "execution_count": 11,
   "metadata": {},
   "outputs": [
    {
     "ename": "NameError",
     "evalue": "name 'mdl' is not defined",
     "output_type": "error",
     "traceback": [
      "\u001b[0;31m---------------------------------------------------------------------------\u001b[0m",
      "\u001b[0;31mNameError\u001b[0m                                 Traceback (most recent call last)",
      "\u001b[0;32m<ipython-input-11-384367ff3995>\u001b[0m in \u001b[0;36m<module>\u001b[0;34m\u001b[0m\n\u001b[1;32m      6\u001b[0m \u001b[0;34m\u001b[0m\u001b[0m\n\u001b[1;32m      7\u001b[0m \u001b[0;31m# given a 2d structure add labels\u001b[0m\u001b[0;34m\u001b[0m\u001b[0;34m\u001b[0m\u001b[0;34m\u001b[0m\u001b[0m\n\u001b[0;32m----> 8\u001b[0;31m \u001b[0mmdl\u001b[0m\u001b[0;34m\u001b[0m\u001b[0;34m\u001b[0m\u001b[0m\n\u001b[0m",
      "\u001b[0;31mNameError\u001b[0m: name 'mdl' is not defined"
     ]
    }
   ],
   "source": [
    "\n"
   ]
  },
  {
   "cell_type": "code",
   "execution_count": 12,
   "metadata": {},
   "outputs": [
    {
     "data": {
      "text/plain": [
       "<matplotlib.collections.QuadMesh at 0x7f2ef776b8d0>"
      ]
     },
     "execution_count": 12,
     "metadata": {},
     "output_type": "execute_result"
    },
    {
     "data": {
      "image/png": "[encoded data removed]",
      "text/plain": [
       "<Figure size 432x288 with 2 Axes>"
      ]
     },
     "metadata": {
      "needs_background": "light"
     },
     "output_type": "display_data"
    }
   ],
   "source": [
    "mdl.xdata['d_5_del'].plot()"
   ]
  },
  {
   "cell_type": "code",
   "execution_count": 13,
   "metadata": {},
   "outputs": [],
   "source": [
    "mdl.export_event_to_csv('d_3_del','jaja.csv')"
   ]
  },
  {
   "cell_type": "code",
   "execution_count": 2,
   "metadata": {},
   "outputs": [
    {
     "name": "stdout",
     "output_type": "stream",
     "text": [
      "d_gene,d_5_del,d_3_del,lbl__d_gene,lbl__d_5_del,lbl__d_3_del,Prob\n",
      "0,0,0, TRBD1*01,-4,-4,0.0\n",
      "0,0,1, TRBD1*01,-4,-3,0.0\n",
      "0,0,2, TRBD1*01,-4,-2,0.0\n",
      "0,0,3, TRBD1*01,-4,-1,1.6468e-08\n",
      "0,0,4, TRBD1*01,-4,0,0.00482319\n",
      "0,0,5, TRBD1*01,-4,1,1.08101e-09\n",
      "0,0,6, TRBD1*01,-4,2,0.0195311\n",
      "0,0,7, TRBD1*01,-4,3,0.0210679\n",
      "0,0,8, TRBD1*01,-4,4,0.0359338\n"
     ]
    }
   ],
   "source": [
    "!head jaja.csv"
   ]
  },
  {
   "cell_type": "markdown",
   "metadata": {},
   "source": [
    "# Explore models"
   ]
  },
  {
   "cell_type": "code",
   "execution_count": null,
   "metadata": {},
   "outputs": [],
   "source": [
    "import pygor3 as p3\n",
    "mdl_mouse = p3.IgorModel.load_default(\"mouse\", \"tcr_beta\")\n",
    "mdl_human = p3.IgorModel.load_default(\"human\", \"tcr_beta\")\n",
    "mdl_mouse.parms.plot_Graph()+mdl_human.parms.plot_Graph()"
   ]
  },
  {
   "cell_type": "code",
   "execution_count": null,
   "metadata": {},
   "outputs": [],
   "source": [
    "da_event_mouse = mdl_mouse.xdata['d_gene']\n",
    "da_event_mouse[{'j_choice':0}]\n"
   ]
  },
  {
   "cell_type": "code",
   "execution_count": null,
   "metadata": {},
   "outputs": [],
   "source": [
    "da_event_human = mdl_human.xdata['d_gene']\n",
    "print(da_event_human[{'j_choice':0}])"
   ]
  },
  {
   "cell_type": "code",
   "execution_count": null,
   "metadata": {},
   "outputs": [],
   "source": [
    "print(da_event_human[{'j_choice':0, 'v_choice':3}])"
   ]
  },
  {
   "cell_type": "code",
   "execution_count": null,
   "metadata": {},
   "outputs": [],
   "source": []
  },
  {
   "cell_type": "markdown",
   "metadata": {},
   "source": [
    "### Basic Exploration of default models"
   ]
  },
  {
   "cell_type": "code",
   "execution_count": null,
   "metadata": {},
   "outputs": [],
   "source": []
  },
  {
   "cell_type": "markdown",
   "metadata": {},
   "source": [
    "Load a IgorModel instance to encapsulate IGoR data model_parms and model_marginals files "
   ]
  },
  {
   "cell_type": "code",
   "execution_count": null,
   "metadata": {},
   "outputs": [],
   "source": []
  },
  {
   "cell_type": "code",
   "execution_count": null,
   "metadata": {},
   "outputs": [],
   "source": []
  },
  {
   "cell_type": "markdown",
   "metadata": {},
   "source": [
    "# Without running IGoR who can I load the model\n",
    "1. give the specie and chain\n",
    "2. resolve model_parms_file and model marginal_file\n",
    "3. if no specie neither chain is supplied then \n",
    "4. Question batchname should have specie and chain? we always know this?"
   ]
  },
  {
   "cell_type": "markdown",
   "metadata": {},
   "source": [
    "First we should load the package\n",
    "The simplest way to use pygor is to run an IGoR task"
   ]
  },
  {
   "cell_type": "code",
   "execution_count": 2,
   "metadata": {},
   "outputs": [
    {
     "name": "stdout",
     "output_type": "stream",
     "text": [
      "/home/alfaceor/Dropbox/PosDoc/IGoR/dev/MyGithub/IGoR/share/igor\n",
      "/home/alfaceor/.local/bin/igor -set_wd /home/alfaceor/Dropbox/PosDoc/IGoR/dev/MyGithub/pygor3 -batch BBB -read_seqs data_test/SmallSequences.txt\n",
      "Batch name set to: BBB_\n",
      "TXT extension detected for the input sequence file\n",
      "Working directory set to: \"/home/alfaceor/Dropbox/PosDoc/IGoR/dev/MyGithub/pygor3/\"\n",
      "mkdir: cannot create directory ‘/home/alfaceor/Dropbox/PosDoc/IGoR/dev/MyGithub/pygor3/aligns’: File exists\n",
      "\n",
      "\n",
      "/home/alfaceor/.local/bin/igor -set_wd /home/alfaceor/Dropbox/PosDoc/IGoR/dev/MyGithub/pygor3 -batch BBB -species human -chain beta -align  --all  \n",
      "Batch name set to: BBB_\n",
      "Species parameter set to: human\n",
      "Chain parameter set to: beta\n",
      "Working directory set to: \"/home/alfaceor/Dropbox/PosDoc/IGoR/dev/MyGithub/pygor3/\"\n",
      "Performing V alignments....\n",
      "V_gene alignments [||||||||||||||||||||||||||||||||||||||||||||||||||]  Done. \n",
      "Performing D alignments....\n",
      "D_gene alignments [||||||||||||||||||||||||||||||||||||||||||||||||||]  Done. \n",
      "Performing J alignments....\n",
      "J_gene alignments [||||||||||||||||||||||||||||||||||||||||||||||||||]  Done. \n",
      "Performing CDR3 sequence extraction ....\n",
      "\n",
      "\n",
      "\n",
      "/home/alfaceor/.local/bin/igor -set_wd /home/alfaceor/Dropbox/PosDoc/IGoR/dev/MyGithub/pygor3 -batch BBB -species human -chain beta -evaluate -output  --scenarios 5  --Pgen  \n",
      "Parms filename:  /home/alfaceor/Dropbox/PosDoc/IGoR/dev/MyGithub/IGoR/share/igor/models//human/tcr_beta/models/model_parms.txt\n",
      "Margs filename:  /home/alfaceor/Dropbox/PosDoc/IGoR/dev/MyGithub/IGoR/share/igor/models//human/tcr_beta/models/model_marginals.txt\n",
      "--------------------------------------------------\n",
      "Batch name set to: BBB_\n",
      "Species parameter set to: human\n",
      "Chain parameter set to: beta\n",
      "Working directory set to: \"/home/alfaceor/Dropbox/PosDoc/IGoR/dev/MyGithub/pygor3/\"\n",
      "Read some model parms\n",
      "GeneChoice read\n",
      "GeneChoice read\n",
      "GeneChoice read\n",
      "Deletion read\n",
      "Deletion read\n",
      "Deletion read\n",
      "Deletion read\n",
      "Insertion read\n",
      "Insertion read\n",
      "DinucMarkov read\n",
      "DinucMarkov read\n",
      "Performing Evaluate/Inference iteration 1\n",
      "Initializing probability bounds...\n",
      "Initialization of probability bounds over.\n",
      "Iteration 1 [||||||||||||||||||||||||||||||||||||||||||||||||||]  Done. \n"
     ]
    }
   ],
   "source": [
    "import pygor3 as p3\n",
    "task = p3.IgorTask()\n",
    "task.igor_read_seqs = \"data_test/SmallSequences.txt\"\n",
    "task.igor_batchname = \"BBB\"\n",
    "task.igor_specie = \"human\"\n",
    "task.igor_chain = \"beta\"\n",
    "task.run_evaluate()\n"
   ]
  },
  {
   "cell_type": "code",
   "execution_count": 19,
   "metadata": {},
   "outputs": [
    {
     "name": "stdout",
     "output_type": "stream",
     "text": [
      "seq_index;scenario_rank;scenario_proba_cond_seq;GeneChoice_V_gene_Undefined_side_prio7_size89;GeneChoice_J_gene_Undefined_side_prio7_size15;GeneChoice_D_gene_Undefined_side_prio6_size3;Deletion_V_gene_Three_prime_prio5_size21;Deletion_D_gene_Five_prime_prio5_size21;Deletion_D_gene_Three_prime_prio5_size21;Deletion_J_gene_Five_prime_prio5_size23;Insertion_VD_genes_Undefined_side_prio4_size31;DinucMarkov_VD_genes_Undefined_side_prio3_size16;Insertion_DJ_gene_Undefined_side_prio2_size31;DinucMarkov_DJ_gene_Undefined_side_prio1_size16;Mismatches\n",
      "17;1;0.0440476;(31);(8);(2);(8);(7);(15);(4);(0);();(0);();()\n",
      "17;2;0.0332147;(31);(8);(2);(8);(7);(16);(4);(0);();(1);(1);()\n",
      "17;3;0.0226536;(31);(8);(1);(8);(7);(15);(4);(0);();(0);();()\n",
      "17;4;0.0180412;(31);(8);(2);(8);(5);(19);(4);(2);(0,1);(0);();()\n",
      "17;5;0.0178797;(31);(8);(2);(8);(6);(18);(4);(0);();(2);(1,0);()\n",
      "19;1;0.260819;(26);(4);(0);(7);(7);(6);(3);(5);(0,1,2,2,1);(2);(2,3);()\n",
      "19;2;0.125907;(26);(4);(0);(7);(7);(7);(3);(5);(0,1,2,2,1);(3);(2,3,2);()\n",
      "19;3;0.0975333;(26);(4);(0);(6);(7);(6);(3);(4);(1,2,2,1);(2);(2,3);()\n",
      "19;4;0.0623081;(26);(4);(0);(7);(7);(6);(4);(5);(0,1,2,2,1);(3);(0,2,3);()\n"
     ]
    }
   ],
   "source": [
    "task.update_filenames()\n",
    "task.igor_fln_output_pgen\n",
    "!head {task.igor_fln_output_scenarios}"
   ]
  },
  {
   "cell_type": "code",
   "execution_count": 34,
   "metadata": {},
   "outputs": [
    {
     "data": {
      "text/html": [
       "<div>\n",
       "<style scoped>\n",
       "    .dataframe tbody tr th:only-of-type {\n",
       "        vertical-align: middle;\n",
       "    }\n",
       "\n",
       "    .dataframe tbody tr th {\n",
       "        vertical-align: top;\n",
       "    }\n",
       "\n",
       "    .dataframe thead th {\n",
       "        text-align: right;\n",
       "    }\n",
       "</style>\n",
       "<table border=\"1\" class=\"dataframe\">\n",
       "  <thead>\n",
       "    <tr style=\"text-align: right;\">\n",
       "      <th></th>\n",
       "      <th>Pgen_estimate</th>\n",
       "    </tr>\n",
       "    <tr>\n",
       "      <th>seq_index</th>\n",
       "      <th></th>\n",
       "    </tr>\n",
       "  </thead>\n",
       "  <tbody>\n",
       "    <tr>\n",
       "      <th>17</th>\n",
       "      <td>1.604300e-09</td>\n",
       "    </tr>\n",
       "    <tr>\n",
       "      <th>19</th>\n",
       "      <td>3.925640e-13</td>\n",
       "    </tr>\n",
       "    <tr>\n",
       "      <th>16</th>\n",
       "      <td>4.564940e-09</td>\n",
       "    </tr>\n",
       "    <tr>\n",
       "      <th>18</th>\n",
       "      <td>8.310010e-13</td>\n",
       "    </tr>\n",
       "    <tr>\n",
       "      <th>5</th>\n",
       "      <td>7.000130e-11</td>\n",
       "    </tr>\n",
       "    <tr>\n",
       "      <th>2</th>\n",
       "      <td>2.782890e-11</td>\n",
       "    </tr>\n",
       "    <tr>\n",
       "      <th>4</th>\n",
       "      <td>2.619350e-11</td>\n",
       "    </tr>\n",
       "    <tr>\n",
       "      <th>3</th>\n",
       "      <td>3.357330e-16</td>\n",
       "    </tr>\n",
       "    <tr>\n",
       "      <th>6</th>\n",
       "      <td>8.896930e-11</td>\n",
       "    </tr>\n",
       "    <tr>\n",
       "      <th>1</th>\n",
       "      <td>1.269130e-12</td>\n",
       "    </tr>\n",
       "    <tr>\n",
       "      <th>8</th>\n",
       "      <td>9.025200e-11</td>\n",
       "    </tr>\n",
       "    <tr>\n",
       "      <th>9</th>\n",
       "      <td>7.142790e-11</td>\n",
       "    </tr>\n",
       "    <tr>\n",
       "      <th>7</th>\n",
       "      <td>7.418980e-14</td>\n",
       "    </tr>\n",
       "    <tr>\n",
       "      <th>0</th>\n",
       "      <td>3.065930e-16</td>\n",
       "    </tr>\n",
       "    <tr>\n",
       "      <th>10</th>\n",
       "      <td>1.649410e-20</td>\n",
       "    </tr>\n",
       "    <tr>\n",
       "      <th>11</th>\n",
       "      <td>1.429080e-11</td>\n",
       "    </tr>\n",
       "    <tr>\n",
       "      <th>13</th>\n",
       "      <td>1.574130e-19</td>\n",
       "    </tr>\n",
       "    <tr>\n",
       "      <th>14</th>\n",
       "      <td>2.189570e-09</td>\n",
       "    </tr>\n",
       "    <tr>\n",
       "      <th>15</th>\n",
       "      <td>1.754160e-14</td>\n",
       "    </tr>\n",
       "    <tr>\n",
       "      <th>12</th>\n",
       "      <td>1.610330e-12</td>\n",
       "    </tr>\n",
       "  </tbody>\n",
       "</table>\n",
       "</div>"
      ],
      "text/plain": [
       "           Pgen_estimate\n",
       "seq_index               \n",
       "17          1.604300e-09\n",
       "19          3.925640e-13\n",
       "16          4.564940e-09\n",
       "18          8.310010e-13\n",
       "5           7.000130e-11\n",
       "2           2.782890e-11\n",
       "4           2.619350e-11\n",
       "3           3.357330e-16\n",
       "6           8.896930e-11\n",
       "1           1.269130e-12\n",
       "8           9.025200e-11\n",
       "9           7.142790e-11\n",
       "7           7.418980e-14\n",
       "0           3.065930e-16\n",
       "10          1.649410e-20\n",
       "11          1.429080e-11\n",
       "13          1.574130e-19\n",
       "14          2.189570e-09\n",
       "15          1.754160e-14\n",
       "12          1.610330e-12"
      ]
     },
     "execution_count": 34,
     "metadata": {},
     "output_type": "execute_result"
    }
   ],
   "source": [
    "df = task.get_pgen_pd()\n",
    "df.sort_index()\n",
    "df"
   ]
  },
  {
   "cell_type": "markdown",
   "metadata": {},
   "source": [
    "## Load all igor data available using wd and batchname"
   ]
  },
  {
   "cell_type": "code",
   "execution_count": 1,
   "metadata": {},
   "outputs": [
    {
     "name": "stdout",
     "output_type": "stream",
     "text": [
      "/home/alfaceor/Dropbox/PosDoc/IGoR/dev/MyGithub/IGoR/share/igor\n",
      "/home/alfaceor/Dropbox/PosDoc/IGoR/dev/MyGithub/IGoR/share/igor\n"
     ]
    }
   ],
   "source": [
    "import pygor3 as p3\n",
    "task = p3.IgorTask.load_from_batchname(\"testing\")\n",
    "task.igor_specie = \"human\"\n",
    "task.igor_chain = \"beta\"\n",
    "#task.load_IgorModel()\n",
    "task.update_filenames()"
   ]
  },
  {
   "cell_type": "code",
   "execution_count": null,
   "metadata": {},
   "outputs": [],
   "source": [
    "task.igor_model_marginals_file"
   ]
  },
  {
   "cell_type": "code",
   "execution_count": null,
   "metadata": {},
   "outputs": [],
   "source": [
    "task.load_IgorModel()"
   ]
  },
  {
   "cell_type": "code",
   "execution_count": 2,
   "metadata": {},
   "outputs": [
    {
     "data": {
      "text/html": [
       "<div>\n",
       "<style scoped>\n",
       "    .dataframe tbody tr th:only-of-type {\n",
       "        vertical-align: middle;\n",
       "    }\n",
       "\n",
       "    .dataframe tbody tr th {\n",
       "        vertical-align: top;\n",
       "    }\n",
       "\n",
       "    .dataframe thead th {\n",
       "        text-align: right;\n",
       "    }\n",
       "</style>\n",
       "<table border=\"1\" class=\"dataframe\">\n",
       "  <thead>\n",
       "    <tr style=\"text-align: right;\">\n",
       "      <th></th>\n",
       "      <th>Pgen_estimate</th>\n",
       "      <th>sequence</th>\n",
       "      <th>v_anchor</th>\n",
       "      <th>j_anchor</th>\n",
       "      <th>CDR3nt</th>\n",
       "      <th>CDR3aa</th>\n",
       "    </tr>\n",
       "    <tr>\n",
       "      <th>seq_index</th>\n",
       "      <th></th>\n",
       "      <th></th>\n",
       "      <th></th>\n",
       "      <th></th>\n",
       "      <th></th>\n",
       "      <th></th>\n",
       "    </tr>\n",
       "  </thead>\n",
       "  <tbody>\n",
       "    <tr>\n",
       "      <th>0</th>\n",
       "      <td>3.065930e-16</td>\n",
       "      <td>AGCAACATGAGCCCTGAAGACAGCAGCATATATCTCTGCAGCGTTG...</td>\n",
       "      <td>36</td>\n",
       "      <td>81</td>\n",
       "      <td>TGCAGCGTTGTAGTGTTGAGGGGACGGACCGGGGAGCTGTTTTTT</td>\n",
       "      <td>CSVVVLRGRTGELFF</td>\n",
       "    </tr>\n",
       "    <tr>\n",
       "      <th>1</th>\n",
       "      <td>1.269130e-12</td>\n",
       "      <td>CTCAGGCTGGAGTTGGCTGCTCCCTCCCAGACATCTGTGTACTTCT...</td>\n",
       "      <td>45</td>\n",
       "      <td>81</td>\n",
       "      <td>TGTGCCAGCAGTTACGGGGGAGCCGGCTACACCTTC</td>\n",
       "      <td>CASSYGGAGYTF</td>\n",
       "    </tr>\n",
       "    <tr>\n",
       "      <th>2</th>\n",
       "      <td>2.782890e-11</td>\n",
       "      <td>AGTTCTAAGAAGCTCCTTCTCAGTGACTCTGGCTTCTATCTCTGTG...</td>\n",
       "      <td>42</td>\n",
       "      <td>81</td>\n",
       "      <td>TGTGCCTGGAGCGCCGGACAGAACTATGGCTACACCTTC</td>\n",
       "      <td>CAWSAGQNYGYTF</td>\n",
       "    </tr>\n",
       "    <tr>\n",
       "      <th>3</th>\n",
       "      <td>3.357330e-16</td>\n",
       "      <td>ACAGAGCGGGGGGACTCAGCCGTGTATCTCTGTGCCAGCAGCTCTG...</td>\n",
       "      <td>30</td>\n",
       "      <td>81</td>\n",
       "      <td>TGTGCCAGCAGCTCTGGGGCTAGCGGGGCCGCGAGAGAGACCCAGT...</td>\n",
       "      <td>CASSSGASGAARETQYF</td>\n",
       "    </tr>\n",
       "    <tr>\n",
       "      <th>4</th>\n",
       "      <td>2.619350e-11</td>\n",
       "      <td>ACCAGTGCCCATCCTGAAGACAGCAGCTTCTACATCTGCAGTGCTA...</td>\n",
       "      <td>36</td>\n",
       "      <td>81</td>\n",
       "      <td>TGCAGTGCTAGAGGCGGCAGGGCAAACACCGGGGAGCTGTTTTTT</td>\n",
       "      <td>CSARGGRANTGELFF</td>\n",
       "    </tr>\n",
       "  </tbody>\n",
       "</table>\n",
       "</div>"
      ],
      "text/plain": [
       "           Pgen_estimate                                           sequence  \\\n",
       "seq_index                                                                     \n",
       "0           3.065930e-16  AGCAACATGAGCCCTGAAGACAGCAGCATATATCTCTGCAGCGTTG...   \n",
       "1           1.269130e-12  CTCAGGCTGGAGTTGGCTGCTCCCTCCCAGACATCTGTGTACTTCT...   \n",
       "2           2.782890e-11  AGTTCTAAGAAGCTCCTTCTCAGTGACTCTGGCTTCTATCTCTGTG...   \n",
       "3           3.357330e-16  ACAGAGCGGGGGGACTCAGCCGTGTATCTCTGTGCCAGCAGCTCTG...   \n",
       "4           2.619350e-11  ACCAGTGCCCATCCTGAAGACAGCAGCTTCTACATCTGCAGTGCTA...   \n",
       "\n",
       "           v_anchor  j_anchor  \\\n",
       "seq_index                       \n",
       "0                36        81   \n",
       "1                45        81   \n",
       "2                42        81   \n",
       "3                30        81   \n",
       "4                36        81   \n",
       "\n",
       "                                                      CDR3nt  \\\n",
       "seq_index                                                      \n",
       "0              TGCAGCGTTGTAGTGTTGAGGGGACGGACCGGGGAGCTGTTTTTT   \n",
       "1                       TGTGCCAGCAGTTACGGGGGAGCCGGCTACACCTTC   \n",
       "2                    TGTGCCTGGAGCGCCGGACAGAACTATGGCTACACCTTC   \n",
       "3          TGTGCCAGCAGCTCTGGGGCTAGCGGGGCCGCGAGAGAGACCCAGT...   \n",
       "4              TGCAGTGCTAGAGGCGGCAGGGCAAACACCGGGGAGCTGTTTTTT   \n",
       "\n",
       "                      CDR3aa  \n",
       "seq_index                     \n",
       "0            CSVVVLRGRTGELFF  \n",
       "1               CASSYGGAGYTF  \n",
       "2              CAWSAGQNYGYTF  \n",
       "3          CASSSGASGAARETQYF  \n",
       "4            CSARGGRANTGELFF  "
      ]
     },
     "execution_count": 2,
     "metadata": {},
     "output_type": "execute_result"
    }
   ],
   "source": [
    "df = task.get_pgen_pd()\n",
    "df.head()\n"
   ]
  },
  {
   "cell_type": "code",
   "execution_count": null,
   "metadata": {},
   "outputs": [],
   "source": [
    "task.mdl.xdata"
   ]
  },
  {
   "cell_type": "code",
   "execution_count": null,
   "metadata": {},
   "outputs": [],
   "source": [
    "flnIgorSQL = \"/home/alfaceor/Dropbox/PosDoc/IGoR/dev/MyGithub/pygor3/pygor3/IgorDB.sql\"\n",
    "flnIgorBSSQL = \"/home/alfaceor/Dropbox/PosDoc/IGoR/dev/MyGithub/pygor3/pygor3/IgorDBBestScenariosVDJ.sql\"\n",
    "task.igor_specie = \"human\"\n",
    "task.igor_chain = \"beta\"\n",
    "task.update_batchname(\"testing\")\n",
    "task.load_VDJ_database(flnIgorSQL)\n",
    "task.load_VDJ_BS_database(flnIgorBSSQL)\n"
   ]
  },
  {
   "cell_type": "code",
   "execution_count": null,
   "metadata": {},
   "outputs": [],
   "source": [
    "task.igor_db_bs.fetch_IgorBestScenariosVDJ_By_seq_index(0)\n",
    "df = task.igor_db_bs."
   ]
  },
  {
   "cell_type": "code",
   "execution_count": null,
   "metadata": {},
   "outputs": [],
   "source": []
  },
  {
   "cell_type": "code",
   "execution_count": null,
   "metadata": {},
   "outputs": [],
   "source": [
    "import pandas as pd\n",
    "df = pd.read_csv(task.igor_fln_output_scenarios, sep=';')\n",
    "df"
   ]
  },
  {
   "cell_type": "markdown",
   "metadata": {},
   "source": [
    "# Database to integrate all data "
   ]
  },
  {
   "cell_type": "code",
   "execution_count": null,
   "metadata": {},
   "outputs": [],
   "source": [
    "print(type(task.igor_db_bs)) # get_BestScenariosDataFrame\n"
   ]
  },
  {
   "cell_type": "code",
   "execution_count": null,
   "metadata": {},
   "outputs": [],
   "source": [
    "flnIgorSQL = \"/home/alfaceor/Dropbox/PosDoc/IGoR/dev/MyGithub/pygor3/pygor3/IgorDB.sql\"\n",
    "flnIgorBSSQL = \"/home/alfaceor/Dropbox/PosDoc/IGoR/dev/MyGithub/pygor3/pygor3/IgorDBBestScenariosVDJ.sql\"\n",
    "task.load_VDJ_database(flnIgorSQL)\n",
    "task.load_VDJ_BS_database(flnIgorBSSQL)\n"
   ]
  },
  {
   "cell_type": "code",
   "execution_count": null,
   "metadata": {},
   "outputs": [],
   "source": [
    "\n",
    "import pygor3 as p3\n",
    "flnIgorBSSQL = \"/home/alfaceor/Dropbox/PosDoc/IGoR/dev/MyGithub/pygor3/pygor3/IgorDBBestScenariosVDJ.sql\"\n",
    "\n",
    "db_bs = p3.IgorSqliteDBBestScenariosVDJ(flnIgorBSSQL) #\n",
    "db_bs.createSqliteDB(\"testing_bs.db\")\n",
    "\n",
    "#createSqliteDB(\"testing_bs.db\")\n",
    "#task.load_VDJ_BS_database(flnIgorBSSQL)\n",
    "#record_bs = task.igor_db_bs.fetch_IgorBestScenariosVDJ_By_seq_index(0)\n",
    "#p3.IgorBestScenariosVDJ.load_FromSQLRecord(record_bs)"
   ]
  },
  {
   "cell_type": "markdown",
   "metadata": {},
   "source": [
    "Now we want the pgen of the input sequences"
   ]
  },
  {
   "cell_type": "code",
   "execution_count": null,
   "metadata": {},
   "outputs": [],
   "source": [
    "bs = p3.IgorBestScenariosVDJ.load_FromSQLRecord( db_bs.fetch_IgorBestScenariosVDJ_By_seq_index(0)[0] )"
   ]
  },
  {
   "cell_type": "code",
   "execution_count": null,
   "metadata": {},
   "outputs": [],
   "source": [
    "task"
   ]
  },
  {
   "cell_type": "code",
   "execution_count": null,
   "metadata": {},
   "outputs": [],
   "source": [
    "\n",
    "bs.to_dict_names()"
   ]
  },
  {
   "cell_type": "code",
   "execution_count": null,
   "metadata": {},
   "outputs": [],
   "source": [
    "p3.IgorBestScenariosVDJ.load_FromLineBestScenario()"
   ]
  },
  {
   "cell_type": "code",
   "execution_count": null,
   "metadata": {},
   "outputs": [],
   "source": [
    "p3.IgorSqliteDB.\n",
    "p3.IgorSqliteDBBestScenarios"
   ]
  },
  {
   "cell_type": "markdown",
   "metadata": {},
   "source": [
    "It does to following:\n",
    "- First, task.igor_db_bs.by_index_list(index_list)\n",
    "- Plot information about the scenarios and the corresponding pgen if available."
   ]
  },
  {
   "cell_type": "code",
   "execution_count": null,
   "metadata": {},
   "outputs": [],
   "source": [
    "task."
   ]
  },
  {
   "cell_type": "code",
   "execution_count": null,
   "metadata": {},
   "outputs": [],
   "source": [
    "task.mdl.xdata['j_choice'].sum()"
   ]
  },
  {
   "cell_type": "code",
   "execution_count": null,
   "metadata": {},
   "outputs": [],
   "source": [
    "task.mdl.plot_dumm_report('d_gene')"
   ]
  },
  {
   "cell_type": "code",
   "execution_count": null,
   "metadata": {},
   "outputs": [],
   "source": [
    "p3.IgorBestScenariosVDJ()\n"
   ]
  },
  {
   "cell_type": "code",
   "execution_count": null,
   "metadata": {},
   "outputs": [],
   "source": [
    "dictionary\n",
    "aaa = [ str(key)+\"__\"+str(dictionary[key]) for key in dictionary.keys()]\n",
    "\"___\".join(aaa)"
   ]
  },
  {
   "cell_type": "code",
   "execution_count": null,
   "metadata": {},
   "outputs": [],
   "source": [
    "\n"
   ]
  },
  {
   "cell_type": "code",
   "execution_count": null,
   "metadata": {},
   "outputs": [],
   "source": []
  },
  {
   "cell_type": "code",
   "execution_count": null,
   "metadata": {},
   "outputs": [],
   "source": [
    "values = [0, 1]\n",
    "dictionary = dict(zip(dependencias, values))\n",
    "dictionary"
   ]
  },
  {
   "cell_type": "code",
   "execution_count": null,
   "metadata": {},
   "outputs": [],
   "source": [
    "task.mdl.xdata[strEvent][dep].values"
   ]
  },
  {
   "cell_type": "code",
   "execution_count": null,
   "metadata": {},
   "outputs": [],
   "source": [
    "task.mdl.xdata[strEvent][dependencias]"
   ]
  },
  {
   "cell_type": "code",
   "execution_count": null,
   "metadata": {},
   "outputs": [],
   "source": []
  },
  {
   "cell_type": "code",
   "execution_count": null,
   "metadata": {},
   "outputs": [],
   "source": []
  },
  {
   "cell_type": "code",
   "execution_count": null,
   "metadata": {},
   "outputs": [],
   "source": []
  },
  {
   "cell_type": "code",
   "execution_count": null,
   "metadata": {},
   "outputs": [],
   "source": []
  },
  {
   "cell_type": "code",
   "execution_count": null,
   "metadata": {},
   "outputs": [],
   "source": []
  },
  {
   "cell_type": "code",
   "execution_count": null,
   "metadata": {},
   "outputs": [],
   "source": []
  },
  {
   "cell_type": "code",
   "execution_count": null,
   "metadata": {},
   "outputs": [],
   "source": []
  },
  {
   "cell_type": "markdown",
   "metadata": {},
   "source": [
    "Now we define the parameters to run a task:\n",
    "- input sequences*\n",
    "- model options*\n",
    "- batchname (optional)\n"
   ]
  },
  {
   "cell_type": "markdown",
   "metadata": {},
   "source": [
    "# Future implementations\n",
    "- D-separation algorithm to calculate joint and conditional distribution\n",
    "\n",
    "\n",
    "# Current problems\n",
    "- "
   ]
  },
  {
   "cell_type": "code",
   "execution_count": null,
   "metadata": {},
   "outputs": [],
   "source": []
  },
  {
   "cell_type": "code",
   "execution_count": null,
   "metadata": {},
   "outputs": [],
   "source": []
  },
  {
   "cell_type": "markdown",
   "metadata": {},
   "source": [
    "# Ideas to explore and implement"
   ]
  },
  {
   "cell_type": "code",
   "execution_count": null,
   "metadata": {},
   "outputs": [],
   "source": [
    "#import holoviews\n",
    "import holoviews as hv\n",
    "import pygor3 as p3\n",
    "\n",
    "hv.extension('bokeh')\n",
    "import hvplot.pandas  # noqa\n",
    "mdl = p3.IgorModel.load_default(\"human\", \"tcr_beta\")\n",
    "strEvent='j_choice'\n",
    "xarr = mdl.xdata[strEvent]\n",
    "\n",
    "df = xarr.to_dataframe(\"P\").drop('priority', 1)\n",
    "ppp = df.hvplot(strEvent, groupby='v_choice')\n",
    "#hv.Curve(df)\n",
    "#.hvplot()\n",
    "ppp\n"
   ]
  },
  {
   "cell_type": "code",
   "execution_count": null,
   "metadata": {},
   "outputs": [],
   "source": []
  },
  {
   "cell_type": "code",
   "execution_count": null,
   "metadata": {},
   "outputs": [],
   "source": []
  },
  {
   "cell_type": "code",
   "execution_count": 32,
   "metadata": {},
   "outputs": [
    {
     "name": "stdout",
     "output_type": "stream",
     "text": [
      "Parms filename:  /home/alfaceor/.local/share/igor/models/human/tcr_beta/models/model_parms.txt\n",
      "Margs filename:  /home/alfaceor/.local/share/igor/models/human/tcr_beta/models/model_marginals.txt\n",
      "--------------------------------------------------\n"
     ]
    },
    {
     "data": {
      "text/html": [
       "<div>\n",
       "<style scoped>\n",
       "    .dataframe tbody tr th:only-of-type {\n",
       "        vertical-align: middle;\n",
       "    }\n",
       "\n",
       "    .dataframe tbody tr th {\n",
       "        vertical-align: top;\n",
       "    }\n",
       "\n",
       "    .dataframe thead th {\n",
       "        text-align: right;\n",
       "    }\n",
       "</style>\n",
       "<table border=\"1\" class=\"dataframe\">\n",
       "  <thead>\n",
       "    <tr style=\"text-align: right;\">\n",
       "      <th></th>\n",
       "      <th>TRBJ1-1*01</th>\n",
       "      <th>TRBJ1-2*01</th>\n",
       "      <th>TRBJ1-3*01</th>\n",
       "      <th>TRBJ1-4*01</th>\n",
       "      <th>TRBJ1-5*01</th>\n",
       "      <th>TRBJ1-6*01</th>\n",
       "      <th>TRBJ1-6*02</th>\n",
       "      <th>TRBJ2-1*01</th>\n",
       "      <th>TRBJ2-2*01</th>\n",
       "      <th>TRBJ2-3*01</th>\n",
       "      <th>TRBJ2-4*01</th>\n",
       "      <th>TRBJ2-5*01</th>\n",
       "      <th>TRBJ2-6*01</th>\n",
       "      <th>TRBJ2-7*01</th>\n",
       "      <th>TRBJ2-7*02</th>\n",
       "    </tr>\n",
       "  </thead>\n",
       "  <tbody>\n",
       "    <tr>\n",
       "      <th>TRBV1*01</th>\n",
       "      <td>1.285860e-01</td>\n",
       "      <td>1.040030e-01</td>\n",
       "      <td>0.041092</td>\n",
       "      <td>0.012810</td>\n",
       "      <td>1.358050e-01</td>\n",
       "      <td>2.381050e-02</td>\n",
       "      <td>6.879080e-03</td>\n",
       "      <td>1.739330e-01</td>\n",
       "      <td>0.080102</td>\n",
       "      <td>9.060060e-02</td>\n",
       "      <td>3.000290e-02</td>\n",
       "      <td>8.142200e-02</td>\n",
       "      <td>0.000000e+00</td>\n",
       "      <td>5.363640e-02</td>\n",
       "      <td>3.731860e-02</td>\n",
       "    </tr>\n",
       "    <tr>\n",
       "      <th>TRBV10-1*01</th>\n",
       "      <td>1.661260e-01</td>\n",
       "      <td>7.896150e-02</td>\n",
       "      <td>0.011370</td>\n",
       "      <td>0.078291</td>\n",
       "      <td>7.617960e-02</td>\n",
       "      <td>3.417340e-02</td>\n",
       "      <td>3.417280e-02</td>\n",
       "      <td>6.910550e-02</td>\n",
       "      <td>0.072392</td>\n",
       "      <td>1.267560e-01</td>\n",
       "      <td>2.495220e-02</td>\n",
       "      <td>6.339350e-02</td>\n",
       "      <td>2.460740e-02</td>\n",
       "      <td>6.490490e-02</td>\n",
       "      <td>7.461400e-02</td>\n",
       "    </tr>\n",
       "    <tr>\n",
       "      <th>TRBV10-1*02</th>\n",
       "      <td>1.661560e-01</td>\n",
       "      <td>7.901030e-02</td>\n",
       "      <td>0.011374</td>\n",
       "      <td>0.078249</td>\n",
       "      <td>7.624760e-02</td>\n",
       "      <td>3.418060e-02</td>\n",
       "      <td>3.418400e-02</td>\n",
       "      <td>6.908260e-02</td>\n",
       "      <td>0.072282</td>\n",
       "      <td>1.267240e-01</td>\n",
       "      <td>2.498430e-02</td>\n",
       "      <td>6.340040e-02</td>\n",
       "      <td>2.453540e-02</td>\n",
       "      <td>6.493340e-02</td>\n",
       "      <td>7.465540e-02</td>\n",
       "    </tr>\n",
       "    <tr>\n",
       "      <th>TRBV10-1*04</th>\n",
       "      <td>4.617740e-02</td>\n",
       "      <td>2.090470e-01</td>\n",
       "      <td>0.070037</td>\n",
       "      <td>0.027689</td>\n",
       "      <td>1.564730e-01</td>\n",
       "      <td>1.805870e-02</td>\n",
       "      <td>1.780010e-02</td>\n",
       "      <td>1.522210e-01</td>\n",
       "      <td>0.025102</td>\n",
       "      <td>9.714850e-02</td>\n",
       "      <td>9.188550e-03</td>\n",
       "      <td>7.073890e-02</td>\n",
       "      <td>9.944480e-03</td>\n",
       "      <td>4.302230e-02</td>\n",
       "      <td>4.735280e-02</td>\n",
       "    </tr>\n",
       "    <tr>\n",
       "      <th>TRBV10-2*01</th>\n",
       "      <td>1.423330e-01</td>\n",
       "      <td>0.000000e+00</td>\n",
       "      <td>0.141369</td>\n",
       "      <td>0.142328</td>\n",
       "      <td>0.000000e+00</td>\n",
       "      <td>0.000000e+00</td>\n",
       "      <td>0.000000e+00</td>\n",
       "      <td>0.000000e+00</td>\n",
       "      <td>0.000000</td>\n",
       "      <td>2.894850e-01</td>\n",
       "      <td>0.000000e+00</td>\n",
       "      <td>2.844850e-01</td>\n",
       "      <td>0.000000e+00</td>\n",
       "      <td>0.000000e+00</td>\n",
       "      <td>0.000000e+00</td>\n",
       "    </tr>\n",
       "    <tr>\n",
       "      <th>TRBV10-3*01</th>\n",
       "      <td>1.453330e-01</td>\n",
       "      <td>1.318440e-01</td>\n",
       "      <td>0.031117</td>\n",
       "      <td>0.042833</td>\n",
       "      <td>8.187220e-02</td>\n",
       "      <td>7.553470e-02</td>\n",
       "      <td>1.953760e-03</td>\n",
       "      <td>1.393900e-01</td>\n",
       "      <td>0.042800</td>\n",
       "      <td>1.039300e-01</td>\n",
       "      <td>1.578060e-02</td>\n",
       "      <td>7.958960e-02</td>\n",
       "      <td>2.217750e-02</td>\n",
       "      <td>4.041580e-02</td>\n",
       "      <td>4.542880e-02</td>\n",
       "    </tr>\n",
       "    <tr>\n",
       "      <th>TRBV10-3*02</th>\n",
       "      <td>1.705440e-01</td>\n",
       "      <td>1.587910e-01</td>\n",
       "      <td>0.035434</td>\n",
       "      <td>0.053083</td>\n",
       "      <td>7.355640e-02</td>\n",
       "      <td>1.581760e-02</td>\n",
       "      <td>2.626480e-03</td>\n",
       "      <td>1.576120e-01</td>\n",
       "      <td>0.053600</td>\n",
       "      <td>1.089120e-01</td>\n",
       "      <td>0.000000e+00</td>\n",
       "      <td>7.852930e-02</td>\n",
       "      <td>1.784300e-03</td>\n",
       "      <td>4.243530e-02</td>\n",
       "      <td>4.727440e-02</td>\n",
       "    </tr>\n",
       "    <tr>\n",
       "      <th>TRBV11-1*01</th>\n",
       "      <td>1.211920e-01</td>\n",
       "      <td>6.913150e-02</td>\n",
       "      <td>0.000000</td>\n",
       "      <td>0.005208</td>\n",
       "      <td>1.397190e-06</td>\n",
       "      <td>8.419460e-02</td>\n",
       "      <td>9.779880e-02</td>\n",
       "      <td>1.004240e-01</td>\n",
       "      <td>0.000025</td>\n",
       "      <td>3.407990e-01</td>\n",
       "      <td>1.514370e-10</td>\n",
       "      <td>1.811800e-01</td>\n",
       "      <td>4.469680e-07</td>\n",
       "      <td>2.122490e-05</td>\n",
       "      <td>2.371980e-05</td>\n",
       "    </tr>\n",
       "    <tr>\n",
       "      <th>TRBV11-2*01</th>\n",
       "      <td>2.082520e-01</td>\n",
       "      <td>5.205710e-02</td>\n",
       "      <td>0.001359</td>\n",
       "      <td>0.000962</td>\n",
       "      <td>1.934410e-01</td>\n",
       "      <td>4.686350e-03</td>\n",
       "      <td>4.730330e-03</td>\n",
       "      <td>1.992580e-01</td>\n",
       "      <td>0.020095</td>\n",
       "      <td>1.453810e-01</td>\n",
       "      <td>1.668800e-03</td>\n",
       "      <td>7.008750e-02</td>\n",
       "      <td>5.037820e-02</td>\n",
       "      <td>2.319130e-02</td>\n",
       "      <td>2.445290e-02</td>\n",
       "    </tr>\n",
       "    <tr>\n",
       "      <th>TRBV11-2*02</th>\n",
       "      <td>4.095830e-01</td>\n",
       "      <td>0.000000e+00</td>\n",
       "      <td>0.000000</td>\n",
       "      <td>0.000000</td>\n",
       "      <td>0.000000e+00</td>\n",
       "      <td>1.014410e-07</td>\n",
       "      <td>1.020890e-07</td>\n",
       "      <td>1.421400e-05</td>\n",
       "      <td>0.000035</td>\n",
       "      <td>5.900340e-01</td>\n",
       "      <td>0.000000e+00</td>\n",
       "      <td>3.128540e-06</td>\n",
       "      <td>3.306850e-04</td>\n",
       "      <td>0.000000e+00</td>\n",
       "      <td>0.000000e+00</td>\n",
       "    </tr>\n",
       "    <tr>\n",
       "      <th>TRBV11-2*03</th>\n",
       "      <td>1.486270e-02</td>\n",
       "      <td>5.298570e-02</td>\n",
       "      <td>0.010591</td>\n",
       "      <td>0.069275</td>\n",
       "      <td>1.051520e-01</td>\n",
       "      <td>6.480860e-02</td>\n",
       "      <td>6.661960e-02</td>\n",
       "      <td>2.754210e-01</td>\n",
       "      <td>0.118133</td>\n",
       "      <td>1.130350e-01</td>\n",
       "      <td>1.582810e-02</td>\n",
       "      <td>1.052530e-03</td>\n",
       "      <td>1.291530e-02</td>\n",
       "      <td>3.865650e-02</td>\n",
       "      <td>4.066410e-02</td>\n",
       "    </tr>\n",
       "    <tr>\n",
       "      <th>TRBV11-3*01</th>\n",
       "      <td>1.123610e-01</td>\n",
       "      <td>6.079820e-02</td>\n",
       "      <td>0.068396</td>\n",
       "      <td>0.040036</td>\n",
       "      <td>5.590830e-02</td>\n",
       "      <td>6.337570e-02</td>\n",
       "      <td>6.298150e-02</td>\n",
       "      <td>8.599380e-02</td>\n",
       "      <td>0.061833</td>\n",
       "      <td>1.649560e-01</td>\n",
       "      <td>3.646080e-02</td>\n",
       "      <td>9.315120e-02</td>\n",
       "      <td>3.541050e-04</td>\n",
       "      <td>4.599000e-02</td>\n",
       "      <td>4.740480e-02</td>\n",
       "    </tr>\n",
       "    <tr>\n",
       "      <th>TRBV12-1*01</th>\n",
       "      <td>7.003750e-02</td>\n",
       "      <td>0.000000e+00</td>\n",
       "      <td>0.000000</td>\n",
       "      <td>0.070175</td>\n",
       "      <td>0.000000e+00</td>\n",
       "      <td>6.593920e-02</td>\n",
       "      <td>7.426670e-02</td>\n",
       "      <td>1.423070e-01</td>\n",
       "      <td>0.069966</td>\n",
       "      <td>2.279620e-01</td>\n",
       "      <td>0.000000e+00</td>\n",
       "      <td>2.109610e-01</td>\n",
       "      <td>0.000000e+00</td>\n",
       "      <td>3.980250e-02</td>\n",
       "      <td>2.858340e-02</td>\n",
       "    </tr>\n",
       "    <tr>\n",
       "      <th>TRBV12-2*01</th>\n",
       "      <td>1.569370e-01</td>\n",
       "      <td>8.778690e-02</td>\n",
       "      <td>0.000000</td>\n",
       "      <td>0.050324</td>\n",
       "      <td>6.338790e-02</td>\n",
       "      <td>2.983090e-02</td>\n",
       "      <td>3.269330e-02</td>\n",
       "      <td>1.416600e-01</td>\n",
       "      <td>0.062893</td>\n",
       "      <td>1.260320e-01</td>\n",
       "      <td>1.885160e-02</td>\n",
       "      <td>8.180120e-02</td>\n",
       "      <td>5.704000e-02</td>\n",
       "      <td>4.679480e-02</td>\n",
       "      <td>4.396790e-02</td>\n",
       "    </tr>\n",
       "    <tr>\n",
       "      <th>TRBV12-3*01</th>\n",
       "      <td>9.008060e-02</td>\n",
       "      <td>7.932930e-02</td>\n",
       "      <td>0.039324</td>\n",
       "      <td>0.040796</td>\n",
       "      <td>1.035840e-01</td>\n",
       "      <td>3.707490e-02</td>\n",
       "      <td>3.591900e-02</td>\n",
       "      <td>1.380970e-01</td>\n",
       "      <td>0.044115</td>\n",
       "      <td>7.222620e-02</td>\n",
       "      <td>1.108730e-02</td>\n",
       "      <td>8.888920e-02</td>\n",
       "      <td>1.264600e-02</td>\n",
       "      <td>9.979930e-02</td>\n",
       "      <td>1.070320e-01</td>\n",
       "    </tr>\n",
       "    <tr>\n",
       "      <th>TRBV12-4*01</th>\n",
       "      <td>9.009020e-02</td>\n",
       "      <td>7.933230e-02</td>\n",
       "      <td>0.039307</td>\n",
       "      <td>0.040758</td>\n",
       "      <td>1.036240e-01</td>\n",
       "      <td>3.706130e-02</td>\n",
       "      <td>3.591250e-02</td>\n",
       "      <td>1.380420e-01</td>\n",
       "      <td>0.044122</td>\n",
       "      <td>7.224990e-02</td>\n",
       "      <td>1.109630e-02</td>\n",
       "      <td>8.889140e-02</td>\n",
       "      <td>1.265600e-02</td>\n",
       "      <td>9.980450e-02</td>\n",
       "      <td>1.070520e-01</td>\n",
       "    </tr>\n",
       "    <tr>\n",
       "      <th>TRBV12-4*02</th>\n",
       "      <td>1.042290e-01</td>\n",
       "      <td>8.252250e-02</td>\n",
       "      <td>0.049108</td>\n",
       "      <td>0.037710</td>\n",
       "      <td>1.265390e-01</td>\n",
       "      <td>3.302800e-02</td>\n",
       "      <td>3.210430e-02</td>\n",
       "      <td>1.198580e-01</td>\n",
       "      <td>0.051895</td>\n",
       "      <td>7.760190e-02</td>\n",
       "      <td>1.756840e-02</td>\n",
       "      <td>7.519540e-02</td>\n",
       "      <td>2.312460e-02</td>\n",
       "      <td>8.153310e-02</td>\n",
       "      <td>8.798300e-02</td>\n",
       "    </tr>\n",
       "    <tr>\n",
       "      <th>TRBV12-5*01</th>\n",
       "      <td>7.326250e-02</td>\n",
       "      <td>1.056090e-01</td>\n",
       "      <td>0.018370</td>\n",
       "      <td>0.050506</td>\n",
       "      <td>1.137540e-01</td>\n",
       "      <td>4.875690e-02</td>\n",
       "      <td>1.752230e-03</td>\n",
       "      <td>1.547850e-01</td>\n",
       "      <td>0.064220</td>\n",
       "      <td>9.201860e-02</td>\n",
       "      <td>1.966680e-02</td>\n",
       "      <td>7.247780e-02</td>\n",
       "      <td>4.587180e-03</td>\n",
       "      <td>8.713090e-02</td>\n",
       "      <td>9.310380e-02</td>\n",
       "    </tr>\n",
       "    <tr>\n",
       "      <th>TRBV13*01</th>\n",
       "      <td>1.656870e-01</td>\n",
       "      <td>6.216470e-02</td>\n",
       "      <td>0.000000</td>\n",
       "      <td>0.095704</td>\n",
       "      <td>8.565670e-02</td>\n",
       "      <td>5.047740e-02</td>\n",
       "      <td>3.326870e-02</td>\n",
       "      <td>1.410380e-01</td>\n",
       "      <td>0.020757</td>\n",
       "      <td>1.110060e-01</td>\n",
       "      <td>2.063770e-02</td>\n",
       "      <td>6.431410e-02</td>\n",
       "      <td>4.932770e-14</td>\n",
       "      <td>1.254230e-01</td>\n",
       "      <td>2.386600e-02</td>\n",
       "    </tr>\n",
       "    <tr>\n",
       "      <th>TRBV14*01</th>\n",
       "      <td>1.341790e-01</td>\n",
       "      <td>1.195830e-01</td>\n",
       "      <td>0.015752</td>\n",
       "      <td>0.051445</td>\n",
       "      <td>1.000740e-01</td>\n",
       "      <td>5.716950e-02</td>\n",
       "      <td>7.528770e-03</td>\n",
       "      <td>1.614660e-01</td>\n",
       "      <td>0.046559</td>\n",
       "      <td>8.385860e-02</td>\n",
       "      <td>1.430470e-02</td>\n",
       "      <td>5.172610e-02</td>\n",
       "      <td>6.394790e-03</td>\n",
       "      <td>8.539410e-02</td>\n",
       "      <td>6.456690e-02</td>\n",
       "    </tr>\n",
       "    <tr>\n",
       "      <th>TRBV15*01</th>\n",
       "      <td>6.880640e-01</td>\n",
       "      <td>0.000000e+00</td>\n",
       "      <td>0.000000</td>\n",
       "      <td>0.000000</td>\n",
       "      <td>7.617680e-08</td>\n",
       "      <td>2.068680e-05</td>\n",
       "      <td>2.356810e-05</td>\n",
       "      <td>1.217920e-09</td>\n",
       "      <td>0.000000</td>\n",
       "      <td>7.047600e-12</td>\n",
       "      <td>3.118920e-01</td>\n",
       "      <td>0.000000e+00</td>\n",
       "      <td>0.000000e+00</td>\n",
       "      <td>0.000000e+00</td>\n",
       "      <td>0.000000e+00</td>\n",
       "    </tr>\n",
       "    <tr>\n",
       "      <th>TRBV15*02</th>\n",
       "      <td>1.259330e-01</td>\n",
       "      <td>1.060560e-01</td>\n",
       "      <td>0.053327</td>\n",
       "      <td>0.095955</td>\n",
       "      <td>1.244700e-01</td>\n",
       "      <td>2.140630e-02</td>\n",
       "      <td>2.138410e-02</td>\n",
       "      <td>7.885090e-02</td>\n",
       "      <td>0.031992</td>\n",
       "      <td>1.280460e-01</td>\n",
       "      <td>1.066240e-02</td>\n",
       "      <td>3.199150e-02</td>\n",
       "      <td>0.000000e+00</td>\n",
       "      <td>7.942910e-02</td>\n",
       "      <td>9.049580e-02</td>\n",
       "    </tr>\n",
       "    <tr>\n",
       "      <th>TRBV15*03</th>\n",
       "      <td>0.000000e+00</td>\n",
       "      <td>0.000000e+00</td>\n",
       "      <td>0.000000</td>\n",
       "      <td>0.000000</td>\n",
       "      <td>0.000000e+00</td>\n",
       "      <td>0.000000e+00</td>\n",
       "      <td>0.000000e+00</td>\n",
       "      <td>0.000000e+00</td>\n",
       "      <td>0.000000</td>\n",
       "      <td>0.000000e+00</td>\n",
       "      <td>0.000000e+00</td>\n",
       "      <td>0.000000e+00</td>\n",
       "      <td>0.000000e+00</td>\n",
       "      <td>0.000000e+00</td>\n",
       "      <td>0.000000e+00</td>\n",
       "    </tr>\n",
       "    <tr>\n",
       "      <th>TRBV16*01</th>\n",
       "      <td>0.000000e+00</td>\n",
       "      <td>1.000000e+00</td>\n",
       "      <td>0.000000</td>\n",
       "      <td>0.000000</td>\n",
       "      <td>0.000000e+00</td>\n",
       "      <td>0.000000e+00</td>\n",
       "      <td>0.000000e+00</td>\n",
       "      <td>0.000000e+00</td>\n",
       "      <td>0.000000</td>\n",
       "      <td>0.000000e+00</td>\n",
       "      <td>0.000000e+00</td>\n",
       "      <td>0.000000e+00</td>\n",
       "      <td>0.000000e+00</td>\n",
       "      <td>0.000000e+00</td>\n",
       "      <td>0.000000e+00</td>\n",
       "    </tr>\n",
       "    <tr>\n",
       "      <th>TRBV17*01</th>\n",
       "      <td>0.000000e+00</td>\n",
       "      <td>0.000000e+00</td>\n",
       "      <td>0.000000</td>\n",
       "      <td>0.000000</td>\n",
       "      <td>0.000000e+00</td>\n",
       "      <td>0.000000e+00</td>\n",
       "      <td>0.000000e+00</td>\n",
       "      <td>0.000000e+00</td>\n",
       "      <td>0.000000</td>\n",
       "      <td>0.000000e+00</td>\n",
       "      <td>0.000000e+00</td>\n",
       "      <td>0.000000e+00</td>\n",
       "      <td>0.000000e+00</td>\n",
       "      <td>0.000000e+00</td>\n",
       "      <td>0.000000e+00</td>\n",
       "    </tr>\n",
       "    <tr>\n",
       "      <th>TRBV18*01</th>\n",
       "      <td>1.600940e-01</td>\n",
       "      <td>1.002510e-01</td>\n",
       "      <td>0.003168</td>\n",
       "      <td>0.060348</td>\n",
       "      <td>6.854080e-02</td>\n",
       "      <td>5.868910e-02</td>\n",
       "      <td>6.001040e-02</td>\n",
       "      <td>1.102480e-01</td>\n",
       "      <td>0.034223</td>\n",
       "      <td>1.201400e-01</td>\n",
       "      <td>2.180970e-02</td>\n",
       "      <td>5.433620e-02</td>\n",
       "      <td>1.901090e-02</td>\n",
       "      <td>6.049070e-02</td>\n",
       "      <td>6.864000e-02</td>\n",
       "    </tr>\n",
       "    <tr>\n",
       "      <th>TRBV19*01</th>\n",
       "      <td>8.662720e-02</td>\n",
       "      <td>8.087300e-02</td>\n",
       "      <td>0.012594</td>\n",
       "      <td>0.051345</td>\n",
       "      <td>6.432310e-02</td>\n",
       "      <td>5.709230e-02</td>\n",
       "      <td>5.839830e-02</td>\n",
       "      <td>1.518160e-01</td>\n",
       "      <td>0.029786</td>\n",
       "      <td>1.226650e-01</td>\n",
       "      <td>3.041530e-02</td>\n",
       "      <td>8.499280e-02</td>\n",
       "      <td>2.086580e-02</td>\n",
       "      <td>7.000980e-02</td>\n",
       "      <td>7.819690e-02</td>\n",
       "    </tr>\n",
       "    <tr>\n",
       "      <th>TRBV2*01</th>\n",
       "      <td>1.180460e-01</td>\n",
       "      <td>6.165760e-02</td>\n",
       "      <td>0.029265</td>\n",
       "      <td>0.038080</td>\n",
       "      <td>9.198120e-02</td>\n",
       "      <td>5.787450e-02</td>\n",
       "      <td>9.593510e-03</td>\n",
       "      <td>1.660410e-01</td>\n",
       "      <td>0.070833</td>\n",
       "      <td>8.384260e-02</td>\n",
       "      <td>1.975050e-02</td>\n",
       "      <td>7.345590e-02</td>\n",
       "      <td>1.483620e-02</td>\n",
       "      <td>8.418170e-02</td>\n",
       "      <td>8.056030e-02</td>\n",
       "    </tr>\n",
       "    <tr>\n",
       "      <th>TRBV2*03</th>\n",
       "      <td>1.283200e-01</td>\n",
       "      <td>6.795550e-02</td>\n",
       "      <td>0.001814</td>\n",
       "      <td>0.041566</td>\n",
       "      <td>9.965250e-02</td>\n",
       "      <td>1.100150e-02</td>\n",
       "      <td>1.058320e-02</td>\n",
       "      <td>1.789050e-01</td>\n",
       "      <td>0.074859</td>\n",
       "      <td>8.886440e-02</td>\n",
       "      <td>2.213940e-02</td>\n",
       "      <td>8.038980e-02</td>\n",
       "      <td>1.524530e-02</td>\n",
       "      <td>9.141180e-02</td>\n",
       "      <td>8.729150e-02</td>\n",
       "    </tr>\n",
       "    <tr>\n",
       "      <th>TRBV20-1*01</th>\n",
       "      <td>1.169310e-01</td>\n",
       "      <td>9.321250e-02</td>\n",
       "      <td>0.016494</td>\n",
       "      <td>0.056380</td>\n",
       "      <td>9.731570e-02</td>\n",
       "      <td>2.572820e-02</td>\n",
       "      <td>2.600620e-02</td>\n",
       "      <td>1.373330e-01</td>\n",
       "      <td>0.059772</td>\n",
       "      <td>1.069850e-01</td>\n",
       "      <td>1.886410e-02</td>\n",
       "      <td>8.434640e-02</td>\n",
       "      <td>1.376340e-02</td>\n",
       "      <td>7.355840e-02</td>\n",
       "      <td>7.331000e-02</td>\n",
       "    </tr>\n",
       "    <tr>\n",
       "      <th>...</th>\n",
       "      <td>...</td>\n",
       "      <td>...</td>\n",
       "      <td>...</td>\n",
       "      <td>...</td>\n",
       "      <td>...</td>\n",
       "      <td>...</td>\n",
       "      <td>...</td>\n",
       "      <td>...</td>\n",
       "      <td>...</td>\n",
       "      <td>...</td>\n",
       "      <td>...</td>\n",
       "      <td>...</td>\n",
       "      <td>...</td>\n",
       "      <td>...</td>\n",
       "      <td>...</td>\n",
       "    </tr>\n",
       "    <tr>\n",
       "      <th>TRBV6-2*01</th>\n",
       "      <td>1.248410e-01</td>\n",
       "      <td>9.391800e-02</td>\n",
       "      <td>0.012176</td>\n",
       "      <td>0.061704</td>\n",
       "      <td>5.427480e-02</td>\n",
       "      <td>4.777800e-02</td>\n",
       "      <td>5.229160e-02</td>\n",
       "      <td>8.035290e-02</td>\n",
       "      <td>0.062973</td>\n",
       "      <td>1.352050e-01</td>\n",
       "      <td>3.508190e-02</td>\n",
       "      <td>7.395740e-02</td>\n",
       "      <td>2.979270e-02</td>\n",
       "      <td>6.326470e-02</td>\n",
       "      <td>7.238810e-02</td>\n",
       "    </tr>\n",
       "    <tr>\n",
       "      <th>TRBV6-3*01</th>\n",
       "      <td>1.258710e-01</td>\n",
       "      <td>9.699340e-02</td>\n",
       "      <td>0.003887</td>\n",
       "      <td>0.062039</td>\n",
       "      <td>5.539490e-02</td>\n",
       "      <td>4.791650e-02</td>\n",
       "      <td>5.249920e-02</td>\n",
       "      <td>7.985620e-02</td>\n",
       "      <td>0.063475</td>\n",
       "      <td>1.365320e-01</td>\n",
       "      <td>3.556710e-02</td>\n",
       "      <td>7.251810e-02</td>\n",
       "      <td>3.022490e-02</td>\n",
       "      <td>6.397400e-02</td>\n",
       "      <td>7.325240e-02</td>\n",
       "    </tr>\n",
       "    <tr>\n",
       "      <th>TRBV6-4*01</th>\n",
       "      <td>1.013540e-01</td>\n",
       "      <td>1.486640e-01</td>\n",
       "      <td>0.019504</td>\n",
       "      <td>0.062610</td>\n",
       "      <td>8.332870e-02</td>\n",
       "      <td>4.123040e-02</td>\n",
       "      <td>4.083740e-02</td>\n",
       "      <td>1.459940e-01</td>\n",
       "      <td>0.054284</td>\n",
       "      <td>9.458320e-02</td>\n",
       "      <td>2.777950e-02</td>\n",
       "      <td>3.810880e-02</td>\n",
       "      <td>2.628980e-02</td>\n",
       "      <td>5.387760e-02</td>\n",
       "      <td>6.155350e-02</td>\n",
       "    </tr>\n",
       "    <tr>\n",
       "      <th>TRBV6-5*01</th>\n",
       "      <td>1.119200e-01</td>\n",
       "      <td>1.417770e-01</td>\n",
       "      <td>0.031646</td>\n",
       "      <td>0.111652</td>\n",
       "      <td>1.716290e-01</td>\n",
       "      <td>3.316480e-02</td>\n",
       "      <td>3.209910e-02</td>\n",
       "      <td>4.345530e-02</td>\n",
       "      <td>0.025497</td>\n",
       "      <td>1.158430e-01</td>\n",
       "      <td>5.182890e-03</td>\n",
       "      <td>5.025800e-02</td>\n",
       "      <td>3.142150e-03</td>\n",
       "      <td>6.341280e-02</td>\n",
       "      <td>5.932210e-02</td>\n",
       "    </tr>\n",
       "    <tr>\n",
       "      <th>TRBV6-6*01</th>\n",
       "      <td>1.549130e-01</td>\n",
       "      <td>7.437650e-03</td>\n",
       "      <td>0.000107</td>\n",
       "      <td>0.052746</td>\n",
       "      <td>8.360600e-02</td>\n",
       "      <td>2.816660e-02</td>\n",
       "      <td>2.672250e-02</td>\n",
       "      <td>2.989340e-01</td>\n",
       "      <td>0.058435</td>\n",
       "      <td>5.900530e-02</td>\n",
       "      <td>4.605500e-03</td>\n",
       "      <td>4.309420e-02</td>\n",
       "      <td>8.193780e-02</td>\n",
       "      <td>5.190660e-02</td>\n",
       "      <td>4.838250e-02</td>\n",
       "    </tr>\n",
       "    <tr>\n",
       "      <th>TRBV6-6*02</th>\n",
       "      <td>1.549050e-01</td>\n",
       "      <td>7.434920e-03</td>\n",
       "      <td>0.000021</td>\n",
       "      <td>0.052722</td>\n",
       "      <td>8.356250e-02</td>\n",
       "      <td>2.816250e-02</td>\n",
       "      <td>2.671730e-02</td>\n",
       "      <td>2.990000e-01</td>\n",
       "      <td>0.058447</td>\n",
       "      <td>5.901780e-02</td>\n",
       "      <td>4.598380e-03</td>\n",
       "      <td>4.306170e-02</td>\n",
       "      <td>8.208630e-02</td>\n",
       "      <td>5.189310e-02</td>\n",
       "      <td>4.837050e-02</td>\n",
       "    </tr>\n",
       "    <tr>\n",
       "      <th>TRBV6-7*01</th>\n",
       "      <td>9.986320e-02</td>\n",
       "      <td>1.180960e-01</td>\n",
       "      <td>0.039475</td>\n",
       "      <td>0.079012</td>\n",
       "      <td>9.015240e-02</td>\n",
       "      <td>5.318750e-02</td>\n",
       "      <td>8.816390e-03</td>\n",
       "      <td>1.273150e-01</td>\n",
       "      <td>0.060964</td>\n",
       "      <td>9.152040e-02</td>\n",
       "      <td>1.822980e-02</td>\n",
       "      <td>3.924620e-02</td>\n",
       "      <td>1.648380e-27</td>\n",
       "      <td>8.433040e-02</td>\n",
       "      <td>8.979170e-02</td>\n",
       "    </tr>\n",
       "    <tr>\n",
       "      <th>TRBV6-8*01</th>\n",
       "      <td>7.148600e-02</td>\n",
       "      <td>2.018120e-01</td>\n",
       "      <td>0.000000</td>\n",
       "      <td>0.100366</td>\n",
       "      <td>2.780250e-02</td>\n",
       "      <td>9.216530e-19</td>\n",
       "      <td>2.777580e-22</td>\n",
       "      <td>8.754040e-09</td>\n",
       "      <td>0.000000</td>\n",
       "      <td>9.373330e-02</td>\n",
       "      <td>1.011010e-01</td>\n",
       "      <td>2.019770e-01</td>\n",
       "      <td>1.009790e-01</td>\n",
       "      <td>5.747000e-02</td>\n",
       "      <td>4.327270e-02</td>\n",
       "    </tr>\n",
       "    <tr>\n",
       "      <th>TRBV6-9*01</th>\n",
       "      <td>0.000000e+00</td>\n",
       "      <td>0.000000e+00</td>\n",
       "      <td>0.000000</td>\n",
       "      <td>0.000000</td>\n",
       "      <td>0.000000e+00</td>\n",
       "      <td>0.000000e+00</td>\n",
       "      <td>0.000000e+00</td>\n",
       "      <td>0.000000e+00</td>\n",
       "      <td>0.000000</td>\n",
       "      <td>1.000000e+00</td>\n",
       "      <td>0.000000e+00</td>\n",
       "      <td>0.000000e+00</td>\n",
       "      <td>0.000000e+00</td>\n",
       "      <td>0.000000e+00</td>\n",
       "      <td>0.000000e+00</td>\n",
       "    </tr>\n",
       "    <tr>\n",
       "      <th>TRBV7-1*01</th>\n",
       "      <td>5.415420e-26</td>\n",
       "      <td>0.000000e+00</td>\n",
       "      <td>0.746414</td>\n",
       "      <td>0.253175</td>\n",
       "      <td>2.582600e-12</td>\n",
       "      <td>7.559770e-13</td>\n",
       "      <td>8.183030e-13</td>\n",
       "      <td>2.111640e-28</td>\n",
       "      <td>0.000407</td>\n",
       "      <td>1.263420e-19</td>\n",
       "      <td>9.503900e-07</td>\n",
       "      <td>0.000000e+00</td>\n",
       "      <td>3.591420e-06</td>\n",
       "      <td>3.076780e-10</td>\n",
       "      <td>4.468490e-10</td>\n",
       "    </tr>\n",
       "    <tr>\n",
       "      <th>TRBV7-2*01</th>\n",
       "      <td>1.230080e-01</td>\n",
       "      <td>9.557940e-02</td>\n",
       "      <td>0.009041</td>\n",
       "      <td>0.057658</td>\n",
       "      <td>9.496660e-02</td>\n",
       "      <td>2.786640e-02</td>\n",
       "      <td>2.738110e-02</td>\n",
       "      <td>1.060620e-01</td>\n",
       "      <td>0.038718</td>\n",
       "      <td>9.520190e-02</td>\n",
       "      <td>3.239190e-02</td>\n",
       "      <td>8.680600e-02</td>\n",
       "      <td>2.007190e-02</td>\n",
       "      <td>1.025960e-01</td>\n",
       "      <td>8.265200e-02</td>\n",
       "    </tr>\n",
       "    <tr>\n",
       "      <th>TRBV7-2*02</th>\n",
       "      <td>1.230150e-01</td>\n",
       "      <td>9.556620e-02</td>\n",
       "      <td>0.009040</td>\n",
       "      <td>0.057666</td>\n",
       "      <td>9.499000e-02</td>\n",
       "      <td>2.786990e-02</td>\n",
       "      <td>2.738560e-02</td>\n",
       "      <td>1.060490e-01</td>\n",
       "      <td>0.038723</td>\n",
       "      <td>9.520200e-02</td>\n",
       "      <td>3.239010e-02</td>\n",
       "      <td>8.679280e-02</td>\n",
       "      <td>2.007390e-02</td>\n",
       "      <td>1.025880e-01</td>\n",
       "      <td>8.264870e-02</td>\n",
       "    </tr>\n",
       "    <tr>\n",
       "      <th>TRBV7-2*03</th>\n",
       "      <td>0.000000e+00</td>\n",
       "      <td>0.000000e+00</td>\n",
       "      <td>0.000000</td>\n",
       "      <td>0.000000</td>\n",
       "      <td>0.000000e+00</td>\n",
       "      <td>0.000000e+00</td>\n",
       "      <td>0.000000e+00</td>\n",
       "      <td>0.000000e+00</td>\n",
       "      <td>0.000000</td>\n",
       "      <td>0.000000e+00</td>\n",
       "      <td>0.000000e+00</td>\n",
       "      <td>0.000000e+00</td>\n",
       "      <td>0.000000e+00</td>\n",
       "      <td>0.000000e+00</td>\n",
       "      <td>0.000000e+00</td>\n",
       "    </tr>\n",
       "    <tr>\n",
       "      <th>TRBV7-2*05</th>\n",
       "      <td>6.608270e-03</td>\n",
       "      <td>1.332020e-02</td>\n",
       "      <td>0.001330</td>\n",
       "      <td>0.009534</td>\n",
       "      <td>4.471790e-02</td>\n",
       "      <td>2.520040e-02</td>\n",
       "      <td>2.543750e-02</td>\n",
       "      <td>5.579460e-02</td>\n",
       "      <td>0.258917</td>\n",
       "      <td>3.781530e-01</td>\n",
       "      <td>7.606200e-02</td>\n",
       "      <td>1.016370e-01</td>\n",
       "      <td>5.690620e-04</td>\n",
       "      <td>1.325660e-03</td>\n",
       "      <td>1.393830e-03</td>\n",
       "    </tr>\n",
       "    <tr>\n",
       "      <th>TRBV7-3*01</th>\n",
       "      <td>1.191550e-01</td>\n",
       "      <td>1.038670e-01</td>\n",
       "      <td>0.016622</td>\n",
       "      <td>0.058962</td>\n",
       "      <td>9.495910e-02</td>\n",
       "      <td>3.646390e-02</td>\n",
       "      <td>3.519410e-02</td>\n",
       "      <td>1.475070e-01</td>\n",
       "      <td>0.062335</td>\n",
       "      <td>1.006930e-01</td>\n",
       "      <td>1.363270e-02</td>\n",
       "      <td>6.334870e-02</td>\n",
       "      <td>1.661980e-02</td>\n",
       "      <td>7.143060e-02</td>\n",
       "      <td>5.921090e-02</td>\n",
       "    </tr>\n",
       "    <tr>\n",
       "      <th>TRBV7-3*02</th>\n",
       "      <td>0.000000e+00</td>\n",
       "      <td>0.000000e+00</td>\n",
       "      <td>0.000000</td>\n",
       "      <td>0.000000</td>\n",
       "      <td>0.000000e+00</td>\n",
       "      <td>0.000000e+00</td>\n",
       "      <td>0.000000e+00</td>\n",
       "      <td>0.000000e+00</td>\n",
       "      <td>0.000000</td>\n",
       "      <td>0.000000e+00</td>\n",
       "      <td>0.000000e+00</td>\n",
       "      <td>0.000000e+00</td>\n",
       "      <td>0.000000e+00</td>\n",
       "      <td>0.000000e+00</td>\n",
       "      <td>0.000000e+00</td>\n",
       "    </tr>\n",
       "    <tr>\n",
       "      <th>TRBV7-3*03</th>\n",
       "      <td>0.000000e+00</td>\n",
       "      <td>0.000000e+00</td>\n",
       "      <td>0.000000</td>\n",
       "      <td>0.000000</td>\n",
       "      <td>0.000000e+00</td>\n",
       "      <td>0.000000e+00</td>\n",
       "      <td>0.000000e+00</td>\n",
       "      <td>0.000000e+00</td>\n",
       "      <td>0.000000</td>\n",
       "      <td>0.000000e+00</td>\n",
       "      <td>0.000000e+00</td>\n",
       "      <td>0.000000e+00</td>\n",
       "      <td>0.000000e+00</td>\n",
       "      <td>0.000000e+00</td>\n",
       "      <td>0.000000e+00</td>\n",
       "    </tr>\n",
       "    <tr>\n",
       "      <th>TRBV7-3*04</th>\n",
       "      <td>5.088760e-15</td>\n",
       "      <td>8.394330e-34</td>\n",
       "      <td>0.000000</td>\n",
       "      <td>0.004114</td>\n",
       "      <td>2.409390e-08</td>\n",
       "      <td>6.127740e-12</td>\n",
       "      <td>6.954040e-12</td>\n",
       "      <td>2.038120e-14</td>\n",
       "      <td>0.000142</td>\n",
       "      <td>2.014130e-10</td>\n",
       "      <td>2.351570e-08</td>\n",
       "      <td>5.305610e-12</td>\n",
       "      <td>9.957450e-01</td>\n",
       "      <td>4.438020e-15</td>\n",
       "      <td>3.769110e-15</td>\n",
       "    </tr>\n",
       "    <tr>\n",
       "      <th>TRBV7-4*01</th>\n",
       "      <td>1.098330e-01</td>\n",
       "      <td>1.009840e-01</td>\n",
       "      <td>0.029808</td>\n",
       "      <td>0.037373</td>\n",
       "      <td>1.467600e-01</td>\n",
       "      <td>2.528620e-02</td>\n",
       "      <td>2.468270e-02</td>\n",
       "      <td>1.372440e-01</td>\n",
       "      <td>0.042542</td>\n",
       "      <td>8.791840e-02</td>\n",
       "      <td>1.988760e-02</td>\n",
       "      <td>7.680170e-02</td>\n",
       "      <td>8.837780e-03</td>\n",
       "      <td>7.644940e-02</td>\n",
       "      <td>7.559220e-02</td>\n",
       "    </tr>\n",
       "    <tr>\n",
       "      <th>TRBV7-6*01</th>\n",
       "      <td>1.872990e-01</td>\n",
       "      <td>7.401450e-02</td>\n",
       "      <td>0.005267</td>\n",
       "      <td>0.022270</td>\n",
       "      <td>1.105570e-01</td>\n",
       "      <td>1.020300e-01</td>\n",
       "      <td>2.597410e-04</td>\n",
       "      <td>9.640030e-02</td>\n",
       "      <td>0.032334</td>\n",
       "      <td>1.327220e-01</td>\n",
       "      <td>2.899750e-02</td>\n",
       "      <td>5.027970e-02</td>\n",
       "      <td>2.288360e-02</td>\n",
       "      <td>6.154360e-02</td>\n",
       "      <td>7.314170e-02</td>\n",
       "    </tr>\n",
       "    <tr>\n",
       "      <th>TRBV7-7*01</th>\n",
       "      <td>6.440080e-02</td>\n",
       "      <td>1.650860e-01</td>\n",
       "      <td>0.025465</td>\n",
       "      <td>0.038668</td>\n",
       "      <td>2.881680e-02</td>\n",
       "      <td>5.966500e-02</td>\n",
       "      <td>2.669760e-03</td>\n",
       "      <td>1.971930e-01</td>\n",
       "      <td>0.082438</td>\n",
       "      <td>6.584100e-02</td>\n",
       "      <td>0.000000e+00</td>\n",
       "      <td>6.168820e-02</td>\n",
       "      <td>2.195170e-02</td>\n",
       "      <td>9.906560e-02</td>\n",
       "      <td>8.705060e-02</td>\n",
       "    </tr>\n",
       "    <tr>\n",
       "      <th>TRBV7-7*03</th>\n",
       "      <td>1.185660e-01</td>\n",
       "      <td>1.494130e-01</td>\n",
       "      <td>0.005961</td>\n",
       "      <td>0.077779</td>\n",
       "      <td>8.144670e-02</td>\n",
       "      <td>2.739580e-02</td>\n",
       "      <td>8.259730e-03</td>\n",
       "      <td>1.587430e-01</td>\n",
       "      <td>0.041962</td>\n",
       "      <td>1.012390e-01</td>\n",
       "      <td>1.790820e-02</td>\n",
       "      <td>7.756190e-02</td>\n",
       "      <td>2.653030e-02</td>\n",
       "      <td>5.158440e-02</td>\n",
       "      <td>5.564840e-02</td>\n",
       "    </tr>\n",
       "    <tr>\n",
       "      <th>TRBV7-8*01</th>\n",
       "      <td>3.629160e-01</td>\n",
       "      <td>1.472260e-06</td>\n",
       "      <td>0.001184</td>\n",
       "      <td>0.000000</td>\n",
       "      <td>6.583070e-02</td>\n",
       "      <td>5.869630e-07</td>\n",
       "      <td>4.906710e-07</td>\n",
       "      <td>1.419830e-01</td>\n",
       "      <td>0.125895</td>\n",
       "      <td>1.752280e-01</td>\n",
       "      <td>1.506730e-06</td>\n",
       "      <td>5.101160e-02</td>\n",
       "      <td>2.120980e-05</td>\n",
       "      <td>7.415590e-02</td>\n",
       "      <td>1.770840e-03</td>\n",
       "    </tr>\n",
       "    <tr>\n",
       "      <th>TRBV7-8*02</th>\n",
       "      <td>2.021360e-29</td>\n",
       "      <td>1.720620e-01</td>\n",
       "      <td>0.010937</td>\n",
       "      <td>0.000000</td>\n",
       "      <td>1.351800e-01</td>\n",
       "      <td>9.503270e-02</td>\n",
       "      <td>6.136880e-02</td>\n",
       "      <td>5.184780e-14</td>\n",
       "      <td>0.000674</td>\n",
       "      <td>6.484380e-14</td>\n",
       "      <td>3.477820e-07</td>\n",
       "      <td>0.000000e+00</td>\n",
       "      <td>3.751510e-01</td>\n",
       "      <td>6.230570e-02</td>\n",
       "      <td>8.728950e-02</td>\n",
       "    </tr>\n",
       "    <tr>\n",
       "      <th>TRBV7-9*01</th>\n",
       "      <td>1.241480e-01</td>\n",
       "      <td>4.753740e-02</td>\n",
       "      <td>0.000000</td>\n",
       "      <td>0.078881</td>\n",
       "      <td>1.130660e-01</td>\n",
       "      <td>4.995730e-02</td>\n",
       "      <td>5.203390e-02</td>\n",
       "      <td>1.659020e-01</td>\n",
       "      <td>0.040944</td>\n",
       "      <td>6.684670e-02</td>\n",
       "      <td>2.927350e-02</td>\n",
       "      <td>8.102520e-02</td>\n",
       "      <td>3.521030e-02</td>\n",
       "      <td>5.507860e-02</td>\n",
       "      <td>6.009600e-02</td>\n",
       "    </tr>\n",
       "    <tr>\n",
       "      <th>TRBV7-9*04</th>\n",
       "      <td>1.240420e-01</td>\n",
       "      <td>4.764400e-02</td>\n",
       "      <td>0.000000</td>\n",
       "      <td>0.078916</td>\n",
       "      <td>1.131260e-01</td>\n",
       "      <td>4.995290e-02</td>\n",
       "      <td>5.203060e-02</td>\n",
       "      <td>1.658930e-01</td>\n",
       "      <td>0.040970</td>\n",
       "      <td>6.658430e-02</td>\n",
       "      <td>2.929060e-02</td>\n",
       "      <td>8.105060e-02</td>\n",
       "      <td>3.522160e-02</td>\n",
       "      <td>5.512730e-02</td>\n",
       "      <td>6.015130e-02</td>\n",
       "    </tr>\n",
       "    <tr>\n",
       "      <th>TRBV7-9*05</th>\n",
       "      <td>1.240420e-01</td>\n",
       "      <td>4.764410e-02</td>\n",
       "      <td>0.000000</td>\n",
       "      <td>0.078916</td>\n",
       "      <td>1.131260e-01</td>\n",
       "      <td>4.995290e-02</td>\n",
       "      <td>5.203060e-02</td>\n",
       "      <td>1.658930e-01</td>\n",
       "      <td>0.040970</td>\n",
       "      <td>6.658430e-02</td>\n",
       "      <td>2.929060e-02</td>\n",
       "      <td>8.105060e-02</td>\n",
       "      <td>3.522160e-02</td>\n",
       "      <td>5.512730e-02</td>\n",
       "      <td>6.015130e-02</td>\n",
       "    </tr>\n",
       "    <tr>\n",
       "      <th>TRBV7-9*06</th>\n",
       "      <td>1.240500e-01</td>\n",
       "      <td>4.763940e-02</td>\n",
       "      <td>0.000000</td>\n",
       "      <td>0.078916</td>\n",
       "      <td>1.131270e-01</td>\n",
       "      <td>4.995340e-02</td>\n",
       "      <td>5.202910e-02</td>\n",
       "      <td>1.658920e-01</td>\n",
       "      <td>0.040967</td>\n",
       "      <td>6.659330e-02</td>\n",
       "      <td>2.929050e-02</td>\n",
       "      <td>8.104970e-02</td>\n",
       "      <td>3.521960e-02</td>\n",
       "      <td>5.512540e-02</td>\n",
       "      <td>6.014720e-02</td>\n",
       "    </tr>\n",
       "    <tr>\n",
       "      <th>TRBV7-9*07</th>\n",
       "      <td>3.649410e-06</td>\n",
       "      <td>2.047210e-09</td>\n",
       "      <td>0.000000</td>\n",
       "      <td>0.000153</td>\n",
       "      <td>5.600830e-05</td>\n",
       "      <td>6.087590e-04</td>\n",
       "      <td>6.436710e-04</td>\n",
       "      <td>8.171480e-04</td>\n",
       "      <td>0.004693</td>\n",
       "      <td>2.983040e-01</td>\n",
       "      <td>2.022340e-01</td>\n",
       "      <td>2.829560e-05</td>\n",
       "      <td>3.417280e-01</td>\n",
       "      <td>6.848550e-02</td>\n",
       "      <td>8.224420e-02</td>\n",
       "    </tr>\n",
       "    <tr>\n",
       "      <th>TRBV9*01</th>\n",
       "      <td>1.060770e-01</td>\n",
       "      <td>1.137730e-01</td>\n",
       "      <td>0.040313</td>\n",
       "      <td>0.071517</td>\n",
       "      <td>1.025630e-01</td>\n",
       "      <td>3.798120e-02</td>\n",
       "      <td>3.900760e-02</td>\n",
       "      <td>1.007050e-01</td>\n",
       "      <td>0.057000</td>\n",
       "      <td>6.586450e-02</td>\n",
       "      <td>2.479690e-02</td>\n",
       "      <td>8.852900e-02</td>\n",
       "      <td>2.206790e-02</td>\n",
       "      <td>7.169470e-02</td>\n",
       "      <td>5.811050e-02</td>\n",
       "    </tr>\n",
       "  </tbody>\n",
       "</table>\n",
       "<p>89 rows × 15 columns</p>\n",
       "</div>"
      ],
      "text/plain": [
       "               TRBJ1-1*01    TRBJ1-2*01  TRBJ1-3*01  TRBJ1-4*01    TRBJ1-5*01  \\\n",
       "TRBV1*01     1.285860e-01  1.040030e-01    0.041092    0.012810  1.358050e-01   \n",
       "TRBV10-1*01  1.661260e-01  7.896150e-02    0.011370    0.078291  7.617960e-02   \n",
       "TRBV10-1*02  1.661560e-01  7.901030e-02    0.011374    0.078249  7.624760e-02   \n",
       "TRBV10-1*04  4.617740e-02  2.090470e-01    0.070037    0.027689  1.564730e-01   \n",
       "TRBV10-2*01  1.423330e-01  0.000000e+00    0.141369    0.142328  0.000000e+00   \n",
       "TRBV10-3*01  1.453330e-01  1.318440e-01    0.031117    0.042833  8.187220e-02   \n",
       "TRBV10-3*02  1.705440e-01  1.587910e-01    0.035434    0.053083  7.355640e-02   \n",
       "TRBV11-1*01  1.211920e-01  6.913150e-02    0.000000    0.005208  1.397190e-06   \n",
       "TRBV11-2*01  2.082520e-01  5.205710e-02    0.001359    0.000962  1.934410e-01   \n",
       "TRBV11-2*02  4.095830e-01  0.000000e+00    0.000000    0.000000  0.000000e+00   \n",
       "TRBV11-2*03  1.486270e-02  5.298570e-02    0.010591    0.069275  1.051520e-01   \n",
       "TRBV11-3*01  1.123610e-01  6.079820e-02    0.068396    0.040036  5.590830e-02   \n",
       "TRBV12-1*01  7.003750e-02  0.000000e+00    0.000000    0.070175  0.000000e+00   \n",
       "TRBV12-2*01  1.569370e-01  8.778690e-02    0.000000    0.050324  6.338790e-02   \n",
       "TRBV12-3*01  9.008060e-02  7.932930e-02    0.039324    0.040796  1.035840e-01   \n",
       "TRBV12-4*01  9.009020e-02  7.933230e-02    0.039307    0.040758  1.036240e-01   \n",
       "TRBV12-4*02  1.042290e-01  8.252250e-02    0.049108    0.037710  1.265390e-01   \n",
       "TRBV12-5*01  7.326250e-02  1.056090e-01    0.018370    0.050506  1.137540e-01   \n",
       "TRBV13*01    1.656870e-01  6.216470e-02    0.000000    0.095704  8.565670e-02   \n",
       "TRBV14*01    1.341790e-01  1.195830e-01    0.015752    0.051445  1.000740e-01   \n",
       "TRBV15*01    6.880640e-01  0.000000e+00    0.000000    0.000000  7.617680e-08   \n",
       "TRBV15*02    1.259330e-01  1.060560e-01    0.053327    0.095955  1.244700e-01   \n",
       "TRBV15*03    0.000000e+00  0.000000e+00    0.000000    0.000000  0.000000e+00   \n",
       "TRBV16*01    0.000000e+00  1.000000e+00    0.000000    0.000000  0.000000e+00   \n",
       "TRBV17*01    0.000000e+00  0.000000e+00    0.000000    0.000000  0.000000e+00   \n",
       "TRBV18*01    1.600940e-01  1.002510e-01    0.003168    0.060348  6.854080e-02   \n",
       "TRBV19*01    8.662720e-02  8.087300e-02    0.012594    0.051345  6.432310e-02   \n",
       "TRBV2*01     1.180460e-01  6.165760e-02    0.029265    0.038080  9.198120e-02   \n",
       "TRBV2*03     1.283200e-01  6.795550e-02    0.001814    0.041566  9.965250e-02   \n",
       "TRBV20-1*01  1.169310e-01  9.321250e-02    0.016494    0.056380  9.731570e-02   \n",
       "...                   ...           ...         ...         ...           ...   \n",
       "TRBV6-2*01   1.248410e-01  9.391800e-02    0.012176    0.061704  5.427480e-02   \n",
       "TRBV6-3*01   1.258710e-01  9.699340e-02    0.003887    0.062039  5.539490e-02   \n",
       "TRBV6-4*01   1.013540e-01  1.486640e-01    0.019504    0.062610  8.332870e-02   \n",
       "TRBV6-5*01   1.119200e-01  1.417770e-01    0.031646    0.111652  1.716290e-01   \n",
       "TRBV6-6*01   1.549130e-01  7.437650e-03    0.000107    0.052746  8.360600e-02   \n",
       "TRBV6-6*02   1.549050e-01  7.434920e-03    0.000021    0.052722  8.356250e-02   \n",
       "TRBV6-7*01   9.986320e-02  1.180960e-01    0.039475    0.079012  9.015240e-02   \n",
       "TRBV6-8*01   7.148600e-02  2.018120e-01    0.000000    0.100366  2.780250e-02   \n",
       "TRBV6-9*01   0.000000e+00  0.000000e+00    0.000000    0.000000  0.000000e+00   \n",
       "TRBV7-1*01   5.415420e-26  0.000000e+00    0.746414    0.253175  2.582600e-12   \n",
       "TRBV7-2*01   1.230080e-01  9.557940e-02    0.009041    0.057658  9.496660e-02   \n",
       "TRBV7-2*02   1.230150e-01  9.556620e-02    0.009040    0.057666  9.499000e-02   \n",
       "TRBV7-2*03   0.000000e+00  0.000000e+00    0.000000    0.000000  0.000000e+00   \n",
       "TRBV7-2*05   6.608270e-03  1.332020e-02    0.001330    0.009534  4.471790e-02   \n",
       "TRBV7-3*01   1.191550e-01  1.038670e-01    0.016622    0.058962  9.495910e-02   \n",
       "TRBV7-3*02   0.000000e+00  0.000000e+00    0.000000    0.000000  0.000000e+00   \n",
       "TRBV7-3*03   0.000000e+00  0.000000e+00    0.000000    0.000000  0.000000e+00   \n",
       "TRBV7-3*04   5.088760e-15  8.394330e-34    0.000000    0.004114  2.409390e-08   \n",
       "TRBV7-4*01   1.098330e-01  1.009840e-01    0.029808    0.037373  1.467600e-01   \n",
       "TRBV7-6*01   1.872990e-01  7.401450e-02    0.005267    0.022270  1.105570e-01   \n",
       "TRBV7-7*01   6.440080e-02  1.650860e-01    0.025465    0.038668  2.881680e-02   \n",
       "TRBV7-7*03   1.185660e-01  1.494130e-01    0.005961    0.077779  8.144670e-02   \n",
       "TRBV7-8*01   3.629160e-01  1.472260e-06    0.001184    0.000000  6.583070e-02   \n",
       "TRBV7-8*02   2.021360e-29  1.720620e-01    0.010937    0.000000  1.351800e-01   \n",
       "TRBV7-9*01   1.241480e-01  4.753740e-02    0.000000    0.078881  1.130660e-01   \n",
       "TRBV7-9*04   1.240420e-01  4.764400e-02    0.000000    0.078916  1.131260e-01   \n",
       "TRBV7-9*05   1.240420e-01  4.764410e-02    0.000000    0.078916  1.131260e-01   \n",
       "TRBV7-9*06   1.240500e-01  4.763940e-02    0.000000    0.078916  1.131270e-01   \n",
       "TRBV7-9*07   3.649410e-06  2.047210e-09    0.000000    0.000153  5.600830e-05   \n",
       "TRBV9*01     1.060770e-01  1.137730e-01    0.040313    0.071517  1.025630e-01   \n",
       "\n",
       "               TRBJ1-6*01    TRBJ1-6*02    TRBJ2-1*01  TRBJ2-2*01  \\\n",
       "TRBV1*01     2.381050e-02  6.879080e-03  1.739330e-01    0.080102   \n",
       "TRBV10-1*01  3.417340e-02  3.417280e-02  6.910550e-02    0.072392   \n",
       "TRBV10-1*02  3.418060e-02  3.418400e-02  6.908260e-02    0.072282   \n",
       "TRBV10-1*04  1.805870e-02  1.780010e-02  1.522210e-01    0.025102   \n",
       "TRBV10-2*01  0.000000e+00  0.000000e+00  0.000000e+00    0.000000   \n",
       "TRBV10-3*01  7.553470e-02  1.953760e-03  1.393900e-01    0.042800   \n",
       "TRBV10-3*02  1.581760e-02  2.626480e-03  1.576120e-01    0.053600   \n",
       "TRBV11-1*01  8.419460e-02  9.779880e-02  1.004240e-01    0.000025   \n",
       "TRBV11-2*01  4.686350e-03  4.730330e-03  1.992580e-01    0.020095   \n",
       "TRBV11-2*02  1.014410e-07  1.020890e-07  1.421400e-05    0.000035   \n",
       "TRBV11-2*03  6.480860e-02  6.661960e-02  2.754210e-01    0.118133   \n",
       "TRBV11-3*01  6.337570e-02  6.298150e-02  8.599380e-02    0.061833   \n",
       "TRBV12-1*01  6.593920e-02  7.426670e-02  1.423070e-01    0.069966   \n",
       "TRBV12-2*01  2.983090e-02  3.269330e-02  1.416600e-01    0.062893   \n",
       "TRBV12-3*01  3.707490e-02  3.591900e-02  1.380970e-01    0.044115   \n",
       "TRBV12-4*01  3.706130e-02  3.591250e-02  1.380420e-01    0.044122   \n",
       "TRBV12-4*02  3.302800e-02  3.210430e-02  1.198580e-01    0.051895   \n",
       "TRBV12-5*01  4.875690e-02  1.752230e-03  1.547850e-01    0.064220   \n",
       "TRBV13*01    5.047740e-02  3.326870e-02  1.410380e-01    0.020757   \n",
       "TRBV14*01    5.716950e-02  7.528770e-03  1.614660e-01    0.046559   \n",
       "TRBV15*01    2.068680e-05  2.356810e-05  1.217920e-09    0.000000   \n",
       "TRBV15*02    2.140630e-02  2.138410e-02  7.885090e-02    0.031992   \n",
       "TRBV15*03    0.000000e+00  0.000000e+00  0.000000e+00    0.000000   \n",
       "TRBV16*01    0.000000e+00  0.000000e+00  0.000000e+00    0.000000   \n",
       "TRBV17*01    0.000000e+00  0.000000e+00  0.000000e+00    0.000000   \n",
       "TRBV18*01    5.868910e-02  6.001040e-02  1.102480e-01    0.034223   \n",
       "TRBV19*01    5.709230e-02  5.839830e-02  1.518160e-01    0.029786   \n",
       "TRBV2*01     5.787450e-02  9.593510e-03  1.660410e-01    0.070833   \n",
       "TRBV2*03     1.100150e-02  1.058320e-02  1.789050e-01    0.074859   \n",
       "TRBV20-1*01  2.572820e-02  2.600620e-02  1.373330e-01    0.059772   \n",
       "...                   ...           ...           ...         ...   \n",
       "TRBV6-2*01   4.777800e-02  5.229160e-02  8.035290e-02    0.062973   \n",
       "TRBV6-3*01   4.791650e-02  5.249920e-02  7.985620e-02    0.063475   \n",
       "TRBV6-4*01   4.123040e-02  4.083740e-02  1.459940e-01    0.054284   \n",
       "TRBV6-5*01   3.316480e-02  3.209910e-02  4.345530e-02    0.025497   \n",
       "TRBV6-6*01   2.816660e-02  2.672250e-02  2.989340e-01    0.058435   \n",
       "TRBV6-6*02   2.816250e-02  2.671730e-02  2.990000e-01    0.058447   \n",
       "TRBV6-7*01   5.318750e-02  8.816390e-03  1.273150e-01    0.060964   \n",
       "TRBV6-8*01   9.216530e-19  2.777580e-22  8.754040e-09    0.000000   \n",
       "TRBV6-9*01   0.000000e+00  0.000000e+00  0.000000e+00    0.000000   \n",
       "TRBV7-1*01   7.559770e-13  8.183030e-13  2.111640e-28    0.000407   \n",
       "TRBV7-2*01   2.786640e-02  2.738110e-02  1.060620e-01    0.038718   \n",
       "TRBV7-2*02   2.786990e-02  2.738560e-02  1.060490e-01    0.038723   \n",
       "TRBV7-2*03   0.000000e+00  0.000000e+00  0.000000e+00    0.000000   \n",
       "TRBV7-2*05   2.520040e-02  2.543750e-02  5.579460e-02    0.258917   \n",
       "TRBV7-3*01   3.646390e-02  3.519410e-02  1.475070e-01    0.062335   \n",
       "TRBV7-3*02   0.000000e+00  0.000000e+00  0.000000e+00    0.000000   \n",
       "TRBV7-3*03   0.000000e+00  0.000000e+00  0.000000e+00    0.000000   \n",
       "TRBV7-3*04   6.127740e-12  6.954040e-12  2.038120e-14    0.000142   \n",
       "TRBV7-4*01   2.528620e-02  2.468270e-02  1.372440e-01    0.042542   \n",
       "TRBV7-6*01   1.020300e-01  2.597410e-04  9.640030e-02    0.032334   \n",
       "TRBV7-7*01   5.966500e-02  2.669760e-03  1.971930e-01    0.082438   \n",
       "TRBV7-7*03   2.739580e-02  8.259730e-03  1.587430e-01    0.041962   \n",
       "TRBV7-8*01   5.869630e-07  4.906710e-07  1.419830e-01    0.125895   \n",
       "TRBV7-8*02   9.503270e-02  6.136880e-02  5.184780e-14    0.000674   \n",
       "TRBV7-9*01   4.995730e-02  5.203390e-02  1.659020e-01    0.040944   \n",
       "TRBV7-9*04   4.995290e-02  5.203060e-02  1.658930e-01    0.040970   \n",
       "TRBV7-9*05   4.995290e-02  5.203060e-02  1.658930e-01    0.040970   \n",
       "TRBV7-9*06   4.995340e-02  5.202910e-02  1.658920e-01    0.040967   \n",
       "TRBV7-9*07   6.087590e-04  6.436710e-04  8.171480e-04    0.004693   \n",
       "TRBV9*01     3.798120e-02  3.900760e-02  1.007050e-01    0.057000   \n",
       "\n",
       "               TRBJ2-3*01    TRBJ2-4*01    TRBJ2-5*01    TRBJ2-6*01  \\\n",
       "TRBV1*01     9.060060e-02  3.000290e-02  8.142200e-02  0.000000e+00   \n",
       "TRBV10-1*01  1.267560e-01  2.495220e-02  6.339350e-02  2.460740e-02   \n",
       "TRBV10-1*02  1.267240e-01  2.498430e-02  6.340040e-02  2.453540e-02   \n",
       "TRBV10-1*04  9.714850e-02  9.188550e-03  7.073890e-02  9.944480e-03   \n",
       "TRBV10-2*01  2.894850e-01  0.000000e+00  2.844850e-01  0.000000e+00   \n",
       "TRBV10-3*01  1.039300e-01  1.578060e-02  7.958960e-02  2.217750e-02   \n",
       "TRBV10-3*02  1.089120e-01  0.000000e+00  7.852930e-02  1.784300e-03   \n",
       "TRBV11-1*01  3.407990e-01  1.514370e-10  1.811800e-01  4.469680e-07   \n",
       "TRBV11-2*01  1.453810e-01  1.668800e-03  7.008750e-02  5.037820e-02   \n",
       "TRBV11-2*02  5.900340e-01  0.000000e+00  3.128540e-06  3.306850e-04   \n",
       "TRBV11-2*03  1.130350e-01  1.582810e-02  1.052530e-03  1.291530e-02   \n",
       "TRBV11-3*01  1.649560e-01  3.646080e-02  9.315120e-02  3.541050e-04   \n",
       "TRBV12-1*01  2.279620e-01  0.000000e+00  2.109610e-01  0.000000e+00   \n",
       "TRBV12-2*01  1.260320e-01  1.885160e-02  8.180120e-02  5.704000e-02   \n",
       "TRBV12-3*01  7.222620e-02  1.108730e-02  8.888920e-02  1.264600e-02   \n",
       "TRBV12-4*01  7.224990e-02  1.109630e-02  8.889140e-02  1.265600e-02   \n",
       "TRBV12-4*02  7.760190e-02  1.756840e-02  7.519540e-02  2.312460e-02   \n",
       "TRBV12-5*01  9.201860e-02  1.966680e-02  7.247780e-02  4.587180e-03   \n",
       "TRBV13*01    1.110060e-01  2.063770e-02  6.431410e-02  4.932770e-14   \n",
       "TRBV14*01    8.385860e-02  1.430470e-02  5.172610e-02  6.394790e-03   \n",
       "TRBV15*01    7.047600e-12  3.118920e-01  0.000000e+00  0.000000e+00   \n",
       "TRBV15*02    1.280460e-01  1.066240e-02  3.199150e-02  0.000000e+00   \n",
       "TRBV15*03    0.000000e+00  0.000000e+00  0.000000e+00  0.000000e+00   \n",
       "TRBV16*01    0.000000e+00  0.000000e+00  0.000000e+00  0.000000e+00   \n",
       "TRBV17*01    0.000000e+00  0.000000e+00  0.000000e+00  0.000000e+00   \n",
       "TRBV18*01    1.201400e-01  2.180970e-02  5.433620e-02  1.901090e-02   \n",
       "TRBV19*01    1.226650e-01  3.041530e-02  8.499280e-02  2.086580e-02   \n",
       "TRBV2*01     8.384260e-02  1.975050e-02  7.345590e-02  1.483620e-02   \n",
       "TRBV2*03     8.886440e-02  2.213940e-02  8.038980e-02  1.524530e-02   \n",
       "TRBV20-1*01  1.069850e-01  1.886410e-02  8.434640e-02  1.376340e-02   \n",
       "...                   ...           ...           ...           ...   \n",
       "TRBV6-2*01   1.352050e-01  3.508190e-02  7.395740e-02  2.979270e-02   \n",
       "TRBV6-3*01   1.365320e-01  3.556710e-02  7.251810e-02  3.022490e-02   \n",
       "TRBV6-4*01   9.458320e-02  2.777950e-02  3.810880e-02  2.628980e-02   \n",
       "TRBV6-5*01   1.158430e-01  5.182890e-03  5.025800e-02  3.142150e-03   \n",
       "TRBV6-6*01   5.900530e-02  4.605500e-03  4.309420e-02  8.193780e-02   \n",
       "TRBV6-6*02   5.901780e-02  4.598380e-03  4.306170e-02  8.208630e-02   \n",
       "TRBV6-7*01   9.152040e-02  1.822980e-02  3.924620e-02  1.648380e-27   \n",
       "TRBV6-8*01   9.373330e-02  1.011010e-01  2.019770e-01  1.009790e-01   \n",
       "TRBV6-9*01   1.000000e+00  0.000000e+00  0.000000e+00  0.000000e+00   \n",
       "TRBV7-1*01   1.263420e-19  9.503900e-07  0.000000e+00  3.591420e-06   \n",
       "TRBV7-2*01   9.520190e-02  3.239190e-02  8.680600e-02  2.007190e-02   \n",
       "TRBV7-2*02   9.520200e-02  3.239010e-02  8.679280e-02  2.007390e-02   \n",
       "TRBV7-2*03   0.000000e+00  0.000000e+00  0.000000e+00  0.000000e+00   \n",
       "TRBV7-2*05   3.781530e-01  7.606200e-02  1.016370e-01  5.690620e-04   \n",
       "TRBV7-3*01   1.006930e-01  1.363270e-02  6.334870e-02  1.661980e-02   \n",
       "TRBV7-3*02   0.000000e+00  0.000000e+00  0.000000e+00  0.000000e+00   \n",
       "TRBV7-3*03   0.000000e+00  0.000000e+00  0.000000e+00  0.000000e+00   \n",
       "TRBV7-3*04   2.014130e-10  2.351570e-08  5.305610e-12  9.957450e-01   \n",
       "TRBV7-4*01   8.791840e-02  1.988760e-02  7.680170e-02  8.837780e-03   \n",
       "TRBV7-6*01   1.327220e-01  2.899750e-02  5.027970e-02  2.288360e-02   \n",
       "TRBV7-7*01   6.584100e-02  0.000000e+00  6.168820e-02  2.195170e-02   \n",
       "TRBV7-7*03   1.012390e-01  1.790820e-02  7.756190e-02  2.653030e-02   \n",
       "TRBV7-8*01   1.752280e-01  1.506730e-06  5.101160e-02  2.120980e-05   \n",
       "TRBV7-8*02   6.484380e-14  3.477820e-07  0.000000e+00  3.751510e-01   \n",
       "TRBV7-9*01   6.684670e-02  2.927350e-02  8.102520e-02  3.521030e-02   \n",
       "TRBV7-9*04   6.658430e-02  2.929060e-02  8.105060e-02  3.522160e-02   \n",
       "TRBV7-9*05   6.658430e-02  2.929060e-02  8.105060e-02  3.522160e-02   \n",
       "TRBV7-9*06   6.659330e-02  2.929050e-02  8.104970e-02  3.521960e-02   \n",
       "TRBV7-9*07   2.983040e-01  2.022340e-01  2.829560e-05  3.417280e-01   \n",
       "TRBV9*01     6.586450e-02  2.479690e-02  8.852900e-02  2.206790e-02   \n",
       "\n",
       "               TRBJ2-7*01    TRBJ2-7*02  \n",
       "TRBV1*01     5.363640e-02  3.731860e-02  \n",
       "TRBV10-1*01  6.490490e-02  7.461400e-02  \n",
       "TRBV10-1*02  6.493340e-02  7.465540e-02  \n",
       "TRBV10-1*04  4.302230e-02  4.735280e-02  \n",
       "TRBV10-2*01  0.000000e+00  0.000000e+00  \n",
       "TRBV10-3*01  4.041580e-02  4.542880e-02  \n",
       "TRBV10-3*02  4.243530e-02  4.727440e-02  \n",
       "TRBV11-1*01  2.122490e-05  2.371980e-05  \n",
       "TRBV11-2*01  2.319130e-02  2.445290e-02  \n",
       "TRBV11-2*02  0.000000e+00  0.000000e+00  \n",
       "TRBV11-2*03  3.865650e-02  4.066410e-02  \n",
       "TRBV11-3*01  4.599000e-02  4.740480e-02  \n",
       "TRBV12-1*01  3.980250e-02  2.858340e-02  \n",
       "TRBV12-2*01  4.679480e-02  4.396790e-02  \n",
       "TRBV12-3*01  9.979930e-02  1.070320e-01  \n",
       "TRBV12-4*01  9.980450e-02  1.070520e-01  \n",
       "TRBV12-4*02  8.153310e-02  8.798300e-02  \n",
       "TRBV12-5*01  8.713090e-02  9.310380e-02  \n",
       "TRBV13*01    1.254230e-01  2.386600e-02  \n",
       "TRBV14*01    8.539410e-02  6.456690e-02  \n",
       "TRBV15*01    0.000000e+00  0.000000e+00  \n",
       "TRBV15*02    7.942910e-02  9.049580e-02  \n",
       "TRBV15*03    0.000000e+00  0.000000e+00  \n",
       "TRBV16*01    0.000000e+00  0.000000e+00  \n",
       "TRBV17*01    0.000000e+00  0.000000e+00  \n",
       "TRBV18*01    6.049070e-02  6.864000e-02  \n",
       "TRBV19*01    7.000980e-02  7.819690e-02  \n",
       "TRBV2*01     8.418170e-02  8.056030e-02  \n",
       "TRBV2*03     9.141180e-02  8.729150e-02  \n",
       "TRBV20-1*01  7.355840e-02  7.331000e-02  \n",
       "...                   ...           ...  \n",
       "TRBV6-2*01   6.326470e-02  7.238810e-02  \n",
       "TRBV6-3*01   6.397400e-02  7.325240e-02  \n",
       "TRBV6-4*01   5.387760e-02  6.155350e-02  \n",
       "TRBV6-5*01   6.341280e-02  5.932210e-02  \n",
       "TRBV6-6*01   5.190660e-02  4.838250e-02  \n",
       "TRBV6-6*02   5.189310e-02  4.837050e-02  \n",
       "TRBV6-7*01   8.433040e-02  8.979170e-02  \n",
       "TRBV6-8*01   5.747000e-02  4.327270e-02  \n",
       "TRBV6-9*01   0.000000e+00  0.000000e+00  \n",
       "TRBV7-1*01   3.076780e-10  4.468490e-10  \n",
       "TRBV7-2*01   1.025960e-01  8.265200e-02  \n",
       "TRBV7-2*02   1.025880e-01  8.264870e-02  \n",
       "TRBV7-2*03   0.000000e+00  0.000000e+00  \n",
       "TRBV7-2*05   1.325660e-03  1.393830e-03  \n",
       "TRBV7-3*01   7.143060e-02  5.921090e-02  \n",
       "TRBV7-3*02   0.000000e+00  0.000000e+00  \n",
       "TRBV7-3*03   0.000000e+00  0.000000e+00  \n",
       "TRBV7-3*04   4.438020e-15  3.769110e-15  \n",
       "TRBV7-4*01   7.644940e-02  7.559220e-02  \n",
       "TRBV7-6*01   6.154360e-02  7.314170e-02  \n",
       "TRBV7-7*01   9.906560e-02  8.705060e-02  \n",
       "TRBV7-7*03   5.158440e-02  5.564840e-02  \n",
       "TRBV7-8*01   7.415590e-02  1.770840e-03  \n",
       "TRBV7-8*02   6.230570e-02  8.728950e-02  \n",
       "TRBV7-9*01   5.507860e-02  6.009600e-02  \n",
       "TRBV7-9*04   5.512730e-02  6.015130e-02  \n",
       "TRBV7-9*05   5.512730e-02  6.015130e-02  \n",
       "TRBV7-9*06   5.512540e-02  6.014720e-02  \n",
       "TRBV7-9*07   6.848550e-02  8.224420e-02  \n",
       "TRBV9*01     7.169470e-02  5.811050e-02  \n",
       "\n",
       "[89 rows x 15 columns]"
      ]
     },
     "execution_count": 32,
     "metadata": {},
     "output_type": "execute_result"
    }
   ],
   "source": [
    "#!head myeditedmodel.txt\n",
    "import pygor3 as p3\n",
    "import pandas as pd\n",
    "mdl = p3.IgorModel.load_default(\"human\", \"tcr_beta\")\n",
    "strEvent='j_choice'\n",
    "da = mdl.xdata[strEvent]\n",
    "df = pd.DataFrame(data=da.values, index=da['lbl__'+'v_choice'].values, columns=da['lbl__'+'j_choice'].values)\n",
    "df"
   ]
  },
  {
   "cell_type": "code",
   "execution_count": 25,
   "metadata": {},
   "outputs": [
    {
     "data": {
      "text/plain": [
       "array(['TRBV1*01', 'TRBV10-1*01', 'TRBV10-1*02', 'TRBV10-1*04',\n",
       "       'TRBV10-2*01', 'TRBV10-3*01', 'TRBV10-3*02', 'TRBV11-1*01',\n",
       "       'TRBV11-2*01', 'TRBV11-2*02', 'TRBV11-2*03', 'TRBV11-3*01',\n",
       "       'TRBV12-1*01', 'TRBV12-2*01', 'TRBV12-3*01', 'TRBV12-4*01',\n",
       "       'TRBV12-4*02', 'TRBV12-5*01', 'TRBV13*01', 'TRBV14*01',\n",
       "       'TRBV15*01', 'TRBV15*02', 'TRBV15*03', 'TRBV16*01', 'TRBV17*01',\n",
       "       'TRBV18*01', 'TRBV19*01', 'TRBV2*01', 'TRBV2*03', 'TRBV20-1*01',\n",
       "       'TRBV23-1*01', 'TRBV24-1*01', 'TRBV25-1*01', 'TRBV26*01',\n",
       "       'TRBV27*01', 'TRBV28*01', 'TRBV29-1*01', 'TRBV29-1*02',\n",
       "       'TRBV3-1*01', 'TRBV3-1*02', 'TRBV3-2*01', 'TRBV3-2*02',\n",
       "       'TRBV30*01', 'TRBV30*02', 'TRBV30*04', 'TRBV4-1*01', 'TRBV4-2*01',\n",
       "       'TRBV4-3*01', 'TRBV4-3*02', 'TRBV5-1*01', 'TRBV5-3*01',\n",
       "       'TRBV5-3*02', 'TRBV5-4*01', 'TRBV5-4*02', 'TRBV5-5*01',\n",
       "       'TRBV5-6*01', 'TRBV5-7*01', 'TRBV5-8*01', 'TRBV6-1*01',\n",
       "       'TRBV6-2*01', 'TRBV6-3*01', 'TRBV6-4*01', 'TRBV6-5*01',\n",
       "       'TRBV6-6*01', 'TRBV6-6*02', 'TRBV6-7*01', 'TRBV6-8*01',\n",
       "       'TRBV6-9*01', 'TRBV7-1*01', 'TRBV7-2*01', 'TRBV7-2*02',\n",
       "       'TRBV7-2*03', 'TRBV7-2*05', 'TRBV7-3*01', 'TRBV7-3*02',\n",
       "       'TRBV7-3*03', 'TRBV7-3*04', 'TRBV7-4*01', 'TRBV7-6*01',\n",
       "       'TRBV7-7*01', 'TRBV7-7*03', 'TRBV7-8*01', 'TRBV7-8*02',\n",
       "       'TRBV7-9*01', 'TRBV7-9*04', 'TRBV7-9*05', 'TRBV7-9*06',\n",
       "       'TRBV7-9*07', 'TRBV9*01'], dtype=object)"
      ]
     },
     "execution_count": 25,
     "metadata": {},
     "output_type": "execute_result"
    }
   ],
   "source": [
    "da['lbl__'+'v_choice'].values"
   ]
  },
  {
   "cell_type": "code",
   "execution_count": 19,
   "metadata": {},
   "outputs": [
    {
     "data": {
      "text/plain": [
       "<xarray.DataArray (v_choice: 89, j_choice: 15)>\n",
       "array([[1.28586e-01, 1.04003e-01, 4.10916e-02, ..., 0.00000e+00, 5.36364e-02,\n",
       "        3.73186e-02],\n",
       "       [1.66126e-01, 7.89615e-02, 1.13701e-02, ..., 2.46074e-02, 6.49049e-02,\n",
       "        7.46140e-02],\n",
       "       [1.66156e-01, 7.90103e-02, 1.13744e-02, ..., 2.45354e-02, 6.49334e-02,\n",
       "        7.46554e-02],\n",
       "       ...,\n",
       "       [1.24050e-01, 4.76394e-02, 0.00000e+00, ..., 3.52196e-02, 5.51254e-02,\n",
       "        6.01472e-02],\n",
       "       [3.64941e-06, 2.04721e-09, 0.00000e+00, ..., 3.41728e-01, 6.84855e-02,\n",
       "        8.22442e-02],\n",
       "       [1.06077e-01, 1.13773e-01, 4.03129e-02, ..., 2.20679e-02, 7.16947e-02,\n",
       "        5.81105e-02]])\n",
       "Coordinates:\n",
       "    priority       int64 7\n",
       "  * v_choice       (v_choice) int64 0 1 2 3 4 5 6 7 ... 81 82 83 84 85 86 87 88\n",
       "    lbl__v_choice  (v_choice) object 'TRBV1*01' 'TRBV10-1*01' ... 'TRBV9*01'\n",
       "  * j_choice       (j_choice) int64 0 1 2 3 4 5 6 7 8 9 10 11 12 13 14\n",
       "    lbl__j_choice  (j_choice) object 'TRBJ1-1*01' 'TRBJ1-2*01' ... 'TRBJ2-7*02'"
      ]
     },
     "execution_count": 19,
     "metadata": {},
     "output_type": "execute_result"
    }
   ],
   "source": [
    "df = pd.DataFrame(data=da.values, index=da['lbl__'+'v_choice'].values, columns=da['lbl__'+'j_choice'].values)"
   ]
  },
  {
   "cell_type": "code",
   "execution_count": 3,
   "metadata": {},
   "outputs": [
    {
     "ename": "NameError",
     "evalue": "name '__file__' is not defined",
     "output_type": "error",
     "traceback": [
      "\u001b[0;31m---------------------------------------------------------------------------\u001b[0m",
      "\u001b[0;31mNameError\u001b[0m                                 Traceback (most recent call last)",
      "\u001b[0;32m<ipython-input-3-3d08a3920fe3>\u001b[0m in \u001b[0;36m<module>\u001b[0;34m\u001b[0m\n\u001b[1;32m      1\u001b[0m \u001b[0;32mimport\u001b[0m \u001b[0mos\u001b[0m\u001b[0;34m.\u001b[0m\u001b[0mpath\u001b[0m\u001b[0;34m\u001b[0m\u001b[0;34m\u001b[0m\u001b[0m\n\u001b[0;32m----> 2\u001b[0;31m \u001b[0mA\u001b[0m \u001b[0;34m=\u001b[0m \u001b[0mos\u001b[0m\u001b[0;34m.\u001b[0m\u001b[0mpath\u001b[0m\u001b[0;34m.\u001b[0m\u001b[0mjoin\u001b[0m\u001b[0;34m(\u001b[0m\u001b[0mos\u001b[0m\u001b[0;34m.\u001b[0m\u001b[0mpath\u001b[0m\u001b[0;34m.\u001b[0m\u001b[0mdirname\u001b[0m\u001b[0;34m(\u001b[0m\u001b[0m__file__\u001b[0m\u001b[0;34m)\u001b[0m\u001b[0;34m,\u001b[0m \u001b[0;34m'..'\u001b[0m\u001b[0;34m)\u001b[0m\u001b[0;34m\u001b[0m\u001b[0;34m\u001b[0m\u001b[0m\n\u001b[0m",
      "\u001b[0;31mNameError\u001b[0m: name '__file__' is not defined"
     ]
    }
   ],
   "source": []
  },
  {
   "cell_type": "code",
   "execution_count": 1,
   "metadata": {},
   "outputs": [],
   "source": [
    "import pygor3 as p3"
   ]
  },
  {
   "cell_type": "code",
   "execution_count": 3,
   "metadata": {},
   "outputs": [
    {
     "name": "stdout",
     "output_type": "stream",
     "text": [
      "/home/alfaceor/Dropbox/PosDoc/IGoR/dev/MyGithub/IGoR/share/igor\n"
     ]
    }
   ],
   "source": [
    "task = p3.IgorTask()"
   ]
  },
  {
   "cell_type": "code",
   "execution_count": 4,
   "metadata": {},
   "outputs": [
    {
     "name": "stdout",
     "output_type": "stream",
     "text": [
      "/home/alfaceor/Dropbox/PosDoc/IGoR/dev/MyGithub/IGoR/share/igor\n",
      "/home/alfaceor/.local/bin/igor -set_wd /home/alfaceor/Dropbox/PosDoc/IGoR/dev/MyGithub/pygor3 -batch CCC -read_seqs data_test/SmallSequences.txt\n",
      "Batch name set to: CCC_\n",
      "TXT extension detected for the input sequence file\n",
      "Working directory set to: \"/home/alfaceor/Dropbox/PosDoc/IGoR/dev/MyGithub/pygor3/\"\n",
      "mkdir: cannot create directory ‘/home/alfaceor/Dropbox/PosDoc/IGoR/dev/MyGithub/pygor3/aligns’: File exists\n",
      "\n",
      "\n",
      "/home/alfaceor/.local/bin/igor -set_wd /home/alfaceor/Dropbox/PosDoc/IGoR/dev/MyGithub/pygor3 -batch CCC -species human -chain beta -align  --all  \n",
      "Batch name set to: CCC_\n",
      "Species parameter set to: human\n",
      "Chain parameter set to: beta\n",
      "Working directory set to: \"/home/alfaceor/Dropbox/PosDoc/IGoR/dev/MyGithub/pygor3/\"\n",
      "Performing V alignments....\n",
      "V_gene alignments [||||||||||||||||||||||||||||||||||||||||||||||||||]  Done. \n",
      "Performing D alignments....\n",
      "D_gene alignments [||||||||||||||||||||||||||||||||||||||||||||||||||]  Done. \n",
      "Performing J alignments....\n",
      "J_gene alignments [||||||||||||||||||||||||||||||||||||||||||||||||||]  Done. \n",
      "Performing CDR3 sequence extraction ....\n",
      "\n",
      "\n",
      "\n",
      "/home/alfaceor/.local/bin/igor -set_wd /home/alfaceor/Dropbox/PosDoc/IGoR/dev/MyGithub/pygor3 -batch CCC -species human -chain beta -evaluate -output  --scenarios 5  --Pgen  \n",
      "Parms filename:  /home/alfaceor/Dropbox/PosDoc/IGoR/dev/MyGithub/IGoR/share/igor/models//human/tcr_beta/models/model_parms.txt\n",
      "Margs filename:  /home/alfaceor/Dropbox/PosDoc/IGoR/dev/MyGithub/IGoR/share/igor/models//human/tcr_beta/models/model_marginals.txt\n",
      "--------------------------------------------------\n",
      "Batch name set to: CCC_\n",
      "Species parameter set to: human\n",
      "Chain parameter set to: beta\n",
      "Working directory set to: \"/home/alfaceor/Dropbox/PosDoc/IGoR/dev/MyGithub/pygor3/\"\n",
      "Read some model parms\n",
      "GeneChoice read\n",
      "GeneChoice read\n",
      "GeneChoice read\n",
      "Deletion read\n",
      "Deletion read\n",
      "Deletion read\n",
      "Deletion read\n",
      "Insertion read\n",
      "Insertion read\n",
      "DinucMarkov read\n",
      "DinucMarkov read\n",
      "Performing Evaluate/Inference iteration 1\n",
      "Initializing probability bounds...\n",
      "Initialization of probability bounds over.\n",
      "Iteration 1 [||||||||||||||||||||||||||||||||||||||||||||||||||]  Done. \n"
     ]
    }
   ],
   "source": [
    "import pygor3 as p3\n",
    "task = p3.IgorTask()\n",
    "task.igor_read_seqs = \"data_test/SmallSequences.txt\"\n",
    "task.igor_batchname = \"CCC\"\n",
    "task.igor_specie = \"human\"\n",
    "task.igor_chain = \"beta\"\n",
    "task.run_evaluate()"
   ]
  },
  {
   "cell_type": "code",
   "execution_count": 9,
   "metadata": {},
   "outputs": [
    {
     "ename": "KeyError",
     "evalue": "'evaluate_infer_final_parms'",
     "output_type": "error",
     "traceback": [
      "\u001b[0;31m---------------------------------------------------------------------------\u001b[0m",
      "\u001b[0;31mKeyError\u001b[0m                                  Traceback (most recent call last)",
      "\u001b[0;32m<ipython-input-9-e32b1538cd27>\u001b[0m in \u001b[0;36m<module>\u001b[0;34m\u001b[0m\n\u001b[0;32m----> 1\u001b[0;31m \u001b[0mtask\u001b[0m\u001b[0;34m.\u001b[0m\u001b[0mupdate_batch_filenames\u001b[0m\u001b[0;34m(\u001b[0m\u001b[0;34m)\u001b[0m\u001b[0;34m\u001b[0m\u001b[0;34m\u001b[0m\u001b[0m\n\u001b[0m",
      "\u001b[0;32m~/Dropbox/PosDoc/IGoR/dev/MyGithub/pygor3/pygor3/IgorIO.py\u001b[0m in \u001b[0;36mupdate_batch_filenames\u001b[0;34m(self)\u001b[0m\n\u001b[1;32m    312\u001b[0m         \u001b[0mself\u001b[0m\u001b[0;34m.\u001b[0m\u001b[0migor_fln_evaluate_final_marginals\u001b[0m \u001b[0;34m=\u001b[0m \u001b[0mtmpstr\u001b[0m \u001b[0;34m+\u001b[0m \u001b[0;34m\"final_marginals.txt\"\u001b[0m\u001b[0;34m\u001b[0m\u001b[0;34m\u001b[0m\u001b[0m\n\u001b[1;32m    313\u001b[0m \u001b[0;34m\u001b[0m\u001b[0m\n\u001b[0;32m--> 314\u001b[0;31m         \u001b[0;31m# output\u001b[0m\u001b[0;34m\u001b[0m\u001b[0;34m\u001b[0m\u001b[0;34m\u001b[0m\u001b[0m\n\u001b[0m\u001b[1;32m    315\u001b[0m         \u001b[0mtmpstr\u001b[0m \u001b[0;34m=\u001b[0m \u001b[0mself\u001b[0m\u001b[0;34m.\u001b[0m\u001b[0migor_wd\u001b[0m \u001b[0;34m+\u001b[0m \u001b[0;34m\"/\"\u001b[0m \u001b[0;34m+\u001b[0m \u001b[0mself\u001b[0m\u001b[0;34m.\u001b[0m\u001b[0migor_batchname\u001b[0m \u001b[0;34m+\u001b[0m \u001b[0;34m\"_output/\"\u001b[0m\u001b[0;34m\u001b[0m\u001b[0;34m\u001b[0m\u001b[0m\n\u001b[1;32m    316\u001b[0m         \u001b[0mself\u001b[0m\u001b[0;34m.\u001b[0m\u001b[0migor_fln_output_pgen\u001b[0m \u001b[0;34m=\u001b[0m \u001b[0mtmpstr\u001b[0m \u001b[0;34m+\u001b[0m \u001b[0;34m\"Pgen_counts.csv\"\u001b[0m\u001b[0;34m\u001b[0m\u001b[0;34m\u001b[0m\u001b[0m\n",
      "\u001b[0;31mKeyError\u001b[0m: 'evaluate_infer_final_parms'"
     ]
    }
   ],
   "source": [
    "task.update_batch_filenames()"
   ]
  },
  {
   "cell_type": "code",
   "execution_count": 2,
   "metadata": {},
   "outputs": [
    {
     "name": "stdout",
     "output_type": "stream",
     "text": [
      "/home/alfaceor/Dropbox/PosDoc/IGoR/dev/MyGithub/IGoR/share/igor\n",
      "/home/alfaceor/Dropbox/PosDoc/IGoR/dev/MyGithub/IGoR/share/igor\n"
     ]
    }
   ],
   "source": []
  },
  {
   "cell_type": "code",
   "execution_count": 3,
   "metadata": {},
   "outputs": [
    {
     "data": {
      "text/plain": [
       "<pygor3.IgorIO.IgorTask at 0x7f19ed37e790>"
      ]
     },
     "execution_count": 3,
     "metadata": {},
     "output_type": "execute_result"
    }
   ],
   "source": [
    "task"
   ]
  },
  {
   "cell_type": "code",
   "execution_count": null,
   "metadata": {},
   "outputs": [],
   "source": []
  }
 ],
 "metadata": {
  "kernelspec": {
   "display_name": "Python 3",
   "language": "python",
   "name": "python3"
  },
  "language_info": {
   "codemirror_mode": {
    "name": "ipython",
    "version": 3
   },
   "file_extension": ".py",
   "mimetype": "text/x-python",
   "name": "python",
   "nbconvert_exporter": "python",
   "pygments_lexer": "ipython3",
   "version": "3.7.6"
  }
 },
 "nbformat": 4,
 "nbformat_minor": 4
}
